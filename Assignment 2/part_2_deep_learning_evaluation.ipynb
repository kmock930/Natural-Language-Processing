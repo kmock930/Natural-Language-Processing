{
 "cells": [
  {
   "cell_type": "markdown",
   "metadata": {},
   "source": [
    "# Evaluating a Classifier based on deep learning"
   ]
  },
  {
   "cell_type": "markdown",
   "metadata": {},
   "source": [
    "Codes in this notebook are executed on a Linux-based virtual machine with the following **computational requirements**:\n",
    "* GPU:  RTX2080 Super\n",
    "* vCPU:  8 \n",
    "* CPU Memory: 48GB \n",
    "* GPU Memory: 8GB"
   ]
  },
  {
   "cell_type": "markdown",
   "metadata": {},
   "source": [
    "## Import necessary dependencies and data"
   ]
  },
  {
   "cell_type": "code",
   "execution_count": 1,
   "metadata": {},
   "outputs": [
    {
     "name": "stderr",
     "output_type": "stream",
     "text": [
      "2025-03-07 00:16:03.874928: E external/local_xla/xla/stream_executor/cuda/cuda_fft.cc:477] Unable to register cuFFT factory: Attempting to register factory for plugin cuFFT when one has already been registered\n",
      "WARNING: All log messages before absl::InitializeLog() is called are written to STDERR\n",
      "E0000 00:00:1741324563.901833  271035 cuda_dnn.cc:8310] Unable to register cuDNN factory: Attempting to register factory for plugin cuDNN when one has already been registered\n",
      "E0000 00:00:1741324563.910017  271035 cuda_blas.cc:1418] Unable to register cuBLAS factory: Attempting to register factory for plugin cuBLAS when one has already been registered\n",
      "2025-03-07 00:16:03.941618: I tensorflow/core/platform/cpu_feature_guard.cc:210] This TensorFlow binary is optimized to use available CPU instructions in performance-critical operations.\n",
      "To enable the following instructions: AVX2 FMA, in other operations, rebuild TensorFlow with the appropriate compiler flags.\n"
     ]
    }
   ],
   "source": [
    "import os\n",
    "from sklearn.metrics import accuracy_score, f1_score\n",
    "import numpy as np\n",
    "import tensorflow as tf"
   ]
  },
  {
   "cell_type": "code",
   "execution_count": 7,
   "metadata": {},
   "outputs": [
    {
     "name": "stdout",
     "output_type": "stream",
     "text": [
      "Model file exists inside the directory.\n",
      "Error loading model: No model config found in the file at models/model_deep_learning_distilBERT/tf_model.h5.\n"
     ]
    }
   ],
   "source": [
    "# Load the Model\n",
    "model_path = 'models/model_deep_learning_distilBERT'\n",
    "\n",
    "if os.path.exists(model_path):\n",
    "    if os.path.isdir(model_path):\n",
    "        files = os.listdir(model_path)\n",
    "        for file in files:\n",
    "            if file.endswith('.h5'):\n",
    "                print(\"Model file exists inside the directory.\")\n",
    "                try:\n",
    "                    model = tf.keras.models.load_model(os.path.join(model_path, file))\n",
    "                    model.summary()\n",
    "                except ValueError as e:\n",
    "                    print(f\"Error loading model: {e}\")\n",
    "                break\n",
    "        else:\n",
    "            print(\"Model file does not exist inside the directory.\")\n",
    "    else:\n",
    "        print(\"Model path is a file.\")\n",
    "else:\n",
    "    print(\"Model path does not exist.\")"
   ]
  },
  {
   "cell_type": "code",
   "execution_count": null,
   "metadata": {},
   "outputs": [],
   "source": []
  }
 ],
 "metadata": {
  "kernelspec": {
   "display_name": "Python 3",
   "language": "python",
   "name": "python3"
  },
  "language_info": {
   "codemirror_mode": {
    "name": "ipython",
    "version": 3
   },
   "file_extension": ".py",
   "mimetype": "text/x-python",
   "name": "python",
   "nbconvert_exporter": "python",
   "pygments_lexer": "ipython3",
   "version": "3.10.12"
  }
 },
 "nbformat": 4,
 "nbformat_minor": 2
}

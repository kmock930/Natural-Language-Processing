{
 "cells": [
  {
   "cell_type": "markdown",
   "metadata": {},
   "source": [
    "# Part 1 - Corpus processing (legal text): tokenization and word counting"
   ]
  },
  {
   "cell_type": "markdown",
   "metadata": {},
   "source": [
    "## Import Relevant Modules"
   ]
  },
  {
   "cell_type": "code",
   "execution_count": 7,
   "metadata": {},
   "outputs": [],
   "source": [
    "import word_tokenizer\n",
    "import zipfile\n",
    "import os"
   ]
  },
  {
   "cell_type": "markdown",
   "metadata": {},
   "source": [
    "## Extract Corpus Data"
   ]
  },
  {
   "cell_type": "code",
   "execution_count": 20,
   "metadata": {},
   "outputs": [
    {
     "name": "stdout",
     "output_type": "stream",
     "text": [
      "Number of extracted .txt files (excluding README): 510\n",
      "Number of extracted README files: 1\n"
     ]
    }
   ],
   "source": [
    "# Define the path to the zip file and the extraction directory\n",
    "parent_path = os.path.abspath(os.path.join(os.getcwd(), os.pardir))\n",
    "zip_file_path = os.path.join(parent_path, 'CUAD_v1.zip')\n",
    "extraction_dir = 'extracted_txt_files'\n",
    "\n",
    "# Check if the zip file exists\n",
    "if not os.path.exists(zip_file_path):\n",
    "    print(f\"Error: The file {zip_file_path} does not exist.\")\n",
    "else:\n",
    "    # Create the extraction directory if it doesn't exist\n",
    "    os.makedirs(extraction_dir, exist_ok=True)\n",
    "\n",
    "    # Extract only .txt files\n",
    "    with zipfile.ZipFile(zip_file_path, 'r') as zip_ref:\n",
    "        for file in zip_ref.namelist():\n",
    "            if file.endswith('.txt'):\n",
    "                zip_ref.extract(file, extraction_dir)\n",
    "\n",
    "    # Verify the number of extracted .txt files, excluding README files\n",
    "    extracted_files = []\n",
    "    readme_files = []\n",
    "    for root, dirs, files in os.walk(extraction_dir):\n",
    "        for file in files:\n",
    "            if file.endswith('.txt'):\n",
    "                if \"README\" in file:\n",
    "                    readme_files.append(os.path.join(root, file))\n",
    "                else:\n",
    "                    extracted_files.append(os.path.join(root, file))\n",
    "    \n",
    "    print(f\"Number of extracted .txt files (excluding README): {len(extracted_files)}\")\n",
    "    print(f\"Number of extracted README files: {len(readme_files)}\")\n",
    "    assert len(extracted_files) == 510, f\"Expected 510 text files, but found {len(extracted_files)}\"\n",
    "    assert len(readme_files) == 1, f\"Expected 1 README file, but found {len(readme_files)}\""
   ]
  }
 ],
 "metadata": {
  "kernelspec": {
   "display_name": "Python 3",
   "language": "python",
   "name": "python3"
  },
  "language_info": {
   "codemirror_mode": {
    "name": "ipython",
    "version": 3
   },
   "file_extension": ".py",
   "mimetype": "text/x-python",
   "name": "python",
   "nbconvert_exporter": "python",
   "pygments_lexer": "ipython3",
   "version": "3.10.7"
  }
 },
 "nbformat": 4,
 "nbformat_minor": 2
}

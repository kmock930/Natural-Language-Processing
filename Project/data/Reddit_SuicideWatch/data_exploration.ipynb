{
 "cells": [
  {
   "cell_type": "markdown",
   "metadata": {},
   "source": [
    "# Data Exploration on Reddit SuicideWatch Posts"
   ]
  },
  {
   "cell_type": "markdown",
   "metadata": {},
   "source": [
    "Source: from https://reddit.com/r/SuicideWatch/new.json?limit=100"
   ]
  },
  {
   "cell_type": "code",
   "execution_count": null,
   "metadata": {},
   "outputs": [],
   "source": [
    "import requests\n",
    "import pandas as pd"
   ]
  },
  {
   "cell_type": "code",
   "execution_count": 30,
   "metadata": {},
   "outputs": [
    {
     "data": {
      "application/vnd.microsoft.datawrangler.viewer.v0+json": {
       "columns": [
        {
         "name": "index",
         "rawType": "int64",
         "type": "integer"
        },
        {
         "name": "approved_at_utc",
         "rawType": "object",
         "type": "unknown"
        },
        {
         "name": "subreddit",
         "rawType": "object",
         "type": "string"
        },
        {
         "name": "selftext",
         "rawType": "object",
         "type": "string"
        },
        {
         "name": "author_fullname",
         "rawType": "object",
         "type": "string"
        },
        {
         "name": "saved",
         "rawType": "bool",
         "type": "boolean"
        },
        {
         "name": "mod_reason_title",
         "rawType": "object",
         "type": "unknown"
        },
        {
         "name": "gilded",
         "rawType": "int64",
         "type": "integer"
        },
        {
         "name": "clicked",
         "rawType": "bool",
         "type": "boolean"
        },
        {
         "name": "title",
         "rawType": "object",
         "type": "string"
        },
        {
         "name": "link_flair_richtext",
         "rawType": "object",
         "type": "unknown"
        },
        {
         "name": "subreddit_name_prefixed",
         "rawType": "object",
         "type": "string"
        },
        {
         "name": "hidden",
         "rawType": "bool",
         "type": "boolean"
        },
        {
         "name": "pwls",
         "rawType": "object",
         "type": "unknown"
        },
        {
         "name": "link_flair_css_class",
         "rawType": "object",
         "type": "unknown"
        },
        {
         "name": "downs",
         "rawType": "int64",
         "type": "integer"
        },
        {
         "name": "top_awarded_type",
         "rawType": "object",
         "type": "unknown"
        },
        {
         "name": "hide_score",
         "rawType": "bool",
         "type": "boolean"
        },
        {
         "name": "name",
         "rawType": "object",
         "type": "string"
        },
        {
         "name": "quarantine",
         "rawType": "bool",
         "type": "boolean"
        },
        {
         "name": "link_flair_text_color",
         "rawType": "object",
         "type": "string"
        },
        {
         "name": "upvote_ratio",
         "rawType": "float64",
         "type": "float"
        },
        {
         "name": "author_flair_background_color",
         "rawType": "object",
         "type": "unknown"
        },
        {
         "name": "subreddit_type",
         "rawType": "object",
         "type": "string"
        },
        {
         "name": "ups",
         "rawType": "int64",
         "type": "integer"
        },
        {
         "name": "total_awards_received",
         "rawType": "int64",
         "type": "integer"
        },
        {
         "name": "media_embed",
         "rawType": "object",
         "type": "unknown"
        },
        {
         "name": "author_flair_template_id",
         "rawType": "object",
         "type": "unknown"
        },
        {
         "name": "is_original_content",
         "rawType": "bool",
         "type": "boolean"
        },
        {
         "name": "user_reports",
         "rawType": "object",
         "type": "unknown"
        },
        {
         "name": "secure_media",
         "rawType": "object",
         "type": "unknown"
        },
        {
         "name": "is_reddit_media_domain",
         "rawType": "bool",
         "type": "boolean"
        },
        {
         "name": "is_meta",
         "rawType": "bool",
         "type": "boolean"
        },
        {
         "name": "category",
         "rawType": "object",
         "type": "unknown"
        },
        {
         "name": "secure_media_embed",
         "rawType": "object",
         "type": "unknown"
        },
        {
         "name": "link_flair_text",
         "rawType": "object",
         "type": "unknown"
        },
        {
         "name": "can_mod_post",
         "rawType": "bool",
         "type": "boolean"
        },
        {
         "name": "score",
         "rawType": "int64",
         "type": "integer"
        },
        {
         "name": "approved_by",
         "rawType": "object",
         "type": "unknown"
        },
        {
         "name": "is_created_from_ads_ui",
         "rawType": "bool",
         "type": "boolean"
        },
        {
         "name": "author_premium",
         "rawType": "bool",
         "type": "boolean"
        },
        {
         "name": "thumbnail",
         "rawType": "object",
         "type": "string"
        },
        {
         "name": "edited",
         "rawType": "object",
         "type": "unknown"
        },
        {
         "name": "author_flair_css_class",
         "rawType": "object",
         "type": "unknown"
        },
        {
         "name": "author_flair_richtext",
         "rawType": "object",
         "type": "unknown"
        },
        {
         "name": "gildings",
         "rawType": "object",
         "type": "unknown"
        },
        {
         "name": "content_categories",
         "rawType": "object",
         "type": "unknown"
        },
        {
         "name": "is_self",
         "rawType": "bool",
         "type": "boolean"
        },
        {
         "name": "mod_note",
         "rawType": "object",
         "type": "unknown"
        },
        {
         "name": "created",
         "rawType": "float64",
         "type": "float"
        },
        {
         "name": "link_flair_type",
         "rawType": "object",
         "type": "string"
        },
        {
         "name": "wls",
         "rawType": "object",
         "type": "unknown"
        },
        {
         "name": "removed_by_category",
         "rawType": "object",
         "type": "unknown"
        },
        {
         "name": "banned_by",
         "rawType": "object",
         "type": "unknown"
        },
        {
         "name": "author_flair_type",
         "rawType": "object",
         "type": "string"
        },
        {
         "name": "domain",
         "rawType": "object",
         "type": "string"
        },
        {
         "name": "allow_live_comments",
         "rawType": "bool",
         "type": "boolean"
        },
        {
         "name": "selftext_html",
         "rawType": "object",
         "type": "string"
        },
        {
         "name": "likes",
         "rawType": "object",
         "type": "unknown"
        },
        {
         "name": "suggested_sort",
         "rawType": "object",
         "type": "unknown"
        },
        {
         "name": "banned_at_utc",
         "rawType": "object",
         "type": "unknown"
        },
        {
         "name": "view_count",
         "rawType": "object",
         "type": "unknown"
        },
        {
         "name": "archived",
         "rawType": "bool",
         "type": "boolean"
        },
        {
         "name": "no_follow",
         "rawType": "bool",
         "type": "boolean"
        },
        {
         "name": "is_crosspostable",
         "rawType": "bool",
         "type": "boolean"
        },
        {
         "name": "pinned",
         "rawType": "bool",
         "type": "boolean"
        },
        {
         "name": "over_18",
         "rawType": "bool",
         "type": "boolean"
        },
        {
         "name": "all_awardings",
         "rawType": "object",
         "type": "unknown"
        },
        {
         "name": "awarders",
         "rawType": "object",
         "type": "unknown"
        },
        {
         "name": "media_only",
         "rawType": "bool",
         "type": "boolean"
        },
        {
         "name": "can_gild",
         "rawType": "bool",
         "type": "boolean"
        },
        {
         "name": "spoiler",
         "rawType": "bool",
         "type": "boolean"
        },
        {
         "name": "locked",
         "rawType": "bool",
         "type": "boolean"
        },
        {
         "name": "author_flair_text",
         "rawType": "object",
         "type": "unknown"
        },
        {
         "name": "treatment_tags",
         "rawType": "object",
         "type": "unknown"
        },
        {
         "name": "visited",
         "rawType": "bool",
         "type": "boolean"
        },
        {
         "name": "removed_by",
         "rawType": "object",
         "type": "unknown"
        },
        {
         "name": "num_reports",
         "rawType": "object",
         "type": "unknown"
        },
        {
         "name": "distinguished",
         "rawType": "object",
         "type": "unknown"
        },
        {
         "name": "subreddit_id",
         "rawType": "object",
         "type": "string"
        },
        {
         "name": "author_is_blocked",
         "rawType": "bool",
         "type": "boolean"
        },
        {
         "name": "mod_reason_by",
         "rawType": "object",
         "type": "unknown"
        },
        {
         "name": "removal_reason",
         "rawType": "object",
         "type": "unknown"
        },
        {
         "name": "link_flair_background_color",
         "rawType": "object",
         "type": "string"
        },
        {
         "name": "id",
         "rawType": "object",
         "type": "string"
        },
        {
         "name": "is_robot_indexable",
         "rawType": "bool",
         "type": "boolean"
        },
        {
         "name": "report_reasons",
         "rawType": "object",
         "type": "unknown"
        },
        {
         "name": "author",
         "rawType": "object",
         "type": "string"
        },
        {
         "name": "discussion_type",
         "rawType": "object",
         "type": "unknown"
        },
        {
         "name": "num_comments",
         "rawType": "int64",
         "type": "integer"
        },
        {
         "name": "send_replies",
         "rawType": "bool",
         "type": "boolean"
        },
        {
         "name": "contest_mode",
         "rawType": "bool",
         "type": "boolean"
        },
        {
         "name": "mod_reports",
         "rawType": "object",
         "type": "unknown"
        },
        {
         "name": "author_patreon_flair",
         "rawType": "bool",
         "type": "boolean"
        },
        {
         "name": "author_flair_text_color",
         "rawType": "object",
         "type": "unknown"
        },
        {
         "name": "permalink",
         "rawType": "object",
         "type": "string"
        },
        {
         "name": "stickied",
         "rawType": "bool",
         "type": "boolean"
        },
        {
         "name": "url",
         "rawType": "object",
         "type": "string"
        },
        {
         "name": "subreddit_subscribers",
         "rawType": "int64",
         "type": "integer"
        },
        {
         "name": "created_utc",
         "rawType": "float64",
         "type": "float"
        },
        {
         "name": "num_crossposts",
         "rawType": "int64",
         "type": "integer"
        },
        {
         "name": "media",
         "rawType": "object",
         "type": "unknown"
        },
        {
         "name": "is_video",
         "rawType": "bool",
         "type": "boolean"
        },
        {
         "name": "author_cakeday",
         "rawType": "object",
         "type": "unknown"
        }
       ],
       "conversionMethod": "pd.DataFrame",
       "ref": "f6ca69fc-0793-4021-80d2-1c16cc3558aa",
       "rows": [
        [
         "0",
         null,
         "SuicideWatch",
         "Everyone wants to pathologize, moralize, and reduce their liability and exposure to suicide. \nIf people want others to not feel suicidal, you have to do more than coerce, threaten, avoid, preach at, or shame those who feel this way. \n\nThe solution is really fucking simple, have some god damn empathy. Yet...there's not really any in my life. No one gives a fuck.",
         "t2_pfkg1yd73",
         "False",
         null,
         "0",
         "False",
         "There's no real help for people, because people won't treat suicidal feelings as legitimate",
         "[]",
         "r/SuicideWatch",
         "False",
         null,
         null,
         "0",
         null,
         "True",
         "t3_1jdy0mk",
         "False",
         "dark",
         "1.0",
         null,
         "public",
         "1",
         "0",
         "{}",
         "2a7b5518-8e45-11e5-a506-0ed10b342609",
         "False",
         "[]",
         null,
         "False",
         "False",
         null,
         "{}",
         null,
         "False",
         "1",
         null,
         "False",
         "False",
         "",
         "False",
         "modmsg",
         "[]",
         "{}",
         null,
         "True",
         null,
         "1742276172.0",
         "text",
         null,
         null,
         null,
         "text",
         "self.SuicideWatch",
         "False",
         "&lt;!-- SC_OFF --&gt;&lt;div class=\"md\"&gt;&lt;p&gt;Everyone wants to pathologize, moralize, and reduce their liability and exposure to suicide. \nIf people want others to not feel suicidal, you have to do more than coerce, threaten, avoid, preach at, or shame those who feel this way. &lt;/p&gt;\n\n&lt;p&gt;The solution is really fucking simple, have some god damn empathy. Yet...there&amp;#39;s not really any in my life. No one gives a fuck.&lt;/p&gt;\n&lt;/div&gt;&lt;!-- SC_ON --&gt;",
         null,
         null,
         null,
         null,
         "False",
         "True",
         "False",
         "False",
         "False",
         "[]",
         "[]",
         "False",
         "False",
         "False",
         "False",
         "",
         "[]",
         "False",
         null,
         null,
         null,
         "t5_2qpzs",
         "False",
         null,
         null,
         "",
         "1jdy0mk",
         "True",
         null,
         "Accursed_Capybara",
         null,
         "0",
         "True",
         "False",
         "[]",
         "False",
         "dark",
         "/r/SuicideWatch/comments/1jdy0mk/theres_no_real_help_for_people_because_people/",
         "False",
         "https://www.reddit.com/r/SuicideWatch/comments/1jdy0mk/theres_no_real_help_for_people_because_people/",
         "519429",
         "1742276172.0",
         "0",
         null,
         "False",
         null
        ],
        [
         "1",
         null,
         "SuicideWatch",
         "hi everyone. i’ve tried to be GOOD for as long as i can remember. i’ve always tried to pick a job where i was helping someone; i volunteered and worked at the animal shelter for years, became a 911 dispatcher, have tried to always help people and go out of my way whenever i can. \n\ni got into a decent spot mentally, but then i moved back in with my mom. she has reminded me within a couple weeks who i really am. we never had a good relationship when i was growing up. she was going through a lot and i was the one who was more outspoken, so she took a lot of frustration out on me. i moved out at 18 but moved back in at 21. \n\nshe’s explained to me that i am verbally abusive; i bring stuff up from the past way too much, and hurt her feelings with things that she’s done in the past that she doesn’t remember doing (but i somehow remember every detail). she says that she’s known me for a long time, and i am not capable of doing certain things. the thing that hurts most is that she’s reminded me over and over that i’m the most selfish person she’s met because i don’t see other people’s perspectives.\n\nand you know what? she’s right. i’m not a good student, i’m not good at my job, im not a easy person to get along with. i don’t have any hobbies that im especially good at. i don’t have any friends. i have my cat, but my mom says she takes better care of her than i do. i have nobody. if i disappeared, nobody would realize. as soon as i move out of here, i’ll literally have no family, no friends, nothing. there is nothing to keep me here.\n\nno matter how good i try to be, i have never been. i’ll never be good.\n",
         "t2_1cyguorgnl",
         "False",
         null,
         "0",
         "False",
         "i want to end things because i don’t like who i am",
         "[]",
         "r/SuicideWatch",
         "False",
         null,
         null,
         "0",
         null,
         "True",
         "t3_1jdy040",
         "False",
         "dark",
         "1.0",
         null,
         "public",
         "1",
         "0",
         "{}",
         null,
         "False",
         "[]",
         null,
         "False",
         "False",
         null,
         "{}",
         null,
         "False",
         "1",
         null,
         "False",
         "False",
         "",
         "False",
         null,
         "[]",
         "{}",
         null,
         "True",
         null,
         "1742276113.0",
         "text",
         null,
         null,
         null,
         "text",
         "self.SuicideWatch",
         "False",
         "&lt;!-- SC_OFF --&gt;&lt;div class=\"md\"&gt;&lt;p&gt;hi everyone. i’ve tried to be GOOD for as long as i can remember. i’ve always tried to pick a job where i was helping someone; i volunteered and worked at the animal shelter for years, became a 911 dispatcher, have tried to always help people and go out of my way whenever i can. &lt;/p&gt;\n\n&lt;p&gt;i got into a decent spot mentally, but then i moved back in with my mom. she has reminded me within a couple weeks who i really am. we never had a good relationship when i was growing up. she was going through a lot and i was the one who was more outspoken, so she took a lot of frustration out on me. i moved out at 18 but moved back in at 21. &lt;/p&gt;\n\n&lt;p&gt;she’s explained to me that i am verbally abusive; i bring stuff up from the past way too much, and hurt her feelings with things that she’s done in the past that she doesn’t remember doing (but i somehow remember every detail). she says that she’s known me for a long time, and i am not capable of doing certain things. the thing that hurts most is that she’s reminded me over and over that i’m the most selfish person she’s met because i don’t see other people’s perspectives.&lt;/p&gt;\n\n&lt;p&gt;and you know what? she’s right. i’m not a good student, i’m not good at my job, im not a easy person to get along with. i don’t have any hobbies that im especially good at. i don’t have any friends. i have my cat, but my mom says she takes better care of her than i do. i have nobody. if i disappeared, nobody would realize. as soon as i move out of here, i’ll literally have no family, no friends, nothing. there is nothing to keep me here.&lt;/p&gt;\n\n&lt;p&gt;no matter how good i try to be, i have never been. i’ll never be good.&lt;/p&gt;\n&lt;/div&gt;&lt;!-- SC_ON --&gt;",
         null,
         null,
         null,
         null,
         "False",
         "True",
         "False",
         "False",
         "False",
         "[]",
         "[]",
         "False",
         "False",
         "False",
         "False",
         null,
         "[]",
         "False",
         null,
         null,
         null,
         "t5_2qpzs",
         "False",
         null,
         null,
         "",
         "1jdy040",
         "True",
         null,
         "Emotional_Moose_3019",
         null,
         "0",
         "True",
         "False",
         "[]",
         "False",
         null,
         "/r/SuicideWatch/comments/1jdy040/i_want_to_end_things_because_i_dont_like_who_i_am/",
         "False",
         "https://www.reddit.com/r/SuicideWatch/comments/1jdy040/i_want_to_end_things_because_i_dont_like_who_i_am/",
         "519429",
         "1742276113.0",
         "0",
         null,
         "False",
         null
        ],
        [
         "2",
         null,
         "SuicideWatch",
         "I don't want to wake up and be me anymore. More specifically; I don't want to wake up and look the way I do.\n\nI can't accurately describe to you how this inadequacy I feel every day is like. Without exaggerating; I am objectively ugly. That's just the hard unfortunate reality for me. I am miserable because I know I cannot have/experience what others have. I'm 21 (M), and for the majority of my life could always tell I never quite compared to my contemporaries. It was in high school when I realized the problem was my appearance.\n\nMy face is elongated and oval, my chin is recessed and downward grown, I have a flat maxilla, long /flat mid-face, rounded jaw, full and undefined cheeks, childish features, protruded bottom lip, protruding ears, high and broad forehead, my hair is thinning, my body is riddled in stretchmarks from obesity as a teenager, I am autistic, I have a speech impediment, I am below average height, and so is my phallus.\n\nI have tried what I could the last few years to try to make myself appear attractive and self-acceptance, but you just can't make me look good, and I just can't accept this being my fate. I know there is more to life than looks, but a lot of it ties into looks. I can't just go out and do the same as an attractive or average person and expect the same results. I haven't experienced anything in my life because I can't. I don't know what some people don't understand. I try, I try, and I try, and I can't make anything happen.",
         "t2_1ld9rc3s1l",
         "False",
         null,
         "0",
         "False",
         "I don't think I can continue with who I am.",
         "[]",
         "r/SuicideWatch",
         "False",
         null,
         null,
         "0",
         null,
         "True",
         "t3_1jdxyyu",
         "False",
         "dark",
         "1.0",
         null,
         "public",
         "2",
         "0",
         "{}",
         null,
         "False",
         "[]",
         null,
         "False",
         "False",
         null,
         "{}",
         null,
         "False",
         "2",
         null,
         "False",
         "False",
         "",
         "False",
         null,
         "[]",
         "{}",
         null,
         "True",
         null,
         "1742275977.0",
         "text",
         null,
         null,
         null,
         "text",
         "self.SuicideWatch",
         "False",
         "&lt;!-- SC_OFF --&gt;&lt;div class=\"md\"&gt;&lt;p&gt;I don&amp;#39;t want to wake up and be me anymore. More specifically; I don&amp;#39;t want to wake up and look the way I do.&lt;/p&gt;\n\n&lt;p&gt;I can&amp;#39;t accurately describe to you how this inadequacy I feel every day is like. Without exaggerating; I am objectively ugly. That&amp;#39;s just the hard unfortunate reality for me. I am miserable because I know I cannot have/experience what others have. I&amp;#39;m 21 (M), and for the majority of my life could always tell I never quite compared to my contemporaries. It was in high school when I realized the problem was my appearance.&lt;/p&gt;\n\n&lt;p&gt;My face is elongated and oval, my chin is recessed and downward grown, I have a flat maxilla, long /flat mid-face, rounded jaw, full and undefined cheeks, childish features, protruded bottom lip, protruding ears, high and broad forehead, my hair is thinning, my body is riddled in stretchmarks from obesity as a teenager, I am autistic, I have a speech impediment, I am below average height, and so is my phallus.&lt;/p&gt;\n\n&lt;p&gt;I have tried what I could the last few years to try to make myself appear attractive and self-acceptance, but you just can&amp;#39;t make me look good, and I just can&amp;#39;t accept this being my fate. I know there is more to life than looks, but a lot of it ties into looks. I can&amp;#39;t just go out and do the same as an attractive or average person and expect the same results. I haven&amp;#39;t experienced anything in my life because I can&amp;#39;t. I don&amp;#39;t know what some people don&amp;#39;t understand. I try, I try, and I try, and I can&amp;#39;t make anything happen.&lt;/p&gt;\n&lt;/div&gt;&lt;!-- SC_ON --&gt;",
         null,
         null,
         null,
         null,
         "False",
         "False",
         "False",
         "False",
         "False",
         "[]",
         "[]",
         "False",
         "False",
         "False",
         "False",
         null,
         "[]",
         "False",
         null,
         null,
         null,
         "t5_2qpzs",
         "False",
         null,
         null,
         "",
         "1jdxyyu",
         "True",
         null,
         "Standard-Program7042",
         null,
         "0",
         "True",
         "False",
         "[]",
         "False",
         null,
         "/r/SuicideWatch/comments/1jdxyyu/i_dont_think_i_can_continue_with_who_i_am/",
         "False",
         "https://www.reddit.com/r/SuicideWatch/comments/1jdxyyu/i_dont_think_i_can_continue_with_who_i_am/",
         "519429",
         "1742275977.0",
         "0",
         null,
         "False",
         null
        ],
        [
         "3",
         null,
         "SuicideWatch",
         "I've attempted suicide in the past and i found a website that would sell me euthanasia liquid without a prescription, but if i get caught i don't know how long i'll go to jail for. Every day it hurts more and more. I'm mentally ill and there's no cure for my disease. I've seen a million doctors and been on all kinds of antidepressants for almost 10 years and it only gets harder as time goes on. I just want my pain to end, but i can't tell my family about my suicidal thoughts or my doctor. I don't want to be taken away again and i don't want to scare anyone, but i don't want to hurt my mom either. I never had the best relationship with my family and i don't want them to blame themselves because they did all that they could. I don't know how much longer i can do this. I just want to sleep forever and never wake up. I don't have a single friend and sometimes i wish i could just get a hug from somebody, literally anybody. I just want to be held, but i can't even find anyone to do that. No one gives a fuck either. People always abandon me when they tell me they'll always be here for me, but they're never anywhere to be found. The thought of killing myself used to scare me and i would always wonder where i would go, but now the thought of it makes me feel calm and i really don't care what's on the other side anymore or even if there is another side. I never knew what it was like to truly be happy and feel loved. I feel so trapped. I don't know what else to do. I emailed them and inquired about prices. They responded and i told myself i would delete it, but i still have it. That's honestly what scares me. I'm not afraid to die anymore. I can't even sleep and suffer from horrible insomnia and addiction. I can't remember the last time i genuinely felt tired without sleeping pills. ",
         "t2_1lfbomi4g8",
         "False",
         null,
         "0",
         "False",
         "I'm not afraid to die, but i'm only here because of my family.",
         "[]",
         "r/SuicideWatch",
         "False",
         null,
         null,
         "0",
         null,
         "True",
         "t3_1jdxylv",
         "False",
         "dark",
         "1.0",
         null,
         "public",
         "2",
         "0",
         "{}",
         null,
         "False",
         "[]",
         null,
         "False",
         "False",
         null,
         "{}",
         null,
         "False",
         "2",
         null,
         "False",
         "False",
         "",
         "False",
         null,
         "[]",
         "{}",
         null,
         "True",
         null,
         "1742275930.0",
         "text",
         null,
         null,
         null,
         "text",
         "self.SuicideWatch",
         "False",
         "&lt;!-- SC_OFF --&gt;&lt;div class=\"md\"&gt;&lt;p&gt;I&amp;#39;ve attempted suicide in the past and i found a website that would sell me euthanasia liquid without a prescription, but if i get caught i don&amp;#39;t know how long i&amp;#39;ll go to jail for. Every day it hurts more and more. I&amp;#39;m mentally ill and there&amp;#39;s no cure for my disease. I&amp;#39;ve seen a million doctors and been on all kinds of antidepressants for almost 10 years and it only gets harder as time goes on. I just want my pain to end, but i can&amp;#39;t tell my family about my suicidal thoughts or my doctor. I don&amp;#39;t want to be taken away again and i don&amp;#39;t want to scare anyone, but i don&amp;#39;t want to hurt my mom either. I never had the best relationship with my family and i don&amp;#39;t want them to blame themselves because they did all that they could. I don&amp;#39;t know how much longer i can do this. I just want to sleep forever and never wake up. I don&amp;#39;t have a single friend and sometimes i wish i could just get a hug from somebody, literally anybody. I just want to be held, but i can&amp;#39;t even find anyone to do that. No one gives a fuck either. People always abandon me when they tell me they&amp;#39;ll always be here for me, but they&amp;#39;re never anywhere to be found. The thought of killing myself used to scare me and i would always wonder where i would go, but now the thought of it makes me feel calm and i really don&amp;#39;t care what&amp;#39;s on the other side anymore or even if there is another side. I never knew what it was like to truly be happy and feel loved. I feel so trapped. I don&amp;#39;t know what else to do. I emailed them and inquired about prices. They responded and i told myself i would delete it, but i still have it. That&amp;#39;s honestly what scares me. I&amp;#39;m not afraid to die anymore. I can&amp;#39;t even sleep and suffer from horrible insomnia and addiction. I can&amp;#39;t remember the last time i genuinely felt tired without sleeping pills. &lt;/p&gt;\n&lt;/div&gt;&lt;!-- SC_ON --&gt;",
         null,
         null,
         null,
         null,
         "False",
         "False",
         "False",
         "False",
         "False",
         "[]",
         "[]",
         "False",
         "False",
         "False",
         "False",
         null,
         "[]",
         "False",
         null,
         null,
         null,
         "t5_2qpzs",
         "False",
         null,
         null,
         "",
         "1jdxylv",
         "True",
         null,
         "catsaladd",
         null,
         "0",
         "True",
         "False",
         "[]",
         "False",
         null,
         "/r/SuicideWatch/comments/1jdxylv/im_not_afraid_to_die_but_im_only_here_because_of/",
         "False",
         "https://www.reddit.com/r/SuicideWatch/comments/1jdxylv/im_not_afraid_to_die_but_im_only_here_because_of/",
         "519429",
         "1742275930.0",
         "0",
         null,
         "False",
         null
        ],
        [
         "4",
         null,
         "SuicideWatch",
         "im constantly stressed/anxious everyday bc of work/school/money, and when the stress gets to be too much, my brain immediately resorts to thinking of ways to end it. i think of killing myself all the time. if im driving to work/school, i start fantasizing abt getting into a car accident so catastrophic that it kills me right away. when everything feels like too much, it makes me relieved that i have the power to just end everything at any moment. i wont kill myself anytime soon, but i keep fantasizing abt it. a part of me wants to see how long i can endure life before i eventually do it on impulse. \n\n\ni got 5150'd a few weeks ago bc i told my therapist that i had vivid plans of ending my life. at the time, i only said that bc i was so stressed due to balancing my CNA job and pre-nursing classes. the doctor prescribed me lexapro. i stopped taking it after 2 weeks bc my mom found the pills on my bedside table and was upset, started telling me that all of this anxiety/stress was just in my head. she told me \"you're normal, you dont need pills\" and i just stopped taking them bc i felt like she was right and i was just overreacting. \n\nim just rambling now. i constantly feel like im on panic mode every time im at work bc its a high-stress healthcare job, and the rare moments where i make patients' days better or make them smile are everything to me, but im so tired of everything else. i only pursued nursing because my mother told me to. if i cant handle being a CNA, what makes me think i can handle being a nurse? i dont have the courage to tell her i dont want this, that im burnt out and im losing myself while pursuing this path that she decided for me when i was 12, a path that im not even sure about. i have no more motivation or energy to try to change my situation anymore. i feel like i dont deserve to be happy, and therefore theres no point in trying to change my life in an effort to be happy. ill keep pretending that im okay in front of my mother bc i love her. ill keep going to class, keep studying, keep working, and wait out the days until i eventually find it in me to take a knife and stab myself. ",
         "t2_5jhndftjx",
         "False",
         null,
         "0",
         "False",
         "ideation is comforting",
         "[]",
         "r/SuicideWatch",
         "False",
         null,
         null,
         "0",
         null,
         "True",
         "t3_1jdxqs2",
         "False",
         "dark",
         "1.0",
         null,
         "public",
         "1",
         "0",
         "{}",
         null,
         "False",
         "[]",
         null,
         "False",
         "False",
         null,
         "{}",
         null,
         "False",
         "1",
         null,
         "False",
         "False",
         "",
         "False",
         null,
         "[]",
         "{}",
         null,
         "True",
         null,
         "1742275027.0",
         "text",
         null,
         null,
         null,
         "text",
         "self.SuicideWatch",
         "False",
         "&lt;!-- SC_OFF --&gt;&lt;div class=\"md\"&gt;&lt;p&gt;im constantly stressed/anxious everyday bc of work/school/money, and when the stress gets to be too much, my brain immediately resorts to thinking of ways to end it. i think of killing myself all the time. if im driving to work/school, i start fantasizing abt getting into a car accident so catastrophic that it kills me right away. when everything feels like too much, it makes me relieved that i have the power to just end everything at any moment. i wont kill myself anytime soon, but i keep fantasizing abt it. a part of me wants to see how long i can endure life before i eventually do it on impulse. &lt;/p&gt;\n\n&lt;p&gt;i got 5150&amp;#39;d a few weeks ago bc i told my therapist that i had vivid plans of ending my life. at the time, i only said that bc i was so stressed due to balancing my CNA job and pre-nursing classes. the doctor prescribed me lexapro. i stopped taking it after 2 weeks bc my mom found the pills on my bedside table and was upset, started telling me that all of this anxiety/stress was just in my head. she told me &amp;quot;you&amp;#39;re normal, you dont need pills&amp;quot; and i just stopped taking them bc i felt like she was right and i was just overreacting. &lt;/p&gt;\n\n&lt;p&gt;im just rambling now. i constantly feel like im on panic mode every time im at work bc its a high-stress healthcare job, and the rare moments where i make patients&amp;#39; days better or make them smile are everything to me, but im so tired of everything else. i only pursued nursing because my mother told me to. if i cant handle being a CNA, what makes me think i can handle being a nurse? i dont have the courage to tell her i dont want this, that im burnt out and im losing myself while pursuing this path that she decided for me when i was 12, a path that im not even sure about. i have no more motivation or energy to try to change my situation anymore. i feel like i dont deserve to be happy, and therefore theres no point in trying to change my life in an effort to be happy. ill keep pretending that im okay in front of my mother bc i love her. ill keep going to class, keep studying, keep working, and wait out the days until i eventually find it in me to take a knife and stab myself. &lt;/p&gt;\n&lt;/div&gt;&lt;!-- SC_ON --&gt;",
         null,
         null,
         null,
         null,
         "False",
         "True",
         "False",
         "False",
         "False",
         "[]",
         "[]",
         "False",
         "False",
         "False",
         "False",
         null,
         "[]",
         "False",
         null,
         null,
         null,
         "t5_2qpzs",
         "False",
         null,
         null,
         "",
         "1jdxqs2",
         "True",
         null,
         "Infinite-Mistake5069",
         null,
         "0",
         "True",
         "False",
         "[]",
         "False",
         null,
         "/r/SuicideWatch/comments/1jdxqs2/ideation_is_comforting/",
         "False",
         "https://www.reddit.com/r/SuicideWatch/comments/1jdxqs2/ideation_is_comforting/",
         "519429",
         "1742275027.0",
         "0",
         null,
         "False",
         null
        ]
       ],
       "shape": {
        "columns": 103,
        "rows": 5
       }
      },
      "text/html": [
       "<div>\n",
       "<style scoped>\n",
       "    .dataframe tbody tr th:only-of-type {\n",
       "        vertical-align: middle;\n",
       "    }\n",
       "\n",
       "    .dataframe tbody tr th {\n",
       "        vertical-align: top;\n",
       "    }\n",
       "\n",
       "    .dataframe thead th {\n",
       "        text-align: right;\n",
       "    }\n",
       "</style>\n",
       "<table border=\"1\" class=\"dataframe\">\n",
       "  <thead>\n",
       "    <tr style=\"text-align: right;\">\n",
       "      <th></th>\n",
       "      <th>approved_at_utc</th>\n",
       "      <th>subreddit</th>\n",
       "      <th>selftext</th>\n",
       "      <th>author_fullname</th>\n",
       "      <th>saved</th>\n",
       "      <th>mod_reason_title</th>\n",
       "      <th>gilded</th>\n",
       "      <th>clicked</th>\n",
       "      <th>title</th>\n",
       "      <th>link_flair_richtext</th>\n",
       "      <th>...</th>\n",
       "      <th>author_flair_text_color</th>\n",
       "      <th>permalink</th>\n",
       "      <th>stickied</th>\n",
       "      <th>url</th>\n",
       "      <th>subreddit_subscribers</th>\n",
       "      <th>created_utc</th>\n",
       "      <th>num_crossposts</th>\n",
       "      <th>media</th>\n",
       "      <th>is_video</th>\n",
       "      <th>author_cakeday</th>\n",
       "    </tr>\n",
       "  </thead>\n",
       "  <tbody>\n",
       "    <tr>\n",
       "      <th>0</th>\n",
       "      <td>None</td>\n",
       "      <td>SuicideWatch</td>\n",
       "      <td>Everyone wants to pathologize, moralize, and r...</td>\n",
       "      <td>t2_pfkg1yd73</td>\n",
       "      <td>False</td>\n",
       "      <td>None</td>\n",
       "      <td>0</td>\n",
       "      <td>False</td>\n",
       "      <td>There's no real help for people, because peopl...</td>\n",
       "      <td>[]</td>\n",
       "      <td>...</td>\n",
       "      <td>dark</td>\n",
       "      <td>/r/SuicideWatch/comments/1jdy0mk/theres_no_rea...</td>\n",
       "      <td>False</td>\n",
       "      <td>https://www.reddit.com/r/SuicideWatch/comments...</td>\n",
       "      <td>519429</td>\n",
       "      <td>1.742276e+09</td>\n",
       "      <td>0</td>\n",
       "      <td>None</td>\n",
       "      <td>False</td>\n",
       "      <td>NaN</td>\n",
       "    </tr>\n",
       "    <tr>\n",
       "      <th>1</th>\n",
       "      <td>None</td>\n",
       "      <td>SuicideWatch</td>\n",
       "      <td>hi everyone. i’ve tried to be GOOD for as long...</td>\n",
       "      <td>t2_1cyguorgnl</td>\n",
       "      <td>False</td>\n",
       "      <td>None</td>\n",
       "      <td>0</td>\n",
       "      <td>False</td>\n",
       "      <td>i want to end things because i don’t like who ...</td>\n",
       "      <td>[]</td>\n",
       "      <td>...</td>\n",
       "      <td>None</td>\n",
       "      <td>/r/SuicideWatch/comments/1jdy040/i_want_to_end...</td>\n",
       "      <td>False</td>\n",
       "      <td>https://www.reddit.com/r/SuicideWatch/comments...</td>\n",
       "      <td>519429</td>\n",
       "      <td>1.742276e+09</td>\n",
       "      <td>0</td>\n",
       "      <td>None</td>\n",
       "      <td>False</td>\n",
       "      <td>NaN</td>\n",
       "    </tr>\n",
       "    <tr>\n",
       "      <th>2</th>\n",
       "      <td>None</td>\n",
       "      <td>SuicideWatch</td>\n",
       "      <td>I don't want to wake up and be me anymore. Mor...</td>\n",
       "      <td>t2_1ld9rc3s1l</td>\n",
       "      <td>False</td>\n",
       "      <td>None</td>\n",
       "      <td>0</td>\n",
       "      <td>False</td>\n",
       "      <td>I don't think I can continue with who I am.</td>\n",
       "      <td>[]</td>\n",
       "      <td>...</td>\n",
       "      <td>None</td>\n",
       "      <td>/r/SuicideWatch/comments/1jdxyyu/i_dont_think_...</td>\n",
       "      <td>False</td>\n",
       "      <td>https://www.reddit.com/r/SuicideWatch/comments...</td>\n",
       "      <td>519429</td>\n",
       "      <td>1.742276e+09</td>\n",
       "      <td>0</td>\n",
       "      <td>None</td>\n",
       "      <td>False</td>\n",
       "      <td>NaN</td>\n",
       "    </tr>\n",
       "    <tr>\n",
       "      <th>3</th>\n",
       "      <td>None</td>\n",
       "      <td>SuicideWatch</td>\n",
       "      <td>I've attempted suicide in the past and i found...</td>\n",
       "      <td>t2_1lfbomi4g8</td>\n",
       "      <td>False</td>\n",
       "      <td>None</td>\n",
       "      <td>0</td>\n",
       "      <td>False</td>\n",
       "      <td>I'm not afraid to die, but i'm only here becau...</td>\n",
       "      <td>[]</td>\n",
       "      <td>...</td>\n",
       "      <td>None</td>\n",
       "      <td>/r/SuicideWatch/comments/1jdxylv/im_not_afraid...</td>\n",
       "      <td>False</td>\n",
       "      <td>https://www.reddit.com/r/SuicideWatch/comments...</td>\n",
       "      <td>519429</td>\n",
       "      <td>1.742276e+09</td>\n",
       "      <td>0</td>\n",
       "      <td>None</td>\n",
       "      <td>False</td>\n",
       "      <td>NaN</td>\n",
       "    </tr>\n",
       "    <tr>\n",
       "      <th>4</th>\n",
       "      <td>None</td>\n",
       "      <td>SuicideWatch</td>\n",
       "      <td>im constantly stressed/anxious everyday bc of ...</td>\n",
       "      <td>t2_5jhndftjx</td>\n",
       "      <td>False</td>\n",
       "      <td>None</td>\n",
       "      <td>0</td>\n",
       "      <td>False</td>\n",
       "      <td>ideation is comforting</td>\n",
       "      <td>[]</td>\n",
       "      <td>...</td>\n",
       "      <td>None</td>\n",
       "      <td>/r/SuicideWatch/comments/1jdxqs2/ideation_is_c...</td>\n",
       "      <td>False</td>\n",
       "      <td>https://www.reddit.com/r/SuicideWatch/comments...</td>\n",
       "      <td>519429</td>\n",
       "      <td>1.742275e+09</td>\n",
       "      <td>0</td>\n",
       "      <td>None</td>\n",
       "      <td>False</td>\n",
       "      <td>NaN</td>\n",
       "    </tr>\n",
       "  </tbody>\n",
       "</table>\n",
       "<p>5 rows × 103 columns</p>\n",
       "</div>"
      ],
      "text/plain": [
       "  approved_at_utc     subreddit  \\\n",
       "0            None  SuicideWatch   \n",
       "1            None  SuicideWatch   \n",
       "2            None  SuicideWatch   \n",
       "3            None  SuicideWatch   \n",
       "4            None  SuicideWatch   \n",
       "\n",
       "                                            selftext author_fullname  saved  \\\n",
       "0  Everyone wants to pathologize, moralize, and r...    t2_pfkg1yd73  False   \n",
       "1  hi everyone. i’ve tried to be GOOD for as long...   t2_1cyguorgnl  False   \n",
       "2  I don't want to wake up and be me anymore. Mor...   t2_1ld9rc3s1l  False   \n",
       "3  I've attempted suicide in the past and i found...   t2_1lfbomi4g8  False   \n",
       "4  im constantly stressed/anxious everyday bc of ...    t2_5jhndftjx  False   \n",
       "\n",
       "  mod_reason_title  gilded  clicked  \\\n",
       "0             None       0    False   \n",
       "1             None       0    False   \n",
       "2             None       0    False   \n",
       "3             None       0    False   \n",
       "4             None       0    False   \n",
       "\n",
       "                                               title link_flair_richtext  ...  \\\n",
       "0  There's no real help for people, because peopl...                  []  ...   \n",
       "1  i want to end things because i don’t like who ...                  []  ...   \n",
       "2        I don't think I can continue with who I am.                  []  ...   \n",
       "3  I'm not afraid to die, but i'm only here becau...                  []  ...   \n",
       "4                             ideation is comforting                  []  ...   \n",
       "\n",
       "  author_flair_text_color                                          permalink  \\\n",
       "0                    dark  /r/SuicideWatch/comments/1jdy0mk/theres_no_rea...   \n",
       "1                    None  /r/SuicideWatch/comments/1jdy040/i_want_to_end...   \n",
       "2                    None  /r/SuicideWatch/comments/1jdxyyu/i_dont_think_...   \n",
       "3                    None  /r/SuicideWatch/comments/1jdxylv/im_not_afraid...   \n",
       "4                    None  /r/SuicideWatch/comments/1jdxqs2/ideation_is_c...   \n",
       "\n",
       "  stickied                                                url  \\\n",
       "0    False  https://www.reddit.com/r/SuicideWatch/comments...   \n",
       "1    False  https://www.reddit.com/r/SuicideWatch/comments...   \n",
       "2    False  https://www.reddit.com/r/SuicideWatch/comments...   \n",
       "3    False  https://www.reddit.com/r/SuicideWatch/comments...   \n",
       "4    False  https://www.reddit.com/r/SuicideWatch/comments...   \n",
       "\n",
       "   subreddit_subscribers   created_utc  num_crossposts media  is_video  \\\n",
       "0                 519429  1.742276e+09               0  None     False   \n",
       "1                 519429  1.742276e+09               0  None     False   \n",
       "2                 519429  1.742276e+09               0  None     False   \n",
       "3                 519429  1.742276e+09               0  None     False   \n",
       "4                 519429  1.742275e+09               0  None     False   \n",
       "\n",
       "  author_cakeday  \n",
       "0            NaN  \n",
       "1            NaN  \n",
       "2            NaN  \n",
       "3            NaN  \n",
       "4            NaN  \n",
       "\n",
       "[5 rows x 103 columns]"
      ]
     },
     "execution_count": 30,
     "metadata": {},
     "output_type": "execute_result"
    }
   ],
   "source": [
    "# Function to fetch data from the API\n",
    "def fetch_reddit_data(url, limit=100):\n",
    "    response = requests.get(url+str(limit))\n",
    "    if response.status_code == 200:\n",
    "        data = response.json()\n",
    "        children_data = [child['data'] for child in data['data']['children']]\n",
    "        return pd.DataFrame(children_data)\n",
    "    else:\n",
    "        print(f\"Failed to fetch data. Status code: {response.status_code}\")\n",
    "        return pd.DataFrame()\n",
    "\n",
    "# Base URL for the API\n",
    "base_url = \"https://reddit.com/r/SuicideWatch/new.json?limit=\"\n",
    "\n",
    "# List to store dataframes\n",
    "dataframes = []\n",
    "\n",
    "# Fetch data 10 times\n",
    "for _ in range(10):\n",
    "    df = fetch_reddit_data(base_url)\n",
    "    dataframes.append(df)\n",
    "\n",
    "# Concatenate all dataframes into a single dataframe\n",
    "reddit_df_1000 = pd.concat(dataframes, ignore_index=True)\n",
    "\n",
    "# Display the first few rows of the dataframe\n",
    "reddit_df_1000.head()"
   ]
  },
  {
   "cell_type": "code",
   "execution_count": 31,
   "metadata": {},
   "outputs": [
    {
     "name": "stdout",
     "output_type": "stream",
     "text": [
      "Length of Dataset: 1000\n"
     ]
    }
   ],
   "source": [
    "print(f\"Length of Dataset: {len(reddit_df_1000)}\")"
   ]
  },
  {
   "cell_type": "markdown",
   "metadata": {},
   "source": [
    "Checking Repeated Posts from the dataset (meaningless for our analysis)"
   ]
  },
  {
   "cell_type": "code",
   "execution_count": 32,
   "metadata": {},
   "outputs": [
    {
     "name": "stdout",
     "output_type": "stream",
     "text": [
      "selftext\n",
      "Everyone wants to pathologize, moralize, and reduce their liability and exposure to suicide. \\nIf people want others to not feel suicidal, you have to do more than coerce, threaten, avoid, preach at, or shame those who feel this way. \\n\\nThe solution is really fucking simple, have some god damn empathy. Yet...there's not really any in my life. No one gives a fuck.                                                                                                                                                                                                                                                                                                                                                                                                                                                                                                                                                                                                                                                                                                                                                                                                                                                                                                                                                                                                                                                                                                                                                                                                                                                                                                                                                                                                                                                                                                                                                                                                                                                                                                                                                                                                                                                                                                                                                                                                                                                                                                                                                                                                                                                                                                                                                                                                                                                                                                                                                                                                                                                                                                                                                                                                                                                                                                                                                                                                                                                                                                           10\n",
      "hi everyone. i’ve tried to be GOOD for as long as i can remember. i’ve always tried to pick a job where i was helping someone; i volunteered and worked at the animal shelter for years, became a 911 dispatcher, have tried to always help people and go out of my way whenever i can. \\n\\ni got into a decent spot mentally, but then i moved back in with my mom. she has reminded me within a couple weeks who i really am. we never had a good relationship when i was growing up. she was going through a lot and i was the one who was more outspoken, so she took a lot of frustration out on me. i moved out at 18 but moved back in at 21. \\n\\nshe’s explained to me that i am verbally abusive; i bring stuff up from the past way too much, and hurt her feelings with things that she’s done in the past that she doesn’t remember doing (but i somehow remember every detail). she says that she’s known me for a long time, and i am not capable of doing certain things. the thing that hurts most is that she’s reminded me over and over that i’m the most selfish person she’s met because i don’t see other people’s perspectives.\\n\\nand you know what? she’s right. i’m not a good student, i’m not good at my job, im not a easy person to get along with. i don’t have any hobbies that im especially good at. i don’t have any friends. i have my cat, but my mom says she takes better care of her than i do. i have nobody. if i disappeared, nobody would realize. as soon as i move out of here, i’ll literally have no family, no friends, nothing. there is nothing to keep me here.\\n\\nno matter how good i try to be, i have never been. i’ll never be good.\\n                                                                                                                                                                                                                                                                                                                                                                                                                                                                                                                                                                                                                                                                                                                                                                                                                                                                                                                                                                                                                                                                                                                                                                                                                                                                                                                                                                                                                                                                                                                                                                                                                                                                                                                                                                                          10\n",
      "I don't want to wake up and be me anymore. More specifically; I don't want to wake up and look the way I do.\\n\\nI can't accurately describe to you how this inadequacy I feel every day is like. Without exaggerating; I am objectively ugly. That's just the hard unfortunate reality for me. I am miserable because I know I cannot have/experience what others have. I'm 21 (M), and for the majority of my life could always tell I never quite compared to my contemporaries. It was in high school when I realized the problem was my appearance.\\n\\nMy face is elongated and oval, my chin is recessed and downward grown, I have a flat maxilla, long /flat mid-face, rounded jaw, full and undefined cheeks, childish features, protruded bottom lip, protruding ears, high and broad forehead, my hair is thinning, my body is riddled in stretchmarks from obesity as a teenager, I am autistic, I have a speech impediment, I am below average height, and so is my phallus.\\n\\nI have tried what I could the last few years to try to make myself appear attractive and self-acceptance, but you just can't make me look good, and I just can't accept this being my fate. I know there is more to life than looks, but a lot of it ties into looks. I can't just go out and do the same as an attractive or average person and expect the same results. I haven't experienced anything in my life because I can't. I don't know what some people don't understand. I try, I try, and I try, and I can't make anything happen.                                                                                                                                                                                                                                                                                                                                                                                                                                                                                                                                                                                                                                                                                                                                                                                                                                                                                                                                                                                                                                                                                                                                                                                                                                                                                                                                                                                                                                                                                                                                                                                                                                                                                                                                                                                                                                                                                                                                              10\n",
      "I've attempted suicide in the past and i found a website that would sell me euthanasia liquid without a prescription, but if i get caught i don't know how long i'll go to jail for. Every day it hurts more and more. I'm mentally ill and there's no cure for my disease. I've seen a million doctors and been on all kinds of antidepressants for almost 10 years and it only gets harder as time goes on. I just want my pain to end, but i can't tell my family about my suicidal thoughts or my doctor. I don't want to be taken away again and i don't want to scare anyone, but i don't want to hurt my mom either. I never had the best relationship with my family and i don't want them to blame themselves because they did all that they could. I don't know how much longer i can do this. I just want to sleep forever and never wake up. I don't have a single friend and sometimes i wish i could just get a hug from somebody, literally anybody. I just want to be held, but i can't even find anyone to do that. No one gives a fuck either. People always abandon me when they tell me they'll always be here for me, but they're never anywhere to be found. The thought of killing myself used to scare me and i would always wonder where i would go, but now the thought of it makes me feel calm and i really don't care what's on the other side anymore or even if there is another side. I never knew what it was like to truly be happy and feel loved. I feel so trapped. I don't know what else to do. I emailed them and inquired about prices. They responded and i told myself i would delete it, but i still have it. That's honestly what scares me. I'm not afraid to die anymore. I can't even sleep and suffer from horrible insomnia and addiction. I can't remember the last time i genuinely felt tired without sleeping pills.                                                                                                                                                                                                                                                                                                                                                                                                                                                                                                                                                                                                                                                                                                                                                                                                                                                                                                                                                                                                                                                                                                                                                                                                                                                                                                                                                                                                                                                                                                                                                                                                               10\n",
      "im constantly stressed/anxious everyday bc of work/school/money, and when the stress gets to be too much, my brain immediately resorts to thinking of ways to end it. i think of killing myself all the time. if im driving to work/school, i start fantasizing abt getting into a car accident so catastrophic that it kills me right away. when everything feels like too much, it makes me relieved that i have the power to just end everything at any moment. i wont kill myself anytime soon, but i keep fantasizing abt it. a part of me wants to see how long i can endure life before i eventually do it on impulse. \\n\\n\\ni got 5150'd a few weeks ago bc i told my therapist that i had vivid plans of ending my life. at the time, i only said that bc i was so stressed due to balancing my CNA job and pre-nursing classes. the doctor prescribed me lexapro. i stopped taking it after 2 weeks bc my mom found the pills on my bedside table and was upset, started telling me that all of this anxiety/stress was just in my head. she told me \"you're normal, you dont need pills\" and i just stopped taking them bc i felt like she was right and i was just overreacting. \\n\\nim just rambling now. i constantly feel like im on panic mode every time im at work bc its a high-stress healthcare job, and the rare moments where i make patients' days better or make them smile are everything to me, but im so tired of everything else. i only pursued nursing because my mother told me to. if i cant handle being a CNA, what makes me think i can handle being a nurse? i dont have the courage to tell her i dont want this, that im burnt out and im losing myself while pursuing this path that she decided for me when i was 12, a path that im not even sure about. i have no more motivation or energy to try to change my situation anymore. i feel like i dont deserve to be happy, and therefore theres no point in trying to change my life in an effort to be happy. ill keep pretending that im okay in front of my mother bc i love her. ill keep going to class, keep studying, keep working, and wait out the days until i eventually find it in me to take a knife and stab myself.                                                                                                                                                                                                                                                                                                                                                                                                                                                                                                                                                                                                                                                                                                                                                                                                                                                                                                                                                                                                                                                                                                                                                                                                                                                            10\n",
      "                                                                                                                                                                                                                                                                                                                                                                                                                                                                                                                                                                                                                                                                                                                                                                                                                                                                                                                                                                                                                                                                                                                                                                                                                                                                                                                                                                                                                                                                                                                                                                                                                                                                                                                                                                                                                                                                                                                                                                                                                                                                                                                                                                                                                                                                                                                                                                                                                                                                                                                                                                                                                                                                                                                                                                                                                                                                                                                                                                                                                                                                                                                                                                                                                                                                                                                                                                                                                                                                                         ..\n",
      "I have felt suicidal for 3 weeks now \\nBut i have a great life my parents are divorced and mom is remarried and dad is bipolar but he loves me like crazy and mom is really kind a loving , they have a bit of toxicity like any other parents but they care , not enough clearly but i know they are trying their best \\nI have siblings that are 14 and 16 years older and they care for me and provide shit and my sis also cares and i can talk to her but not about this \\nWhen i was really young like 7-8  (im 16) we were poor but now we can technically afford anything we need and a lot of what we want \\n. I have friends and relatives that love me \\nAnd shit im not an ugly or fat person im a girl who is 6ft and 60kg with long curly brown hair and everyone says im pretty . I have acne but then again who doesn’t . \\nI can only think of one thing that could cause this and im ashamed but also i dont understand my brain anymore . I have a friend 16 F and she is a bit crazy and a shitty friend who always fucks with me and my self esteem and does rude and mean things for no reason \\nBut just when i started to distance myself she dropped the bomb that she attempted suicide 5 times and since she has a pattern of lying i didnt believe her , i told only the principal and assured him to not tell anyone and stopped talking to her and i didnt tell anyone else and she retaliated by making everyone in class hate her with her actions they started to lightly bully her and i just ignored it all . She then started to look like a zombie and dropped everything school related , she went from getting A’s to C’s and she let her appearance go . \\nA few weeks ago i was in the bathroom having my 7th nose bleed of the day and she asked to borrow my phone, she went into a stall and called her mom and she sobbed to her to just pick her up , when she came out she was bawling and saying she was just tired of life and i felt a gut punch . I realized that she might not be lying for the first time . \\nI went to class and packed her shit while everyone starred cuz they knew we weren’t talking but not the reason . I sat in class and shit i felt a panick attack coming on but i was in french and the teacher is really nosy but quite nice so i just masked it , i didn’t want to pass out infront of everyone . \\nWent home and started feeling like i should just jump . I made a list of the ways i could end it and crossed the worst options but i didn’t want to plan it yet but by the second week of this shit i knew i wanted to die . Life has no meaning , i tried to get help and on tiktok i saw that watching 13 reasons why was a good way to cope , that show made things worse for me . \\nI have always had anxiety but now i couldn’t go a day whitout it . \\nI felt like all life lost meaning and felt so fucking guilty for not being there for my friend tho she was horrible but she deserved sm1 that cared . I guess its karma or just that i finally understood her . \\nBut now its much deeper than guilt it real intrusive and suicidal toughts and my anxiety gets so bad when i try to talk to her to right my wrong . I know that i seem pathetic and i have no reason to want to die but this is just how i feel \\nPlease offer advice i need to know what to do i dont want to cause my family harm and go to hell for ending things but idk anymore \\nExistence is meaningless     10\n",
      "I am a 15yr old girl, and I feel like my life is ending, I have tried killing myself before multiple times and no one has ever noticed, I try and tell my mom what's happening with me but I chicken out and just tell her a lighter version of my mental health and somehow she turns it into a lecture, I can't tell anyone because I'm afraid they'll just call me selfish.\\n\\n\\nI'm so afraid, I'm scared of going to school tomorrow since we just got done with out test last week, and in my school the students have to check the test papers and after they give it back to it's owners and we have to announce our score to the whole class it feels so humiliating. I try my best but I can't do anything right, and my classmates are assholes, I can't even report them cause they'll know it's me and it's just gonna become worse. I can't do this anymore I know I won't live past 18. I'm gonna kill myself after graduation. I just feel so tired                                                                                                                                                                                                                                                                                                                                                                                                                                                                                                                                                                                                                                                                                                                                                                                                                                                                                                                                                                                                                                                                                                                                                                                                                                                                                                                                                                                                                                                                                                                                                                                                                                                                                                                                                                                                                                                                                                                                                                                                                                                                                                                                                                                                                                                                                                                                                                                                                                                                                                                      10\n",
      "I don’t know what to do anymore. I have been in the hospital 3 times for suicidal thoughts for the last few months. I have a therapist and take medication,but nothing is working. I have an amazing husband,but sometimes I feel like he would be better off without me. So he can stop worrying about me. I know he would be shattered. I just don’t want to do this anymore. Everyday I think about ending it. The hospital just keeps me safe. It doesn’t help me get better. I wish there was a place where I could get support everyday. My doctor wants me on this medication called spravato. I have been on a waiting list for 7 months now. How do they expect me to keep waiting? Everyday is a struggle. I sleep all day. I’m having a hard time taking care of myself. I’m just so tired                                                                                                                                                                                                                                                                                                                                                                                                                                                                                                                                                                                                                                                                                                                                                                                                                                                                                                                                                                                                                                                                                                                                                                                                                                                                                                                                                                                                                                                                                                                                                                                                                                                                                                                                                                                                                                                                                                                                                                                                                                                                                                                                                                                                                                                                                                                                                                                                                                                                                                                                                                                                                                                                                    10\n",
      "(edited with AI for length)\\n\\n I hit a new low recently and feared becoming homeless. My life has been tough, abusive parents, bad relationships, and constant financial struggles. I worked hard, avoided substance abuse, and did years of therapy, but stability always felt out of reach. Over 40 now, I’ve had roommates most of my adult life due to bad credit and poor financial choices and mostly low income. \\n\\nLast summer, I thought I secured a stable job, only to be ghosted. I took a terrible job to survive, then struggled to get interviews because my tenure was too short. Political chaos made everything worse. I spiraled too much TV, mobile games, and self-hate while pretending I was fine. The final blow came when my boss fired me after I went to the ER for suicidal thoughts, I can't prove this is why I was fired. \\n\\nI nearly gave up, but something in me—maybe pettiness, maybe resilience—said to keep going. I used rubber bands instead of self-harm, rode out the dark days, and today, I got a job offer today that will help me get back on track, its stable and offers good money. I could’ve missed this chance. I've had 3 interviews in 6 months and I finally got the one that mattered.\\n\\nI’m not here to say life is always worth it. I know how deep the pain goes, but I’ve realized I want to be better at handling setbacks. I want love, stability, and a future. Through the years of being broke I've figured out ways to make a better living for myself. Certificates to get, how to afford finishing college. Financial literacy is key. Emotional resilience is key and I don't want to give up on the life I envisioned for myself. And if you’re struggling, I see you. My DMs are open. You matter. 💙                                                                                                                                                                                                                                                                                                                                                                                                                                                                                                                                                                                                                                                                                                                                                                                                                                                                                                                                                                                                                                                                                                                                                                                                                                                                                                                                                                                                                                                                                                                                                                                                                                                                                                           10\n",
      "I've been suicidal since I was 16. I'm 22 now. I've had a 4 sucide attempts and I want to do it again. But I cant do it because I love my dog so much. But life hasn't gone the way I wanted it to. I was adopted from Russia into an American family then put in a group home at 16 because my parents couldnt handle my emotions. I'm still in the group home at 22. It's embarrassing and my provider doesn't belive me when I ask for help. Ive been craving oxycodone because I've ran out of it. Wish I had just taken all of the oxy at once just to end it.                                                                                                                                                                                                                                                                                                                                                                                                                                                                                                                                                                                                                                                                                                                                                                                                                                                                                                                                                                                                                                                                                                                                                                                                                                                                                                                                                                                                                                                                                                                                                                                                                                                                                                                                                                                                                                                                                                                                                                                                                                                                                                                                                                                                                                                                                                                                                                                                                                                                                                                                                                                                                                                                                                                                                                                                                                                                                                                      10\n",
      "Name: count, Length: 100, dtype: int64\n"
     ]
    }
   ],
   "source": [
    "# Check for repeated texts in the \"selftext\" column\n",
    "repeated_texts = reddit_df_1000['selftext'].value_counts()\n",
    "\n",
    "# Filter out texts that are repeated more than once\n",
    "repeated_texts = repeated_texts[repeated_texts > 1]\n",
    "\n",
    "# Display the repeated texts\n",
    "print(repeated_texts)"
   ]
  },
  {
   "cell_type": "markdown",
   "metadata": {},
   "source": [
    "Looks like repeatedly calling the API will not fetch new data, and hence we adopt 100 posts only."
   ]
  },
  {
   "cell_type": "code",
   "execution_count": null,
   "metadata": {},
   "outputs": [],
   "source": [
    "import pandas as pd"
   ]
  },
  {
   "cell_type": "code",
   "execution_count": 36,
   "metadata": {},
   "outputs": [
    {
     "data": {
      "application/vnd.microsoft.datawrangler.viewer.v0+json": {
       "columns": [
        {
         "name": "index",
         "rawType": "int64",
         "type": "integer"
        },
        {
         "name": "approved_at_utc",
         "rawType": "object",
         "type": "unknown"
        },
        {
         "name": "subreddit",
         "rawType": "object",
         "type": "string"
        },
        {
         "name": "selftext",
         "rawType": "object",
         "type": "string"
        },
        {
         "name": "author_fullname",
         "rawType": "object",
         "type": "string"
        },
        {
         "name": "saved",
         "rawType": "bool",
         "type": "boolean"
        },
        {
         "name": "mod_reason_title",
         "rawType": "object",
         "type": "unknown"
        },
        {
         "name": "gilded",
         "rawType": "int64",
         "type": "integer"
        },
        {
         "name": "clicked",
         "rawType": "bool",
         "type": "boolean"
        },
        {
         "name": "title",
         "rawType": "object",
         "type": "string"
        },
        {
         "name": "link_flair_richtext",
         "rawType": "object",
         "type": "unknown"
        },
        {
         "name": "subreddit_name_prefixed",
         "rawType": "object",
         "type": "string"
        },
        {
         "name": "hidden",
         "rawType": "bool",
         "type": "boolean"
        },
        {
         "name": "pwls",
         "rawType": "object",
         "type": "unknown"
        },
        {
         "name": "link_flair_css_class",
         "rawType": "object",
         "type": "unknown"
        },
        {
         "name": "downs",
         "rawType": "int64",
         "type": "integer"
        },
        {
         "name": "top_awarded_type",
         "rawType": "object",
         "type": "unknown"
        },
        {
         "name": "hide_score",
         "rawType": "bool",
         "type": "boolean"
        },
        {
         "name": "name",
         "rawType": "object",
         "type": "string"
        },
        {
         "name": "quarantine",
         "rawType": "bool",
         "type": "boolean"
        },
        {
         "name": "link_flair_text_color",
         "rawType": "object",
         "type": "string"
        },
        {
         "name": "upvote_ratio",
         "rawType": "float64",
         "type": "float"
        },
        {
         "name": "author_flair_background_color",
         "rawType": "object",
         "type": "unknown"
        },
        {
         "name": "subreddit_type",
         "rawType": "object",
         "type": "string"
        },
        {
         "name": "ups",
         "rawType": "int64",
         "type": "integer"
        },
        {
         "name": "total_awards_received",
         "rawType": "int64",
         "type": "integer"
        },
        {
         "name": "media_embed",
         "rawType": "object",
         "type": "unknown"
        },
        {
         "name": "author_flair_template_id",
         "rawType": "object",
         "type": "unknown"
        },
        {
         "name": "is_original_content",
         "rawType": "bool",
         "type": "boolean"
        },
        {
         "name": "user_reports",
         "rawType": "object",
         "type": "unknown"
        },
        {
         "name": "secure_media",
         "rawType": "object",
         "type": "unknown"
        },
        {
         "name": "is_reddit_media_domain",
         "rawType": "bool",
         "type": "boolean"
        },
        {
         "name": "is_meta",
         "rawType": "bool",
         "type": "boolean"
        },
        {
         "name": "category",
         "rawType": "object",
         "type": "unknown"
        },
        {
         "name": "secure_media_embed",
         "rawType": "object",
         "type": "unknown"
        },
        {
         "name": "link_flair_text",
         "rawType": "object",
         "type": "unknown"
        },
        {
         "name": "can_mod_post",
         "rawType": "bool",
         "type": "boolean"
        },
        {
         "name": "score",
         "rawType": "int64",
         "type": "integer"
        },
        {
         "name": "approved_by",
         "rawType": "object",
         "type": "unknown"
        },
        {
         "name": "is_created_from_ads_ui",
         "rawType": "bool",
         "type": "boolean"
        },
        {
         "name": "author_premium",
         "rawType": "bool",
         "type": "boolean"
        },
        {
         "name": "thumbnail",
         "rawType": "object",
         "type": "string"
        },
        {
         "name": "edited",
         "rawType": "object",
         "type": "unknown"
        },
        {
         "name": "author_flair_css_class",
         "rawType": "object",
         "type": "unknown"
        },
        {
         "name": "author_flair_richtext",
         "rawType": "object",
         "type": "unknown"
        },
        {
         "name": "gildings",
         "rawType": "object",
         "type": "unknown"
        },
        {
         "name": "content_categories",
         "rawType": "object",
         "type": "unknown"
        },
        {
         "name": "is_self",
         "rawType": "bool",
         "type": "boolean"
        },
        {
         "name": "mod_note",
         "rawType": "object",
         "type": "unknown"
        },
        {
         "name": "created",
         "rawType": "float64",
         "type": "float"
        },
        {
         "name": "link_flair_type",
         "rawType": "object",
         "type": "string"
        },
        {
         "name": "wls",
         "rawType": "object",
         "type": "unknown"
        },
        {
         "name": "removed_by_category",
         "rawType": "object",
         "type": "unknown"
        },
        {
         "name": "banned_by",
         "rawType": "object",
         "type": "unknown"
        },
        {
         "name": "author_flair_type",
         "rawType": "object",
         "type": "string"
        },
        {
         "name": "domain",
         "rawType": "object",
         "type": "string"
        },
        {
         "name": "allow_live_comments",
         "rawType": "bool",
         "type": "boolean"
        },
        {
         "name": "selftext_html",
         "rawType": "object",
         "type": "string"
        },
        {
         "name": "likes",
         "rawType": "object",
         "type": "unknown"
        },
        {
         "name": "suggested_sort",
         "rawType": "object",
         "type": "unknown"
        },
        {
         "name": "banned_at_utc",
         "rawType": "object",
         "type": "unknown"
        },
        {
         "name": "view_count",
         "rawType": "object",
         "type": "unknown"
        },
        {
         "name": "archived",
         "rawType": "bool",
         "type": "boolean"
        },
        {
         "name": "no_follow",
         "rawType": "bool",
         "type": "boolean"
        },
        {
         "name": "is_crosspostable",
         "rawType": "bool",
         "type": "boolean"
        },
        {
         "name": "pinned",
         "rawType": "bool",
         "type": "boolean"
        },
        {
         "name": "over_18",
         "rawType": "bool",
         "type": "boolean"
        },
        {
         "name": "all_awardings",
         "rawType": "object",
         "type": "unknown"
        },
        {
         "name": "awarders",
         "rawType": "object",
         "type": "unknown"
        },
        {
         "name": "media_only",
         "rawType": "bool",
         "type": "boolean"
        },
        {
         "name": "can_gild",
         "rawType": "bool",
         "type": "boolean"
        },
        {
         "name": "spoiler",
         "rawType": "bool",
         "type": "boolean"
        },
        {
         "name": "locked",
         "rawType": "bool",
         "type": "boolean"
        },
        {
         "name": "author_flair_text",
         "rawType": "object",
         "type": "unknown"
        },
        {
         "name": "treatment_tags",
         "rawType": "object",
         "type": "unknown"
        },
        {
         "name": "visited",
         "rawType": "bool",
         "type": "boolean"
        },
        {
         "name": "removed_by",
         "rawType": "object",
         "type": "unknown"
        },
        {
         "name": "num_reports",
         "rawType": "object",
         "type": "unknown"
        },
        {
         "name": "distinguished",
         "rawType": "object",
         "type": "unknown"
        },
        {
         "name": "subreddit_id",
         "rawType": "object",
         "type": "string"
        },
        {
         "name": "author_is_blocked",
         "rawType": "bool",
         "type": "boolean"
        },
        {
         "name": "mod_reason_by",
         "rawType": "object",
         "type": "unknown"
        },
        {
         "name": "removal_reason",
         "rawType": "object",
         "type": "unknown"
        },
        {
         "name": "link_flair_background_color",
         "rawType": "object",
         "type": "string"
        },
        {
         "name": "id",
         "rawType": "object",
         "type": "string"
        },
        {
         "name": "is_robot_indexable",
         "rawType": "bool",
         "type": "boolean"
        },
        {
         "name": "report_reasons",
         "rawType": "object",
         "type": "unknown"
        },
        {
         "name": "author",
         "rawType": "object",
         "type": "string"
        },
        {
         "name": "discussion_type",
         "rawType": "object",
         "type": "unknown"
        },
        {
         "name": "num_comments",
         "rawType": "int64",
         "type": "integer"
        },
        {
         "name": "send_replies",
         "rawType": "bool",
         "type": "boolean"
        },
        {
         "name": "contest_mode",
         "rawType": "bool",
         "type": "boolean"
        },
        {
         "name": "mod_reports",
         "rawType": "object",
         "type": "unknown"
        },
        {
         "name": "author_patreon_flair",
         "rawType": "bool",
         "type": "boolean"
        },
        {
         "name": "author_flair_text_color",
         "rawType": "object",
         "type": "unknown"
        },
        {
         "name": "permalink",
         "rawType": "object",
         "type": "string"
        },
        {
         "name": "stickied",
         "rawType": "bool",
         "type": "boolean"
        },
        {
         "name": "url",
         "rawType": "object",
         "type": "string"
        },
        {
         "name": "subreddit_subscribers",
         "rawType": "int64",
         "type": "integer"
        },
        {
         "name": "created_utc",
         "rawType": "float64",
         "type": "float"
        },
        {
         "name": "num_crossposts",
         "rawType": "int64",
         "type": "integer"
        },
        {
         "name": "media",
         "rawType": "object",
         "type": "unknown"
        },
        {
         "name": "is_video",
         "rawType": "bool",
         "type": "boolean"
        }
       ],
       "conversionMethod": "pd.DataFrame",
       "ref": "b316d3bb-03f5-410a-a3b8-190832478b54",
       "rows": [
        [
         "0",
         null,
         "SuicideWatch",
         "I reached a really low point today. I am struggling a lot financially trying to support my two kids. I may lose my house. I work full time and I do my best but it's never enough. I made a whole plan today to get a huge life insurance policy. One that still pays out after unaliving, and I figure I just wait the year or so and then I will know they are well taken care of for the rest of their lives. \n\nIt is better for them I think to have the structure of keeping their home and not having to worry about their next meal or clothes or anything. I promised myself they would never need for anything. \n\nIDK what else to do because I feel like that's exactly what a good mother would do. Anything for their children. It's my fault we are struggling. I left a very unhappy marriage almost a year ago. Selfishly. If I had stayed there they wouldn't need anything because my ex made good money. But when I left him, he left his job and now doesn't pay almost anything for child support since he doesn't work. \n\nI was selfish and a bad mother. And now it's my fault they may suffer. So it's my job to make it right for them. \n\nI don't know why I'm posting this. ",
         "t2_xs124w9j5",
         "False",
         null,
         "0",
         "False",
         "Help?",
         "[]",
         "r/SuicideWatch",
         "False",
         null,
         null,
         "0",
         null,
         "True",
         "t3_1jdy3rk",
         "False",
         "dark",
         "1.0",
         null,
         "public",
         "1",
         "0",
         "{}",
         null,
         "False",
         "[]",
         null,
         "False",
         "False",
         null,
         "{}",
         null,
         "False",
         "1",
         null,
         "False",
         "False",
         "",
         "False",
         null,
         "[]",
         "{}",
         null,
         "True",
         null,
         "1742276552.0",
         "text",
         null,
         null,
         null,
         "text",
         "self.SuicideWatch",
         "False",
         "&lt;!-- SC_OFF --&gt;&lt;div class=\"md\"&gt;&lt;p&gt;I reached a really low point today. I am struggling a lot financially trying to support my two kids. I may lose my house. I work full time and I do my best but it&amp;#39;s never enough. I made a whole plan today to get a huge life insurance policy. One that still pays out after unaliving, and I figure I just wait the year or so and then I will know they are well taken care of for the rest of their lives. &lt;/p&gt;\n\n&lt;p&gt;It is better for them I think to have the structure of keeping their home and not having to worry about their next meal or clothes or anything. I promised myself they would never need for anything. &lt;/p&gt;\n\n&lt;p&gt;IDK what else to do because I feel like that&amp;#39;s exactly what a good mother would do. Anything for their children. It&amp;#39;s my fault we are struggling. I left a very unhappy marriage almost a year ago. Selfishly. If I had stayed there they wouldn&amp;#39;t need anything because my ex made good money. But when I left him, he left his job and now doesn&amp;#39;t pay almost anything for child support since he doesn&amp;#39;t work. &lt;/p&gt;\n\n&lt;p&gt;I was selfish and a bad mother. And now it&amp;#39;s my fault they may suffer. So it&amp;#39;s my job to make it right for them. &lt;/p&gt;\n\n&lt;p&gt;I don&amp;#39;t know why I&amp;#39;m posting this. &lt;/p&gt;\n&lt;/div&gt;&lt;!-- SC_ON --&gt;",
         null,
         null,
         null,
         null,
         "False",
         "True",
         "False",
         "False",
         "False",
         "[]",
         "[]",
         "False",
         "False",
         "False",
         "False",
         null,
         "[]",
         "False",
         null,
         null,
         null,
         "t5_2qpzs",
         "False",
         null,
         null,
         "",
         "1jdy3rk",
         "True",
         null,
         "Happy_Cup_1509",
         null,
         "0",
         "True",
         "False",
         "[]",
         "False",
         null,
         "/r/SuicideWatch/comments/1jdy3rk/help/",
         "False",
         "https://www.reddit.com/r/SuicideWatch/comments/1jdy3rk/help/",
         "519431",
         "1742276552.0",
         "0",
         null,
         "False"
        ],
        [
         "1",
         null,
         "SuicideWatch",
         "Everyone wants to pathologize, moralize, and reduce their liability and exposure to suicide. \nIf people want others to not feel suicidal, you have to do more than coerce, threaten, avoid, preach at, or shame those who feel this way. \n\nThe solution is really fucking simple, have some god damn empathy. Yet...there's not really any in my life. No one gives a fuck.",
         "t2_pfkg1yd73",
         "False",
         null,
         "0",
         "False",
         "There's no real help for people, because people won't treat suicidal feelings as legitimate",
         "[]",
         "r/SuicideWatch",
         "False",
         null,
         null,
         "0",
         null,
         "True",
         "t3_1jdy0mk",
         "False",
         "dark",
         "1.0",
         null,
         "public",
         "4",
         "0",
         "{}",
         "2a7b5518-8e45-11e5-a506-0ed10b342609",
         "False",
         "[]",
         null,
         "False",
         "False",
         null,
         "{}",
         null,
         "False",
         "4",
         null,
         "False",
         "False",
         "",
         "False",
         "modmsg",
         "[]",
         "{}",
         null,
         "True",
         null,
         "1742276172.0",
         "text",
         null,
         null,
         null,
         "text",
         "self.SuicideWatch",
         "False",
         "&lt;!-- SC_OFF --&gt;&lt;div class=\"md\"&gt;&lt;p&gt;Everyone wants to pathologize, moralize, and reduce their liability and exposure to suicide. \nIf people want others to not feel suicidal, you have to do more than coerce, threaten, avoid, preach at, or shame those who feel this way. &lt;/p&gt;\n\n&lt;p&gt;The solution is really fucking simple, have some god damn empathy. Yet...there&amp;#39;s not really any in my life. No one gives a fuck.&lt;/p&gt;\n&lt;/div&gt;&lt;!-- SC_ON --&gt;",
         null,
         null,
         null,
         null,
         "False",
         "False",
         "False",
         "False",
         "False",
         "[]",
         "[]",
         "False",
         "False",
         "False",
         "False",
         "",
         "[]",
         "False",
         null,
         null,
         null,
         "t5_2qpzs",
         "False",
         null,
         null,
         "",
         "1jdy0mk",
         "True",
         null,
         "Accursed_Capybara",
         null,
         "0",
         "True",
         "False",
         "[]",
         "False",
         "dark",
         "/r/SuicideWatch/comments/1jdy0mk/theres_no_real_help_for_people_because_people/",
         "False",
         "https://www.reddit.com/r/SuicideWatch/comments/1jdy0mk/theres_no_real_help_for_people_because_people/",
         "519431",
         "1742276172.0",
         "0",
         null,
         "False"
        ],
        [
         "2",
         null,
         "SuicideWatch",
         "hi everyone. i’ve tried to be GOOD for as long as i can remember. i’ve always tried to pick a job where i was helping someone; i volunteered and worked at the animal shelter for years, became a 911 dispatcher, have tried to always help people and go out of my way whenever i can. \n\ni got into a decent spot mentally, but then i moved back in with my mom. she has reminded me within a couple weeks who i really am. we never had a good relationship when i was growing up. she was going through a lot and i was the one who was more outspoken, so she took a lot of frustration out on me. i moved out at 18 but moved back in at 21. \n\nshe’s explained to me that i am verbally abusive; i bring stuff up from the past way too much, and hurt her feelings with things that she’s done in the past that she doesn’t remember doing (but i somehow remember every detail). she says that she’s known me for a long time, and i am not capable of doing certain things. the thing that hurts most is that she’s reminded me over and over that i’m the most selfish person she’s met because i don’t see other people’s perspectives.\n\nand you know what? she’s right. i’m not a good student, i’m not good at my job, im not a easy person to get along with. i don’t have any hobbies that im especially good at. i don’t have any friends. i have my cat, but my mom says she takes better care of her than i do. i have nobody. if i disappeared, nobody would realize. as soon as i move out of here, i’ll literally have no family, no friends, nothing. there is nothing to keep me here.\n\nno matter how good i try to be, i have never been. i’ll never be good.\n",
         "t2_1cyguorgnl",
         "False",
         null,
         "0",
         "False",
         "i want to end things because i don’t like who i am",
         "[]",
         "r/SuicideWatch",
         "False",
         null,
         null,
         "0",
         null,
         "True",
         "t3_1jdy040",
         "False",
         "dark",
         "1.0",
         null,
         "public",
         "1",
         "0",
         "{}",
         null,
         "False",
         "[]",
         null,
         "False",
         "False",
         null,
         "{}",
         null,
         "False",
         "1",
         null,
         "False",
         "False",
         "",
         "False",
         null,
         "[]",
         "{}",
         null,
         "True",
         null,
         "1742276113.0",
         "text",
         null,
         null,
         null,
         "text",
         "self.SuicideWatch",
         "False",
         "&lt;!-- SC_OFF --&gt;&lt;div class=\"md\"&gt;&lt;p&gt;hi everyone. i’ve tried to be GOOD for as long as i can remember. i’ve always tried to pick a job where i was helping someone; i volunteered and worked at the animal shelter for years, became a 911 dispatcher, have tried to always help people and go out of my way whenever i can. &lt;/p&gt;\n\n&lt;p&gt;i got into a decent spot mentally, but then i moved back in with my mom. she has reminded me within a couple weeks who i really am. we never had a good relationship when i was growing up. she was going through a lot and i was the one who was more outspoken, so she took a lot of frustration out on me. i moved out at 18 but moved back in at 21. &lt;/p&gt;\n\n&lt;p&gt;she’s explained to me that i am verbally abusive; i bring stuff up from the past way too much, and hurt her feelings with things that she’s done in the past that she doesn’t remember doing (but i somehow remember every detail). she says that she’s known me for a long time, and i am not capable of doing certain things. the thing that hurts most is that she’s reminded me over and over that i’m the most selfish person she’s met because i don’t see other people’s perspectives.&lt;/p&gt;\n\n&lt;p&gt;and you know what? she’s right. i’m not a good student, i’m not good at my job, im not a easy person to get along with. i don’t have any hobbies that im especially good at. i don’t have any friends. i have my cat, but my mom says she takes better care of her than i do. i have nobody. if i disappeared, nobody would realize. as soon as i move out of here, i’ll literally have no family, no friends, nothing. there is nothing to keep me here.&lt;/p&gt;\n\n&lt;p&gt;no matter how good i try to be, i have never been. i’ll never be good.&lt;/p&gt;\n&lt;/div&gt;&lt;!-- SC_ON --&gt;",
         null,
         null,
         null,
         null,
         "False",
         "True",
         "False",
         "False",
         "False",
         "[]",
         "[]",
         "False",
         "False",
         "False",
         "False",
         null,
         "[]",
         "False",
         null,
         null,
         null,
         "t5_2qpzs",
         "False",
         null,
         null,
         "",
         "1jdy040",
         "True",
         null,
         "Emotional_Moose_3019",
         null,
         "0",
         "True",
         "False",
         "[]",
         "False",
         null,
         "/r/SuicideWatch/comments/1jdy040/i_want_to_end_things_because_i_dont_like_who_i_am/",
         "False",
         "https://www.reddit.com/r/SuicideWatch/comments/1jdy040/i_want_to_end_things_because_i_dont_like_who_i_am/",
         "519431",
         "1742276113.0",
         "0",
         null,
         "False"
        ],
        [
         "3",
         null,
         "SuicideWatch",
         "I don't want to wake up and be me anymore. More specifically; I don't want to wake up and look the way I do.\n\nI can't accurately describe to you how this inadequacy I feel every day is like. Without exaggerating; I am objectively ugly. That's just the hard unfortunate reality for me. I am miserable because I know I cannot have/experience what others have. I'm 21 (M), and for the majority of my life could always tell I never quite compared to my contemporaries. It was in high school when I realized the problem was my appearance.\n\nMy face is elongated and oval, my chin is recessed and downward grown, I have a flat maxilla, long /flat mid-face, rounded jaw, full and undefined cheeks, childish features, protruded bottom lip, protruding ears, high and broad forehead, my hair is thinning, my body is riddled in stretchmarks from obesity as a teenager, I am autistic, I have a speech impediment, I am below average height, and so is my phallus.\n\nI have tried what I could the last few years to try to make myself appear attractive and self-acceptance, but you just can't make me look good, and I just can't accept this being my fate. I know there is more to life than looks, but a lot of it ties into looks. I can't just go out and do the same as an attractive or average person and expect the same results. I haven't experienced anything in my life because I can't. I don't know what some people don't understand. I try, I try, and I try, and I can't make anything happen.",
         "t2_1ld9rc3s1l",
         "False",
         null,
         "0",
         "False",
         "I don't think I can continue with who I am.",
         "[]",
         "r/SuicideWatch",
         "False",
         null,
         null,
         "0",
         null,
         "True",
         "t3_1jdxyyu",
         "False",
         "dark",
         "1.0",
         null,
         "public",
         "2",
         "0",
         "{}",
         null,
         "False",
         "[]",
         null,
         "False",
         "False",
         null,
         "{}",
         null,
         "False",
         "2",
         null,
         "False",
         "False",
         "",
         "False",
         null,
         "[]",
         "{}",
         null,
         "True",
         null,
         "1742275977.0",
         "text",
         null,
         null,
         null,
         "text",
         "self.SuicideWatch",
         "False",
         "&lt;!-- SC_OFF --&gt;&lt;div class=\"md\"&gt;&lt;p&gt;I don&amp;#39;t want to wake up and be me anymore. More specifically; I don&amp;#39;t want to wake up and look the way I do.&lt;/p&gt;\n\n&lt;p&gt;I can&amp;#39;t accurately describe to you how this inadequacy I feel every day is like. Without exaggerating; I am objectively ugly. That&amp;#39;s just the hard unfortunate reality for me. I am miserable because I know I cannot have/experience what others have. I&amp;#39;m 21 (M), and for the majority of my life could always tell I never quite compared to my contemporaries. It was in high school when I realized the problem was my appearance.&lt;/p&gt;\n\n&lt;p&gt;My face is elongated and oval, my chin is recessed and downward grown, I have a flat maxilla, long /flat mid-face, rounded jaw, full and undefined cheeks, childish features, protruded bottom lip, protruding ears, high and broad forehead, my hair is thinning, my body is riddled in stretchmarks from obesity as a teenager, I am autistic, I have a speech impediment, I am below average height, and so is my phallus.&lt;/p&gt;\n\n&lt;p&gt;I have tried what I could the last few years to try to make myself appear attractive and self-acceptance, but you just can&amp;#39;t make me look good, and I just can&amp;#39;t accept this being my fate. I know there is more to life than looks, but a lot of it ties into looks. I can&amp;#39;t just go out and do the same as an attractive or average person and expect the same results. I haven&amp;#39;t experienced anything in my life because I can&amp;#39;t. I don&amp;#39;t know what some people don&amp;#39;t understand. I try, I try, and I try, and I can&amp;#39;t make anything happen.&lt;/p&gt;\n&lt;/div&gt;&lt;!-- SC_ON --&gt;",
         null,
         null,
         null,
         null,
         "False",
         "False",
         "False",
         "False",
         "False",
         "[]",
         "[]",
         "False",
         "False",
         "False",
         "False",
         null,
         "[]",
         "False",
         null,
         null,
         null,
         "t5_2qpzs",
         "False",
         null,
         null,
         "",
         "1jdxyyu",
         "True",
         null,
         "Standard-Program7042",
         null,
         "0",
         "True",
         "False",
         "[]",
         "False",
         null,
         "/r/SuicideWatch/comments/1jdxyyu/i_dont_think_i_can_continue_with_who_i_am/",
         "False",
         "https://www.reddit.com/r/SuicideWatch/comments/1jdxyyu/i_dont_think_i_can_continue_with_who_i_am/",
         "519431",
         "1742275977.0",
         "0",
         null,
         "False"
        ],
        [
         "4",
         null,
         "SuicideWatch",
         "I've attempted suicide in the past and i found a website that would sell me euthanasia liquid without a prescription, but if i get caught i don't know how long i'll go to jail for. Every day it hurts more and more. I'm mentally ill and there's no cure for my disease. I've seen a million doctors and been on all kinds of antidepressants for almost 10 years and it only gets harder as time goes on. I just want my pain to end, but i can't tell my family about my suicidal thoughts or my doctor. I don't want to be taken away again and i don't want to scare anyone, but i don't want to hurt my mom either. I never had the best relationship with my family and i don't want them to blame themselves because they did all that they could. I don't know how much longer i can do this. I just want to sleep forever and never wake up. I don't have a single friend and sometimes i wish i could just get a hug from somebody, literally anybody. I just want to be held, but i can't even find anyone to do that. No one gives a fuck either. People always abandon me when they tell me they'll always be here for me, but they're never anywhere to be found. The thought of killing myself used to scare me and i would always wonder where i would go, but now the thought of it makes me feel calm and i really don't care what's on the other side anymore or even if there is another side. I never knew what it was like to truly be happy and feel loved. I feel so trapped. I don't know what else to do. I emailed them and inquired about prices. They responded and i told myself i would delete it, but i still have it. That's honestly what scares me. I'm not afraid to die anymore. I can't even sleep and suffer from horrible insomnia and addiction. I can't remember the last time i genuinely felt tired without sleeping pills. ",
         "t2_1lfbomi4g8",
         "False",
         null,
         "0",
         "False",
         "I'm not afraid to die, but i'm only here because of my family.",
         "[]",
         "r/SuicideWatch",
         "False",
         null,
         null,
         "0",
         null,
         "True",
         "t3_1jdxylv",
         "False",
         "dark",
         "1.0",
         null,
         "public",
         "2",
         "0",
         "{}",
         null,
         "False",
         "[]",
         null,
         "False",
         "False",
         null,
         "{}",
         null,
         "False",
         "2",
         null,
         "False",
         "False",
         "",
         "False",
         null,
         "[]",
         "{}",
         null,
         "True",
         null,
         "1742275930.0",
         "text",
         null,
         null,
         null,
         "text",
         "self.SuicideWatch",
         "False",
         "&lt;!-- SC_OFF --&gt;&lt;div class=\"md\"&gt;&lt;p&gt;I&amp;#39;ve attempted suicide in the past and i found a website that would sell me euthanasia liquid without a prescription, but if i get caught i don&amp;#39;t know how long i&amp;#39;ll go to jail for. Every day it hurts more and more. I&amp;#39;m mentally ill and there&amp;#39;s no cure for my disease. I&amp;#39;ve seen a million doctors and been on all kinds of antidepressants for almost 10 years and it only gets harder as time goes on. I just want my pain to end, but i can&amp;#39;t tell my family about my suicidal thoughts or my doctor. I don&amp;#39;t want to be taken away again and i don&amp;#39;t want to scare anyone, but i don&amp;#39;t want to hurt my mom either. I never had the best relationship with my family and i don&amp;#39;t want them to blame themselves because they did all that they could. I don&amp;#39;t know how much longer i can do this. I just want to sleep forever and never wake up. I don&amp;#39;t have a single friend and sometimes i wish i could just get a hug from somebody, literally anybody. I just want to be held, but i can&amp;#39;t even find anyone to do that. No one gives a fuck either. People always abandon me when they tell me they&amp;#39;ll always be here for me, but they&amp;#39;re never anywhere to be found. The thought of killing myself used to scare me and i would always wonder where i would go, but now the thought of it makes me feel calm and i really don&amp;#39;t care what&amp;#39;s on the other side anymore or even if there is another side. I never knew what it was like to truly be happy and feel loved. I feel so trapped. I don&amp;#39;t know what else to do. I emailed them and inquired about prices. They responded and i told myself i would delete it, but i still have it. That&amp;#39;s honestly what scares me. I&amp;#39;m not afraid to die anymore. I can&amp;#39;t even sleep and suffer from horrible insomnia and addiction. I can&amp;#39;t remember the last time i genuinely felt tired without sleeping pills. &lt;/p&gt;\n&lt;/div&gt;&lt;!-- SC_ON --&gt;",
         null,
         null,
         null,
         null,
         "False",
         "False",
         "False",
         "False",
         "False",
         "[]",
         "[]",
         "False",
         "False",
         "False",
         "False",
         null,
         "[]",
         "False",
         null,
         null,
         null,
         "t5_2qpzs",
         "False",
         null,
         null,
         "",
         "1jdxylv",
         "True",
         null,
         "catsaladd",
         null,
         "0",
         "True",
         "False",
         "[]",
         "False",
         null,
         "/r/SuicideWatch/comments/1jdxylv/im_not_afraid_to_die_but_im_only_here_because_of/",
         "False",
         "https://www.reddit.com/r/SuicideWatch/comments/1jdxylv/im_not_afraid_to_die_but_im_only_here_because_of/",
         "519431",
         "1742275930.0",
         "0",
         null,
         "False"
        ]
       ],
       "shape": {
        "columns": 102,
        "rows": 5
       }
      },
      "text/html": [
       "<div>\n",
       "<style scoped>\n",
       "    .dataframe tbody tr th:only-of-type {\n",
       "        vertical-align: middle;\n",
       "    }\n",
       "\n",
       "    .dataframe tbody tr th {\n",
       "        vertical-align: top;\n",
       "    }\n",
       "\n",
       "    .dataframe thead th {\n",
       "        text-align: right;\n",
       "    }\n",
       "</style>\n",
       "<table border=\"1\" class=\"dataframe\">\n",
       "  <thead>\n",
       "    <tr style=\"text-align: right;\">\n",
       "      <th></th>\n",
       "      <th>approved_at_utc</th>\n",
       "      <th>subreddit</th>\n",
       "      <th>selftext</th>\n",
       "      <th>author_fullname</th>\n",
       "      <th>saved</th>\n",
       "      <th>mod_reason_title</th>\n",
       "      <th>gilded</th>\n",
       "      <th>clicked</th>\n",
       "      <th>title</th>\n",
       "      <th>link_flair_richtext</th>\n",
       "      <th>...</th>\n",
       "      <th>author_patreon_flair</th>\n",
       "      <th>author_flair_text_color</th>\n",
       "      <th>permalink</th>\n",
       "      <th>stickied</th>\n",
       "      <th>url</th>\n",
       "      <th>subreddit_subscribers</th>\n",
       "      <th>created_utc</th>\n",
       "      <th>num_crossposts</th>\n",
       "      <th>media</th>\n",
       "      <th>is_video</th>\n",
       "    </tr>\n",
       "  </thead>\n",
       "  <tbody>\n",
       "    <tr>\n",
       "      <th>0</th>\n",
       "      <td>None</td>\n",
       "      <td>SuicideWatch</td>\n",
       "      <td>I reached a really low point today. I am strug...</td>\n",
       "      <td>t2_xs124w9j5</td>\n",
       "      <td>False</td>\n",
       "      <td>None</td>\n",
       "      <td>0</td>\n",
       "      <td>False</td>\n",
       "      <td>Help?</td>\n",
       "      <td>[]</td>\n",
       "      <td>...</td>\n",
       "      <td>False</td>\n",
       "      <td>None</td>\n",
       "      <td>/r/SuicideWatch/comments/1jdy3rk/help/</td>\n",
       "      <td>False</td>\n",
       "      <td>https://www.reddit.com/r/SuicideWatch/comments...</td>\n",
       "      <td>519431</td>\n",
       "      <td>1.742277e+09</td>\n",
       "      <td>0</td>\n",
       "      <td>None</td>\n",
       "      <td>False</td>\n",
       "    </tr>\n",
       "    <tr>\n",
       "      <th>1</th>\n",
       "      <td>None</td>\n",
       "      <td>SuicideWatch</td>\n",
       "      <td>Everyone wants to pathologize, moralize, and r...</td>\n",
       "      <td>t2_pfkg1yd73</td>\n",
       "      <td>False</td>\n",
       "      <td>None</td>\n",
       "      <td>0</td>\n",
       "      <td>False</td>\n",
       "      <td>There's no real help for people, because peopl...</td>\n",
       "      <td>[]</td>\n",
       "      <td>...</td>\n",
       "      <td>False</td>\n",
       "      <td>dark</td>\n",
       "      <td>/r/SuicideWatch/comments/1jdy0mk/theres_no_rea...</td>\n",
       "      <td>False</td>\n",
       "      <td>https://www.reddit.com/r/SuicideWatch/comments...</td>\n",
       "      <td>519431</td>\n",
       "      <td>1.742276e+09</td>\n",
       "      <td>0</td>\n",
       "      <td>None</td>\n",
       "      <td>False</td>\n",
       "    </tr>\n",
       "    <tr>\n",
       "      <th>2</th>\n",
       "      <td>None</td>\n",
       "      <td>SuicideWatch</td>\n",
       "      <td>hi everyone. i’ve tried to be GOOD for as long...</td>\n",
       "      <td>t2_1cyguorgnl</td>\n",
       "      <td>False</td>\n",
       "      <td>None</td>\n",
       "      <td>0</td>\n",
       "      <td>False</td>\n",
       "      <td>i want to end things because i don’t like who ...</td>\n",
       "      <td>[]</td>\n",
       "      <td>...</td>\n",
       "      <td>False</td>\n",
       "      <td>None</td>\n",
       "      <td>/r/SuicideWatch/comments/1jdy040/i_want_to_end...</td>\n",
       "      <td>False</td>\n",
       "      <td>https://www.reddit.com/r/SuicideWatch/comments...</td>\n",
       "      <td>519431</td>\n",
       "      <td>1.742276e+09</td>\n",
       "      <td>0</td>\n",
       "      <td>None</td>\n",
       "      <td>False</td>\n",
       "    </tr>\n",
       "    <tr>\n",
       "      <th>3</th>\n",
       "      <td>None</td>\n",
       "      <td>SuicideWatch</td>\n",
       "      <td>I don't want to wake up and be me anymore. Mor...</td>\n",
       "      <td>t2_1ld9rc3s1l</td>\n",
       "      <td>False</td>\n",
       "      <td>None</td>\n",
       "      <td>0</td>\n",
       "      <td>False</td>\n",
       "      <td>I don't think I can continue with who I am.</td>\n",
       "      <td>[]</td>\n",
       "      <td>...</td>\n",
       "      <td>False</td>\n",
       "      <td>None</td>\n",
       "      <td>/r/SuicideWatch/comments/1jdxyyu/i_dont_think_...</td>\n",
       "      <td>False</td>\n",
       "      <td>https://www.reddit.com/r/SuicideWatch/comments...</td>\n",
       "      <td>519431</td>\n",
       "      <td>1.742276e+09</td>\n",
       "      <td>0</td>\n",
       "      <td>None</td>\n",
       "      <td>False</td>\n",
       "    </tr>\n",
       "    <tr>\n",
       "      <th>4</th>\n",
       "      <td>None</td>\n",
       "      <td>SuicideWatch</td>\n",
       "      <td>I've attempted suicide in the past and i found...</td>\n",
       "      <td>t2_1lfbomi4g8</td>\n",
       "      <td>False</td>\n",
       "      <td>None</td>\n",
       "      <td>0</td>\n",
       "      <td>False</td>\n",
       "      <td>I'm not afraid to die, but i'm only here becau...</td>\n",
       "      <td>[]</td>\n",
       "      <td>...</td>\n",
       "      <td>False</td>\n",
       "      <td>None</td>\n",
       "      <td>/r/SuicideWatch/comments/1jdxylv/im_not_afraid...</td>\n",
       "      <td>False</td>\n",
       "      <td>https://www.reddit.com/r/SuicideWatch/comments...</td>\n",
       "      <td>519431</td>\n",
       "      <td>1.742276e+09</td>\n",
       "      <td>0</td>\n",
       "      <td>None</td>\n",
       "      <td>False</td>\n",
       "    </tr>\n",
       "  </tbody>\n",
       "</table>\n",
       "<p>5 rows × 102 columns</p>\n",
       "</div>"
      ],
      "text/plain": [
       "  approved_at_utc     subreddit  \\\n",
       "0            None  SuicideWatch   \n",
       "1            None  SuicideWatch   \n",
       "2            None  SuicideWatch   \n",
       "3            None  SuicideWatch   \n",
       "4            None  SuicideWatch   \n",
       "\n",
       "                                            selftext author_fullname  saved  \\\n",
       "0  I reached a really low point today. I am strug...    t2_xs124w9j5  False   \n",
       "1  Everyone wants to pathologize, moralize, and r...    t2_pfkg1yd73  False   \n",
       "2  hi everyone. i’ve tried to be GOOD for as long...   t2_1cyguorgnl  False   \n",
       "3  I don't want to wake up and be me anymore. Mor...   t2_1ld9rc3s1l  False   \n",
       "4  I've attempted suicide in the past and i found...   t2_1lfbomi4g8  False   \n",
       "\n",
       "  mod_reason_title  gilded  clicked  \\\n",
       "0             None       0    False   \n",
       "1             None       0    False   \n",
       "2             None       0    False   \n",
       "3             None       0    False   \n",
       "4             None       0    False   \n",
       "\n",
       "                                               title link_flair_richtext  ...  \\\n",
       "0                                              Help?                  []  ...   \n",
       "1  There's no real help for people, because peopl...                  []  ...   \n",
       "2  i want to end things because i don’t like who ...                  []  ...   \n",
       "3        I don't think I can continue with who I am.                  []  ...   \n",
       "4  I'm not afraid to die, but i'm only here becau...                  []  ...   \n",
       "\n",
       "  author_patreon_flair  author_flair_text_color  \\\n",
       "0                False                     None   \n",
       "1                False                     dark   \n",
       "2                False                     None   \n",
       "3                False                     None   \n",
       "4                False                     None   \n",
       "\n",
       "                                           permalink stickied  \\\n",
       "0             /r/SuicideWatch/comments/1jdy3rk/help/    False   \n",
       "1  /r/SuicideWatch/comments/1jdy0mk/theres_no_rea...    False   \n",
       "2  /r/SuicideWatch/comments/1jdy040/i_want_to_end...    False   \n",
       "3  /r/SuicideWatch/comments/1jdxyyu/i_dont_think_...    False   \n",
       "4  /r/SuicideWatch/comments/1jdxylv/im_not_afraid...    False   \n",
       "\n",
       "                                                 url subreddit_subscribers  \\\n",
       "0  https://www.reddit.com/r/SuicideWatch/comments...                519431   \n",
       "1  https://www.reddit.com/r/SuicideWatch/comments...                519431   \n",
       "2  https://www.reddit.com/r/SuicideWatch/comments...                519431   \n",
       "3  https://www.reddit.com/r/SuicideWatch/comments...                519431   \n",
       "4  https://www.reddit.com/r/SuicideWatch/comments...                519431   \n",
       "\n",
       "    created_utc num_crossposts  media is_video  \n",
       "0  1.742277e+09              0   None    False  \n",
       "1  1.742276e+09              0   None    False  \n",
       "2  1.742276e+09              0   None    False  \n",
       "3  1.742276e+09              0   None    False  \n",
       "4  1.742276e+09              0   None    False  \n",
       "\n",
       "[5 rows x 102 columns]"
      ]
     },
     "execution_count": 36,
     "metadata": {},
     "output_type": "execute_result"
    }
   ],
   "source": [
    "# Base URL for the API\n",
    "base_url = \"https://reddit.com/r/SuicideWatch/new.json?limit=\"\n",
    "\n",
    "# List to store dataframes\n",
    "dataframes = []\n",
    "\n",
    "# Fetch it only once\n",
    "df = fetch_reddit_data(base_url)\n",
    "dataframes.append(df)\n",
    "\n",
    "# Concatenate all dataframes into a single dataframe\n",
    "reddit_df_100 = pd.concat(dataframes, ignore_index=True)\n",
    "\n",
    "# Display the first few rows of the dataframe\n",
    "reddit_df_100.head()"
   ]
  },
  {
   "cell_type": "code",
   "execution_count": 37,
   "metadata": {},
   "outputs": [
    {
     "name": "stdout",
     "output_type": "stream",
     "text": [
      "Length of Dataset: 100\n"
     ]
    }
   ],
   "source": [
    "print(f\"Length of Dataset: {len(reddit_df_100)}\")"
   ]
  },
  {
   "cell_type": "code",
   "execution_count": 39,
   "metadata": {},
   "outputs": [
    {
     "name": "stdout",
     "output_type": "stream",
     "text": [
      "Series([], Name: count, dtype: int64)\n"
     ]
    }
   ],
   "source": [
    "# Check for repeated texts in the \"selftext\" column\n",
    "repeated_texts = reddit_df_100['selftext'].value_counts()\n",
    "\n",
    "# Filter out texts that are repeated more than once\n",
    "repeated_texts = repeated_texts[repeated_texts > 1]\n",
    "\n",
    "# Display the repeated texts\n",
    "print(repeated_texts)"
   ]
  },
  {
   "cell_type": "markdown",
   "metadata": {},
   "source": [
    "No repeated texts are found, we can proceed."
   ]
  },
  {
   "cell_type": "code",
   "execution_count": 41,
   "metadata": {},
   "outputs": [
    {
     "name": "stdout",
     "output_type": "stream",
     "text": [
      "Columns in the dataset: Index(['approved_at_utc', 'subreddit', 'selftext', 'author_fullname', 'saved',\n",
      "       'mod_reason_title', 'gilded', 'clicked', 'title', 'link_flair_richtext',\n",
      "       ...\n",
      "       'author_patreon_flair', 'author_flair_text_color', 'permalink',\n",
      "       'stickied', 'url', 'subreddit_subscribers', 'created_utc',\n",
      "       'num_crossposts', 'media', 'is_video'],\n",
      "      dtype='object', length=102)\n"
     ]
    }
   ],
   "source": [
    "print(f\"Columns in the dataset: {reddit_df_100.columns}\")"
   ]
  },
  {
   "cell_type": "code",
   "execution_count": null,
   "metadata": {},
   "outputs": [],
   "source": [
    "# Save to CSV\n",
    "reddit_df_100.to_csv('reddit_suicidewatch.csv', index=False)"
   ]
  }
 ],
 "metadata": {
  "kernelspec": {
   "display_name": ".venv",
   "language": "python",
   "name": "python3"
  },
  "language_info": {
   "codemirror_mode": {
    "name": "ipython",
    "version": 3
   },
   "file_extension": ".py",
   "mimetype": "text/x-python",
   "name": "python",
   "nbconvert_exporter": "python",
   "pygments_lexer": "ipython3",
   "version": "3.10.7"
  }
 },
 "nbformat": 4,
 "nbformat_minor": 2
}

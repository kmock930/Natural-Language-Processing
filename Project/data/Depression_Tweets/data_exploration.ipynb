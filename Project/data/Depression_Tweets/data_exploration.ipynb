{
 "cells": [
  {
   "cell_type": "markdown",
   "metadata": {},
   "source": [
    "# Data Exploration on Depression Tweets"
   ]
  },
  {
   "cell_type": "markdown",
   "metadata": {},
   "source": [
    "Source: [senapatirajesh/depression-tweets](https://www.kaggle.com/datasets/senapatirajesh/depression-tweets)"
   ]
  },
  {
   "cell_type": "code",
   "execution_count": 1,
   "metadata": {},
   "outputs": [],
   "source": [
    "import pandas as pd"
   ]
  },
  {
   "cell_type": "code",
   "execution_count": 2,
   "metadata": {},
   "outputs": [
    {
     "data": {
      "application/vnd.microsoft.datawrangler.viewer.v0+json": {
       "columns": [
        {
         "name": "index",
         "rawType": "int64",
         "type": "integer"
        },
        {
         "name": "content",
         "rawType": "object",
         "type": "string"
        }
       ],
       "conversionMethod": "pd.DataFrame",
       "ref": "a9519942-87d5-4294-af58-fd502d9f30f5",
       "rows": [
        [
         "0",
         "'@RationalMale Yea typically crying is a sign of uncontrolled depression which he has struggled with his whole life'"
        ],
        [
         "1",
         "'@patti_lake @slocum_deb @MondaireJones I’m old. I came of age in an era of wide-ranging prosperity in the US. I realize this was not normal and only came about through a series of unplanned calamities (Great Depression"
        ],
        [
         "2",
         "'I’m trying to gaslight my friends into hanging out with me by saying I have seasonal depression'"
        ],
        [
         "3",
         "'mintgki: ⚔️ — KQ FENCING CLUB - [SCOUTING ONE MEMBER] . Fencer!Seonghwa x Y/N / Reporter!Hongjoong x Y/N SMAU————— .ೃ࿐ Warnings: Swearing"
        ],
        [
         "4",
         "i want to smoke the depression away but i can't smoke anymore so i guess i have to sit with my feelings"
        ]
       ],
       "shape": {
        "columns": 1,
        "rows": 5
       }
      },
      "text/html": [
       "<div>\n",
       "<style scoped>\n",
       "    .dataframe tbody tr th:only-of-type {\n",
       "        vertical-align: middle;\n",
       "    }\n",
       "\n",
       "    .dataframe tbody tr th {\n",
       "        vertical-align: top;\n",
       "    }\n",
       "\n",
       "    .dataframe thead th {\n",
       "        text-align: right;\n",
       "    }\n",
       "</style>\n",
       "<table border=\"1\" class=\"dataframe\">\n",
       "  <thead>\n",
       "    <tr style=\"text-align: right;\">\n",
       "      <th></th>\n",
       "      <th>content</th>\n",
       "    </tr>\n",
       "  </thead>\n",
       "  <tbody>\n",
       "    <tr>\n",
       "      <th>0</th>\n",
       "      <td>'@RationalMale Yea typically crying is a sign ...</td>\n",
       "    </tr>\n",
       "    <tr>\n",
       "      <th>1</th>\n",
       "      <td>'@patti_lake @slocum_deb @MondaireJones I’m ol...</td>\n",
       "    </tr>\n",
       "    <tr>\n",
       "      <th>2</th>\n",
       "      <td>'I’m trying to gaslight my friends into hangin...</td>\n",
       "    </tr>\n",
       "    <tr>\n",
       "      <th>3</th>\n",
       "      <td>'mintgki: ⚔️ — KQ FENCING CLUB - [SCOUTING ONE...</td>\n",
       "    </tr>\n",
       "    <tr>\n",
       "      <th>4</th>\n",
       "      <td>i want to smoke the depression away but i can'...</td>\n",
       "    </tr>\n",
       "  </tbody>\n",
       "</table>\n",
       "</div>"
      ],
      "text/plain": [
       "                                             content\n",
       "0  '@RationalMale Yea typically crying is a sign ...\n",
       "1  '@patti_lake @slocum_deb @MondaireJones I’m ol...\n",
       "2  'I’m trying to gaslight my friends into hangin...\n",
       "3  'mintgki: ⚔️ — KQ FENCING CLUB - [SCOUTING ONE...\n",
       "4  i want to smoke the depression away but i can'..."
      ]
     },
     "execution_count": 2,
     "metadata": {},
     "output_type": "execute_result"
    }
   ],
   "source": [
    "# Read the JSON file\n",
    "depression_df = pd.read_json('depression_json')\n",
    "\n",
    "# Display the first few rows of the dataframe\n",
    "depression_df.head()"
   ]
  },
  {
   "cell_type": "code",
   "execution_count": 3,
   "metadata": {},
   "outputs": [
    {
     "name": "stdout",
     "output_type": "stream",
     "text": [
      "Length of the dataset: 18679 tweets.\n"
     ]
    }
   ],
   "source": [
    "print(f\"Length of the dataset: {len(depression_df)} tweets.\")"
   ]
  },
  {
   "cell_type": "code",
   "execution_count": 4,
   "metadata": {},
   "outputs": [
    {
     "name": "stdout",
     "output_type": "stream",
     "text": [
      "Columns in the dataset: Index(['content'], dtype='object')\n"
     ]
    }
   ],
   "source": [
    "print(f\"Columns in the dataset: {depression_df.columns}\")"
   ]
  },
  {
   "cell_type": "markdown",
   "metadata": {},
   "source": [
    "## Sample Tweets"
   ]
  },
  {
   "cell_type": "code",
   "execution_count": 5,
   "metadata": {},
   "outputs": [
    {
     "data": {
      "text/plain": [
       "\"'@RationalMale Yea typically crying is a sign of uncontrolled depression which he has struggled with his whole life'\""
      ]
     },
     "execution_count": 5,
     "metadata": {},
     "output_type": "execute_result"
    }
   ],
   "source": [
    "depression_df['content'][0]"
   ]
  },
  {
   "cell_type": "code",
   "execution_count": 6,
   "metadata": {},
   "outputs": [
    {
     "data": {
      "text/plain": [
       "'\\'\"Crippling depression moving weight like I\\\\\\'m Sisyphus\"\\''"
      ]
     },
     "execution_count": 6,
     "metadata": {},
     "output_type": "execute_result"
    }
   ],
   "source": [
    "depression_df['content'][len(depression_df)-1]"
   ]
  }
 ],
 "metadata": {
  "kernelspec": {
   "display_name": ".venv",
   "language": "python",
   "name": "python3"
  },
  "language_info": {
   "codemirror_mode": {
    "name": "ipython",
    "version": 3
   },
   "file_extension": ".py",
   "mimetype": "text/x-python",
   "name": "python",
   "nbconvert_exporter": "python",
   "pygments_lexer": "ipython3",
   "version": "3.10.7"
  }
 },
 "nbformat": 4,
 "nbformat_minor": 2
}

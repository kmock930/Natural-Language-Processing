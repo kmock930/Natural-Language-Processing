{
 "cells": [
  {
   "cell_type": "markdown",
   "metadata": {},
   "source": [
    "# Data Analysis on Social Media Sentiments Analysis Dataset"
   ]
  },
  {
   "cell_type": "code",
   "execution_count": 1,
   "metadata": {},
   "outputs": [
    {
     "data": {
      "text/plain": [
       "True"
      ]
     },
     "execution_count": 1,
     "metadata": {},
     "output_type": "execute_result"
    }
   ],
   "source": [
    "import pandas as pd\n",
    "import time\n",
    "import os\n",
    "from google import genai\n",
    "from dotenv import load_dotenv\n",
    "load_dotenv() # load environment variables"
   ]
  },
  {
   "cell_type": "code",
   "execution_count": 2,
   "metadata": {},
   "outputs": [
    {
     "data": {
      "application/vnd.microsoft.datawrangler.viewer.v0+json": {
       "columns": [
        {
         "name": "index",
         "rawType": "int64",
         "type": "integer"
        },
        {
         "name": "Unnamed: 0.1",
         "rawType": "int64",
         "type": "integer"
        },
        {
         "name": "Unnamed: 0",
         "rawType": "int64",
         "type": "integer"
        },
        {
         "name": "Text",
         "rawType": "object",
         "type": "string"
        },
        {
         "name": "Sentiment",
         "rawType": "object",
         "type": "string"
        },
        {
         "name": "Timestamp",
         "rawType": "object",
         "type": "string"
        },
        {
         "name": "User",
         "rawType": "object",
         "type": "string"
        },
        {
         "name": "Platform",
         "rawType": "object",
         "type": "string"
        },
        {
         "name": "Hashtags",
         "rawType": "object",
         "type": "string"
        },
        {
         "name": "Retweets",
         "rawType": "float64",
         "type": "float"
        },
        {
         "name": "Likes",
         "rawType": "float64",
         "type": "float"
        },
        {
         "name": "Country",
         "rawType": "object",
         "type": "string"
        },
        {
         "name": "Year",
         "rawType": "int64",
         "type": "integer"
        },
        {
         "name": "Month",
         "rawType": "int64",
         "type": "integer"
        },
        {
         "name": "Day",
         "rawType": "int64",
         "type": "integer"
        },
        {
         "name": "Hour",
         "rawType": "int64",
         "type": "integer"
        }
       ],
       "conversionMethod": "pd.DataFrame",
       "ref": "399142b5-c63d-4cef-ba7b-006ab3d68750",
       "rows": [
        [
         "0",
         "0",
         "0",
         " Enjoying a beautiful day at the park!              ",
         " Positive  ",
         "2023-01-15 12:30:00",
         " User123      ",
         " Twitter  ",
         " #Nature #Park                            ",
         "15.0",
         "30.0",
         " USA      ",
         "2023",
         "1",
         "15",
         "12"
        ],
        [
         "1",
         "1",
         "1",
         " Traffic was terrible this morning.                 ",
         " Negative  ",
         "2023-01-15 08:45:00",
         " CommuterX    ",
         " Twitter  ",
         " #Traffic #Morning                        ",
         "5.0",
         "10.0",
         " Canada   ",
         "2023",
         "1",
         "15",
         "8"
        ],
        [
         "2",
         "2",
         "2",
         " Just finished an amazing workout! 💪               ",
         " Positive  ",
         "2023-01-15 15:45:00",
         " FitnessFan   ",
         " Instagram ",
         " #Fitness #Workout                        ",
         "20.0",
         "40.0",
         " USA        ",
         "2023",
         "1",
         "15",
         "15"
        ],
        [
         "3",
         "3",
         "3",
         " Excited about the upcoming weekend getaway!        ",
         " Positive  ",
         "2023-01-15 18:20:00",
         " AdventureX   ",
         " Facebook ",
         " #Travel #Adventure                       ",
         "8.0",
         "15.0",
         " UK       ",
         "2023",
         "1",
         "15",
         "18"
        ],
        [
         "4",
         "4",
         "4",
         " Trying out a new recipe for dinner tonight.        ",
         " Neutral   ",
         "2023-01-15 19:55:00",
         " ChefCook     ",
         " Instagram ",
         " #Cooking #Food                           ",
         "12.0",
         "25.0",
         " Australia ",
         "2023",
         "1",
         "15",
         "19"
        ]
       ],
       "shape": {
        "columns": 15,
        "rows": 5
       }
      },
      "text/html": [
       "<div>\n",
       "<style scoped>\n",
       "    .dataframe tbody tr th:only-of-type {\n",
       "        vertical-align: middle;\n",
       "    }\n",
       "\n",
       "    .dataframe tbody tr th {\n",
       "        vertical-align: top;\n",
       "    }\n",
       "\n",
       "    .dataframe thead th {\n",
       "        text-align: right;\n",
       "    }\n",
       "</style>\n",
       "<table border=\"1\" class=\"dataframe\">\n",
       "  <thead>\n",
       "    <tr style=\"text-align: right;\">\n",
       "      <th></th>\n",
       "      <th>Unnamed: 0.1</th>\n",
       "      <th>Unnamed: 0</th>\n",
       "      <th>Text</th>\n",
       "      <th>Sentiment</th>\n",
       "      <th>Timestamp</th>\n",
       "      <th>User</th>\n",
       "      <th>Platform</th>\n",
       "      <th>Hashtags</th>\n",
       "      <th>Retweets</th>\n",
       "      <th>Likes</th>\n",
       "      <th>Country</th>\n",
       "      <th>Year</th>\n",
       "      <th>Month</th>\n",
       "      <th>Day</th>\n",
       "      <th>Hour</th>\n",
       "    </tr>\n",
       "  </thead>\n",
       "  <tbody>\n",
       "    <tr>\n",
       "      <th>0</th>\n",
       "      <td>0</td>\n",
       "      <td>0</td>\n",
       "      <td>Enjoying a beautiful day at the park!        ...</td>\n",
       "      <td>Positive</td>\n",
       "      <td>2023-01-15 12:30:00</td>\n",
       "      <td>User123</td>\n",
       "      <td>Twitter</td>\n",
       "      <td>#Nature #Park</td>\n",
       "      <td>15.0</td>\n",
       "      <td>30.0</td>\n",
       "      <td>USA</td>\n",
       "      <td>2023</td>\n",
       "      <td>1</td>\n",
       "      <td>15</td>\n",
       "      <td>12</td>\n",
       "    </tr>\n",
       "    <tr>\n",
       "      <th>1</th>\n",
       "      <td>1</td>\n",
       "      <td>1</td>\n",
       "      <td>Traffic was terrible this morning.           ...</td>\n",
       "      <td>Negative</td>\n",
       "      <td>2023-01-15 08:45:00</td>\n",
       "      <td>CommuterX</td>\n",
       "      <td>Twitter</td>\n",
       "      <td>#Traffic #Morning</td>\n",
       "      <td>5.0</td>\n",
       "      <td>10.0</td>\n",
       "      <td>Canada</td>\n",
       "      <td>2023</td>\n",
       "      <td>1</td>\n",
       "      <td>15</td>\n",
       "      <td>8</td>\n",
       "    </tr>\n",
       "    <tr>\n",
       "      <th>2</th>\n",
       "      <td>2</td>\n",
       "      <td>2</td>\n",
       "      <td>Just finished an amazing workout! 💪          ...</td>\n",
       "      <td>Positive</td>\n",
       "      <td>2023-01-15 15:45:00</td>\n",
       "      <td>FitnessFan</td>\n",
       "      <td>Instagram</td>\n",
       "      <td>#Fitness #Workout</td>\n",
       "      <td>20.0</td>\n",
       "      <td>40.0</td>\n",
       "      <td>USA</td>\n",
       "      <td>2023</td>\n",
       "      <td>1</td>\n",
       "      <td>15</td>\n",
       "      <td>15</td>\n",
       "    </tr>\n",
       "    <tr>\n",
       "      <th>3</th>\n",
       "      <td>3</td>\n",
       "      <td>3</td>\n",
       "      <td>Excited about the upcoming weekend getaway!  ...</td>\n",
       "      <td>Positive</td>\n",
       "      <td>2023-01-15 18:20:00</td>\n",
       "      <td>AdventureX</td>\n",
       "      <td>Facebook</td>\n",
       "      <td>#Travel #Adventure</td>\n",
       "      <td>8.0</td>\n",
       "      <td>15.0</td>\n",
       "      <td>UK</td>\n",
       "      <td>2023</td>\n",
       "      <td>1</td>\n",
       "      <td>15</td>\n",
       "      <td>18</td>\n",
       "    </tr>\n",
       "    <tr>\n",
       "      <th>4</th>\n",
       "      <td>4</td>\n",
       "      <td>4</td>\n",
       "      <td>Trying out a new recipe for dinner tonight.  ...</td>\n",
       "      <td>Neutral</td>\n",
       "      <td>2023-01-15 19:55:00</td>\n",
       "      <td>ChefCook</td>\n",
       "      <td>Instagram</td>\n",
       "      <td>#Cooking #Food</td>\n",
       "      <td>12.0</td>\n",
       "      <td>25.0</td>\n",
       "      <td>Australia</td>\n",
       "      <td>2023</td>\n",
       "      <td>1</td>\n",
       "      <td>15</td>\n",
       "      <td>19</td>\n",
       "    </tr>\n",
       "  </tbody>\n",
       "</table>\n",
       "</div>"
      ],
      "text/plain": [
       "   Unnamed: 0.1  Unnamed: 0  \\\n",
       "0             0           0   \n",
       "1             1           1   \n",
       "2             2           2   \n",
       "3             3           3   \n",
       "4             4           4   \n",
       "\n",
       "                                                Text    Sentiment  \\\n",
       "0   Enjoying a beautiful day at the park!        ...   Positive     \n",
       "1   Traffic was terrible this morning.           ...   Negative     \n",
       "2   Just finished an amazing workout! 💪          ...   Positive     \n",
       "3   Excited about the upcoming weekend getaway!  ...   Positive     \n",
       "4   Trying out a new recipe for dinner tonight.  ...   Neutral      \n",
       "\n",
       "             Timestamp            User     Platform  \\\n",
       "0  2023-01-15 12:30:00   User123          Twitter     \n",
       "1  2023-01-15 08:45:00   CommuterX        Twitter     \n",
       "2  2023-01-15 15:45:00   FitnessFan      Instagram    \n",
       "3  2023-01-15 18:20:00   AdventureX       Facebook    \n",
       "4  2023-01-15 19:55:00   ChefCook        Instagram    \n",
       "\n",
       "                                     Hashtags  Retweets  Likes       Country  \\\n",
       "0   #Nature #Park                                  15.0   30.0     USA         \n",
       "1   #Traffic #Morning                               5.0   10.0     Canada      \n",
       "2   #Fitness #Workout                              20.0   40.0   USA           \n",
       "3   #Travel #Adventure                              8.0   15.0     UK          \n",
       "4   #Cooking #Food                                 12.0   25.0    Australia    \n",
       "\n",
       "   Year  Month  Day  Hour  \n",
       "0  2023      1   15    12  \n",
       "1  2023      1   15     8  \n",
       "2  2023      1   15    15  \n",
       "3  2023      1   15    18  \n",
       "4  2023      1   15    19  "
      ]
     },
     "execution_count": 2,
     "metadata": {},
     "output_type": "execute_result"
    }
   ],
   "source": [
    "# Load the data from the CSV file\n",
    "loaded_df = pd.read_csv('sentimentdataset.csv')\n",
    "\n",
    "# Display the first few rows of the loaded dataframe\n",
    "loaded_df.head()"
   ]
  },
  {
   "cell_type": "code",
   "execution_count": 3,
   "metadata": {},
   "outputs": [
    {
     "name": "stdout",
     "output_type": "stream",
     "text": [
      "Length of Dataset: 732\n"
     ]
    }
   ],
   "source": [
    "print(f\"Length of Dataset: {len(loaded_df)}\")"
   ]
  },
  {
   "cell_type": "markdown",
   "metadata": {},
   "source": [
    "## Analyze Sensitive Attributes"
   ]
  },
  {
   "cell_type": "code",
   "execution_count": 4,
   "metadata": {},
   "outputs": [
    {
     "name": "stdout",
     "output_type": "stream",
     "text": [
      "Prompt file created\n"
     ]
    }
   ],
   "source": [
    "with open('prompt-sensitive_attributes.txt', 'w') as file:\n",
    "    file.write(\"I have a dataset for which contains arbitrary posts on various common social media platforms.\\n\")\n",
    "    file.write(\"They are indicated either positive or negative.\\n\") \n",
    "    file.write(\"Return a list in the format: \\n\")\n",
    "    file.write(\"Sensitive Attributes: \\n\")\n",
    "    file.write(\"1. attribute1\\n\")\n",
    "    file.write(\"Insensitive Attributes: \\n\")\n",
    "    file.write(\"1. attribute2\\n\")\n",
    "    file.write(\"\\n\")\n",
    "    file.write(\"Check whichever attribute from a dataset as listed below are sensitive attributes:\\n\")\n",
    "    for column in loaded_df.columns:\n",
    "        file.write(f\"{column}\\n\")\n",
    "print(\"Prompt file created\")"
   ]
  },
  {
   "cell_type": "code",
   "execution_count": 5,
   "metadata": {},
   "outputs": [
    {
     "name": "stdout",
     "output_type": "stream",
     "text": [
      "Okay, I will analyze the provided list of attributes and categorize them as either sensitive or insensitive based on the potential for bias, discrimination, or privacy concerns.\n",
      "\n",
      "Here's the breakdown and the list in the requested format:\n",
      "\n",
      "**Sensitive Attributes:**\n",
      "\n",
      "1.  **User:**  This can be sensitive because user identifiers can be linked to demographic information (age, gender, location, etc.) or potentially reveal identity, especially on smaller platforms. While a simple username might not be *inherently* sensitive, the *ability to identify and track individuals* based on this is a privacy risk.  Considered sensitive because it could reveal demographic information, potentially leading to bias.\n",
      "2.  **Country:** Can indicate origin, which can be associated with nationality, ethnicity, and related biases.\n",
      "3.  **Platform:** (Potentially Sensitive): *If* the platform itself is heavily associated with specific demographic groups or political leanings, it *could* be considered sensitive.  For example, if a certain platform is known to be primarily used by a particular age group or political affiliation, its inclusion could introduce bias.  However, on its own, it's less directly sensitive than User or Country.\n",
      "\n",
      "**Insensitive Attributes:**\n",
      "\n",
      "1.  **Unnamed: 0.1:** This is just an index column and carries no meaning regarding the post itself\n",
      "2.  **Unnamed: 0:** This is just an index column and carries no meaning regarding the post itself\n",
      "3.  **Text:** This is the content of the post and is needed for sentiment analysis.\n",
      "4.  **Sentiment:** This represents the derived sentiment and does not include any demographic information.\n",
      "5.  **Timestamp:** The time the post was made.\n",
      "6.  **Hashtags:** Relevant keywords of the text of the post.\n",
      "7.  **Retweets:** Number of retweets the post had.\n",
      "8.  **Likes:** Number of likes the post had.\n",
      "9.  **Year:** Year the post was made.\n",
      "10. **Month:** Month the post was made.\n",
      "11. **Day:** Day the post was made.\n",
      "12. **Hour:** Hour the post was made.\n",
      "13. **Retweets:** The number of retweets a post received.\n",
      "14.  **Likes:** The number of likes a post received.\n",
      "\n",
      "**Result:**\n",
      "\n",
      "```\n",
      "Sensitive Attributes:\n",
      "1. User\n",
      "2. Country\n",
      "3. Platform\n",
      "\n",
      "Insensitive Attributes:\n",
      "1. Unnamed: 0.1\n",
      "2. Unnamed: 0\n",
      "3. Text\n",
      "4. Sentiment\n",
      "5. Timestamp\n",
      "6. Hashtags\n",
      "7. Retweets\n",
      "8. Likes\n",
      "9. Year\n",
      "10. Month\n",
      "11. Day\n",
      "12. Hour\n",
      "\n",
      "```\n",
      "\n",
      "**Important Considerations:**\n",
      "\n",
      "*   **Context Matters:** The sensitivity of an attribute depends heavily on the *specific context* of the dataset and its intended use.\n",
      "*   **Data Preprocessing:**  Even if an attribute is considered \"insensitive,\" careful preprocessing is essential to avoid introducing bias. For example, encoding categorical features improperly could lead to unintended biases.\n",
      "*   **Intersectionality:**  The combination of multiple \"insensitive\" attributes could *reveal* sensitive information.  For example, combining \"Year,\" \"Month,\" \"Day,\" and \"Hour\" with a specific \"Hashtag\" *could* reveal patterns about particular groups.\n",
      "*   **Ethical Considerations:**  Always consider the ethical implications of using your data, even if you believe you have removed sensitive attributes.  Think about potential unintended consequences or uses of your model.\n",
      "*   **De-identification Techniques:** It's very difficult to perfectly de-identify user data. Even removing obvious identifiers, a determined actor might be able to re-identify individuals through various techniques.\n",
      "\n",
      "This analysis is a starting point. A thorough evaluation requires a deeper understanding of the dataset's purpose and the potential risks involved. It is highly recommended to consult with data privacy experts or ethicists for critical applications.\n",
      "\n"
     ]
    }
   ],
   "source": [
    "client = genai.Client(api_key=os.environ.get('GOOGLE_GEMINI_API_KEY'))\n",
    "with open('prompt-sensitive_attributes.txt', 'r') as file:\n",
    "    prompt = file.read()\n",
    "\n",
    "    response = client.models.generate_content(\n",
    "        model=\"gemini-2.0-flash\", contents=prompt\n",
    "    )\n",
    "    print(response.text)"
   ]
  },
  {
   "cell_type": "markdown",
   "metadata": {},
   "source": [
    "## Analyze Positive vs Negative Sentiments"
   ]
  },
  {
   "cell_type": "code",
   "execution_count": 6,
   "metadata": {},
   "outputs": [
    {
     "name": "stdout",
     "output_type": "stream",
     "text": [
      "Total Number of Sentiments in datsaset: 279\n"
     ]
    },
    {
     "data": {
      "text/plain": [
       "array([' Positive  ', ' Negative  ', ' Neutral   ', ' Anger        ',\n",
       "       ' Fear         ', ' Sadness      ', ' Disgust      ',\n",
       "       ' Happiness    ', ' Joy          ', ' Love         ',\n",
       "       ' Amusement    ', ' Enjoyment    ', ' Admiration   ',\n",
       "       ' Affection    ', ' Awe          ', ' Disappointed ',\n",
       "       ' Surprise     ', ' Acceptance   ', ' Adoration    ',\n",
       "       ' Anticipation ', ' Bitter       ', ' Calmness     ',\n",
       "       ' Confusion    ', ' Excitement   ', ' Kind         ',\n",
       "       ' Pride        ', ' Shame        ', ' Confusion ', ' Excitement ',\n",
       "       ' Shame ', ' Elation       ', ' Euphoria      ', ' Contentment   ',\n",
       "       ' Serenity      ', ' Gratitude     ', ' Hope          ',\n",
       "       ' Empowerment   ', ' Compassion    ', ' Tenderness    ',\n",
       "       ' Arousal       ', ' Enthusiasm    ', ' Fulfillment  ',\n",
       "       ' Reverence     ', ' Compassion', ' Fulfillment   ', ' Reverence ',\n",
       "       ' Elation   ', ' Despair         ', ' Grief           ',\n",
       "       ' Loneliness      ', ' Jealousy        ', ' Resentment      ',\n",
       "       ' Frustration     ', ' Boredom         ', ' Anxiety         ',\n",
       "       ' Intimidation    ', ' Helplessness    ', ' Envy            ',\n",
       "       ' Regret         ', ' Disgust         ', ' Despair      ',\n",
       "       ' Loneliness ', ' Frustration ', ' Anxiety   ', ' Intimidation ',\n",
       "       ' Helplessness ', ' Jealousy    ', ' Curiosity       ',\n",
       "       ' Indifference    ', ' Confusion       ', ' Numbness        ',\n",
       "       ' Melancholy      ', ' Nostalgia       ', ' Ambivalence     ',\n",
       "       ' Acceptance      ', ' Determination   ', ' Serenity        ',\n",
       "       ' Numbness ', ' Zest ', ' Contentment ', ' Hopeful ', ' Proud ',\n",
       "       ' Grateful ', ' Empathetic ', ' Compassionate ', ' Playful ',\n",
       "       ' Free-spirited ', ' Inspired ', ' Confident ', ' Serenity ',\n",
       "       ' Curiosity ', ' Ambivalence ', ' Despair ', ' Bitterness ',\n",
       "       ' Yearning ', ' Fearful ', ' Apprehensive ', ' Overwhelmed ',\n",
       "       ' Jealous ', ' Devastated ', ' Frustrated ', ' Envious ',\n",
       "       ' Dismissive ', ' Awe           ', ' Determination ',\n",
       "       ' Nostalgia      ', ' Thrill        ', ' Calmness      ',\n",
       "       ' Overwhelmed   ', ' Gratitude   ', ' Bittersweet ',\n",
       "       ' Curiosity     ', ' Admiration    ', ' Overjoyed     ',\n",
       "       ' Inspiration   ', ' Motivation    ', ' Amusement     ',\n",
       "       ' Contemplation ', ' JoyfulReunion ', ' Excitement    ',\n",
       "       ' Satisfaction  ', ' Blessed       ', ' Anticipation  ',\n",
       "       ' Reflection    ', ' Nostalgia     ', ' Appreciation  ',\n",
       "       ' Confidence    ', ' Surprise      ', ' Accomplishment ',\n",
       "       ' Wonderment    ', ' Optimism      ', ' Pride         ',\n",
       "       ' Happiness     ', ' Curiosity   ', ' Enchantment   ',\n",
       "       ' Intrigue      ', ' PlayfulJoy    ', ' Mindfulness   ',\n",
       "       ' DreamChaser   ', ' Elegance ', ' Whimsy        ', ' Pensive ',\n",
       "       ' Thrill      ', ' Harmony    ', ' Creativity   ', ' Radiance    ',\n",
       "       ' Wonder     ', ' Rejuvenation ', ' Inspiration ',\n",
       "       ' Coziness     ', ' Gratitude  ', ' Adventure ', ' Euphoria   ',\n",
       "       ' Awe    ', ' Melodic       ', ' FestiveJoy    ',\n",
       "       ' InnerJourney  ', ' Freedom       ', ' Dazzle        ',\n",
       "       ' Adrenaline     ', ' Harmony       ', ' ArtisticBurst ',\n",
       "       ' Radiance      ', ' Wonder       ', ' Inspiration  ',\n",
       "       ' CulinaryOdyssey ', ' Euphoria     ', ' Curiosity  ',\n",
       "       ' Resilience   ', ' Immersion ', ' Nostalgia ', ' Spark        ',\n",
       "       ' Gratitude    ', ' Marvel       ', ' Serenity   ',\n",
       "       ' Heartbreak    ', ' Loneliness    ', ' Grief      ',\n",
       "       ' Despair   ', ' Betrayal      ', ' Suffering ',\n",
       "       ' EmotionalStorm ', ' Regret        ', ' Isolation ',\n",
       "       ' Disappointment ', ' LostLove ', ' Melancholy ', ' Exhaustion ',\n",
       "       ' Sorrow      ', ' Darkness     ', ' Desperation ', ' Ruins      ',\n",
       "       ' Desolation ', ' Regret ', ' Grief ', ' Heartbreak ',\n",
       "       ' Betrayal ', ' Resilience ', ' Sorrow ', ' Loss ', ' Heartache ',\n",
       "       ' Solitude ', ' Joy ', ' Happiness ', ' Enthusiasm ',\n",
       "       ' Gratitude ', ' Positivity ', ' Kindness ', ' Friendship ',\n",
       "       ' Love ', ' Surprise ', ' Success ', ' Thrill ', ' Reflection ',\n",
       "       ' Enchantment ', ' Exploration ', ' Awe ', ' Amazement ',\n",
       "       ' Romance ', ' Captivation ', ' Wonder ', ' Tranquility ',\n",
       "       ' Grandeur ', ' Emotion ', ' Energy ', ' Celebration ', ' Charm ',\n",
       "       ' Ecstasy ', ' Hope ', ' Creativity ', ' Colorful ', ' Pride ',\n",
       "       ' Hypnotic ', ' Connection ', ' Iconic ', ' Euphoria ',\n",
       "       ' Journey ', ' Engagement ', ' Touched ', ' Suspense ',\n",
       "       ' Satisfaction ', ' Admiration ', ' Triumph ', ' Heartwarming ',\n",
       "       ' Obstacle ', ' Sympathy ', ' Pressure ', ' Renewed Effort ',\n",
       "       ' Miscalculation ', ' Challenge ', ' Solace ', ' Breakthrough ',\n",
       "       ' Harmony ', ' Joy in Baking ', ' Envisioning History ',\n",
       "       ' Imagination ', ' Vibrancy ', ' Mesmerizing ',\n",
       "       ' Culinary Adventure ', ' Winter Magic ', ' Thrilling Journey ',\n",
       "       \" Nature's Beauty \", ' Celestial Wonder ',\n",
       "       ' Creative Inspiration ', ' Runway Creativity ',\n",
       "       \" Ocean's Freedom \", ' Whispers of the Past ', ' Boredom ',\n",
       "       ' Indifference ', ' Disgust ', ' Relief ', ' Positive ',\n",
       "       ' Embarrassed ', ' Mischievous ', ' Sad ', ' Hate ', ' Bad ',\n",
       "       ' Neutral ', ' Happy '], dtype=object)"
      ]
     },
     "execution_count": 6,
     "metadata": {},
     "output_type": "execute_result"
    }
   ],
   "source": [
    "# Print the unique values in Sentiment column\n",
    "unique_sentiments = loaded_df['Sentiment'].unique()\n",
    "print(f\"Total Number of Sentiments in datsaset: {len(unique_sentiments)}\")\n",
    "unique_sentiments"
   ]
  },
  {
   "cell_type": "code",
   "execution_count": 7,
   "metadata": {},
   "outputs": [
    {
     "data": {
      "text/plain": [
       "Sentiment\n",
       "Positive               44\n",
       "Joy                    42\n",
       "Excitement             32\n",
       "Happy                  14\n",
       "Neutral                14\n",
       "                       ..\n",
       "Vibrancy                1\n",
       "Culinary Adventure      1\n",
       "Mesmerizing             1\n",
       "Thrilling Journey       1\n",
       "Winter Magic            1\n",
       "Name: count, Length: 279, dtype: int64"
      ]
     },
     "execution_count": 7,
     "metadata": {},
     "output_type": "execute_result"
    }
   ],
   "source": [
    "unique_sentiments_count = loaded_df['Sentiment'].value_counts()\n",
    "unique_sentiments_count"
   ]
  },
  {
   "cell_type": "code",
   "execution_count": 8,
   "metadata": {},
   "outputs": [
    {
     "name": "stdout",
     "output_type": "stream",
     "text": [
      "Prompt file created for positive sentiments.\n"
     ]
    }
   ],
   "source": [
    "with open(\"prompt_positive.txt\", \"w\") as file:\n",
    "    file.write(\"In the following array of sentiments, indicate whichever is positive and whichever is negative.\\n\")\n",
    "    file.write(\"Note: Indicate only a list of positive sentiments, comma seperated:\\n\")\n",
    "    file.write(\", \".join(unique_sentiments))\n",
    "print(\"Prompt file created for positive sentiments.\")"
   ]
  },
  {
   "cell_type": "code",
   "execution_count": 9,
   "metadata": {},
   "outputs": [
    {
     "name": "stdout",
     "output_type": "stream",
     "text": [
      "Positive, Happiness, Joy, Love, Amusement, Enjoyment, Admiration, Affection, Awe, Acceptance, Adoration, Anticipation, Calmness, Excitement, Kind, Pride, Elation, Euphoria, Contentment, Serenity, Gratitude, Hope, Empowerment, Compassion, Tenderness, Enthusiasm, Fulfillment, Reverence, Zest, Hopeful, Proud, Grateful, Empathetic, Compassionate, Playful, Free-spirited, Inspired, Confident, Determination, Thrill, Gratitude, Overjoyed, Inspiration, Motivation, Amusement, JoyfulReunion, Excitement, Satisfaction, Blessed, Anticipation, Appreciation, Confidence, Surprise, Accomplishment, Wonderment, Optimism, Pride, Happiness, Enchantment, Intrigue, PlayfulJoy, Mindfulness, DreamChaser, Elegance, Whimsy, Thrill, Harmony, Creativity, Radiance, Wonder, Rejuvenation, Inspiration, Coziness, Gratitude, Adventure, Euphoria, Awe, Melodic, FestiveJoy, InnerJourney, Freedom, Dazzle, Adrenaline, Harmony, ArtisticBurst, Radiance, Wonder, Inspiration, CulinaryOdyssey, Euphoria, Resilience, Immersion, Spark, Gratitude, Marvel, Serenity, Joy, Happiness, Enthusiasm, Gratitude, Positivity, Kindness, Friendship, Love, Surprise, Success, Thrill, Reflection, Enchantment, Exploration, Awe, Amazement, Romance, Captivation, Wonder, Tranquility, Grandeur, Energy, Celebration, Charm, Ecstasy, Hope, Creativity, Colorful, Pride, Hypnotic, Connection, Iconic, Euphoria, Journey, Engagement, Touched, Suspense, Satisfaction, Admiration, Triumph, Heartwarming, Solace, Breakthrough, Harmony, Joy in Baking, Envisioning History, Imagination, Vibrancy, Mesmerizing, Culinary Adventure, Winter Magic, Thrilling Journey, Nature's Beauty, Celestial Wonder, Creative Inspiration, Runway Creativity, Ocean's Freedom, Whispers of the Past, Relief, Happy\n",
      "\n"
     ]
    }
   ],
   "source": [
    "client = genai.Client(api_key=os.environ.get('GOOGLE_GEMINI_API_KEY'))\n",
    "with open('prompt_positive.txt', 'r') as file:\n",
    "    prompt = file.read()\n",
    "\n",
    "    response = client.models.generate_content(\n",
    "        model=\"gemini-2.0-flash\", contents=prompt\n",
    "    )\n",
    "    print(response.text)"
   ]
  },
  {
   "cell_type": "code",
   "execution_count": 10,
   "metadata": {},
   "outputs": [
    {
     "name": "stdout",
     "output_type": "stream",
     "text": [
      "Total number of Positive Sentiments: 156\n"
     ]
    }
   ],
   "source": [
    "# Convert the response text to an array of positive sentiments\n",
    "positive_sentiments = response.text.split(\", \")\n",
    "assert len(positive_sentiments) > 0\n",
    "assert len(positive_sentiments) < len(unique_sentiments)\n",
    "print(f\"Total number of Positive Sentiments: {len(positive_sentiments)}\")"
   ]
  },
  {
   "cell_type": "markdown",
   "metadata": {},
   "source": [
    "## Annotate Suicidal Posts with LLM - Google Gemini"
   ]
  },
  {
   "cell_type": "code",
   "execution_count": 11,
   "metadata": {},
   "outputs": [
    {
     "data": {
      "application/vnd.microsoft.datawrangler.viewer.v0+json": {
       "columns": [
        {
         "name": "index",
         "rawType": "int64",
         "type": "integer"
        },
        {
         "name": "Unnamed: 0.1",
         "rawType": "int64",
         "type": "integer"
        },
        {
         "name": "Unnamed: 0",
         "rawType": "int64",
         "type": "integer"
        },
        {
         "name": "Text",
         "rawType": "object",
         "type": "string"
        },
        {
         "name": "Sentiment",
         "rawType": "object",
         "type": "string"
        },
        {
         "name": "Timestamp",
         "rawType": "object",
         "type": "string"
        },
        {
         "name": "User",
         "rawType": "object",
         "type": "string"
        },
        {
         "name": "Platform",
         "rawType": "object",
         "type": "string"
        },
        {
         "name": "Hashtags",
         "rawType": "object",
         "type": "string"
        },
        {
         "name": "Retweets",
         "rawType": "float64",
         "type": "float"
        },
        {
         "name": "Likes",
         "rawType": "float64",
         "type": "float"
        },
        {
         "name": "Country",
         "rawType": "object",
         "type": "string"
        },
        {
         "name": "Year",
         "rawType": "int64",
         "type": "integer"
        },
        {
         "name": "Month",
         "rawType": "int64",
         "type": "integer"
        },
        {
         "name": "Day",
         "rawType": "int64",
         "type": "integer"
        },
        {
         "name": "Hour",
         "rawType": "int64",
         "type": "integer"
        },
        {
         "name": "Annotation",
         "rawType": "object",
         "type": "unknown"
        }
       ],
       "conversionMethod": "pd.DataFrame",
       "ref": "6d557578-06c1-4218-b95f-d18a9f2db94b",
       "rows": [
        [
         "0",
         "0",
         "0",
         " Enjoying a beautiful day at the park!              ",
         " Positive  ",
         "2023-01-15 12:30:00",
         " User123      ",
         " Twitter  ",
         " #Nature #Park                            ",
         "15.0",
         "30.0",
         " USA      ",
         "2023",
         "1",
         "15",
         "12",
         null
        ],
        [
         "1",
         "1",
         "1",
         " Traffic was terrible this morning.                 ",
         " Negative  ",
         "2023-01-15 08:45:00",
         " CommuterX    ",
         " Twitter  ",
         " #Traffic #Morning                        ",
         "5.0",
         "10.0",
         " Canada   ",
         "2023",
         "1",
         "15",
         "8",
         null
        ],
        [
         "2",
         "2",
         "2",
         " Just finished an amazing workout! 💪               ",
         " Positive  ",
         "2023-01-15 15:45:00",
         " FitnessFan   ",
         " Instagram ",
         " #Fitness #Workout                        ",
         "20.0",
         "40.0",
         " USA        ",
         "2023",
         "1",
         "15",
         "15",
         null
        ],
        [
         "3",
         "3",
         "3",
         " Excited about the upcoming weekend getaway!        ",
         " Positive  ",
         "2023-01-15 18:20:00",
         " AdventureX   ",
         " Facebook ",
         " #Travel #Adventure                       ",
         "8.0",
         "15.0",
         " UK       ",
         "2023",
         "1",
         "15",
         "18",
         null
        ],
        [
         "4",
         "4",
         "4",
         " Trying out a new recipe for dinner tonight.        ",
         " Neutral   ",
         "2023-01-15 19:55:00",
         " ChefCook     ",
         " Instagram ",
         " #Cooking #Food                           ",
         "12.0",
         "25.0",
         " Australia ",
         "2023",
         "1",
         "15",
         "19",
         null
        ]
       ],
       "shape": {
        "columns": 16,
        "rows": 5
       }
      },
      "text/html": [
       "<div>\n",
       "<style scoped>\n",
       "    .dataframe tbody tr th:only-of-type {\n",
       "        vertical-align: middle;\n",
       "    }\n",
       "\n",
       "    .dataframe tbody tr th {\n",
       "        vertical-align: top;\n",
       "    }\n",
       "\n",
       "    .dataframe thead th {\n",
       "        text-align: right;\n",
       "    }\n",
       "</style>\n",
       "<table border=\"1\" class=\"dataframe\">\n",
       "  <thead>\n",
       "    <tr style=\"text-align: right;\">\n",
       "      <th></th>\n",
       "      <th>Unnamed: 0.1</th>\n",
       "      <th>Unnamed: 0</th>\n",
       "      <th>Text</th>\n",
       "      <th>Sentiment</th>\n",
       "      <th>Timestamp</th>\n",
       "      <th>User</th>\n",
       "      <th>Platform</th>\n",
       "      <th>Hashtags</th>\n",
       "      <th>Retweets</th>\n",
       "      <th>Likes</th>\n",
       "      <th>Country</th>\n",
       "      <th>Year</th>\n",
       "      <th>Month</th>\n",
       "      <th>Day</th>\n",
       "      <th>Hour</th>\n",
       "      <th>Annotation</th>\n",
       "    </tr>\n",
       "  </thead>\n",
       "  <tbody>\n",
       "    <tr>\n",
       "      <th>0</th>\n",
       "      <td>0</td>\n",
       "      <td>0</td>\n",
       "      <td>Enjoying a beautiful day at the park!        ...</td>\n",
       "      <td>Positive</td>\n",
       "      <td>2023-01-15 12:30:00</td>\n",
       "      <td>User123</td>\n",
       "      <td>Twitter</td>\n",
       "      <td>#Nature #Park</td>\n",
       "      <td>15.0</td>\n",
       "      <td>30.0</td>\n",
       "      <td>USA</td>\n",
       "      <td>2023</td>\n",
       "      <td>1</td>\n",
       "      <td>15</td>\n",
       "      <td>12</td>\n",
       "      <td>None</td>\n",
       "    </tr>\n",
       "    <tr>\n",
       "      <th>1</th>\n",
       "      <td>1</td>\n",
       "      <td>1</td>\n",
       "      <td>Traffic was terrible this morning.           ...</td>\n",
       "      <td>Negative</td>\n",
       "      <td>2023-01-15 08:45:00</td>\n",
       "      <td>CommuterX</td>\n",
       "      <td>Twitter</td>\n",
       "      <td>#Traffic #Morning</td>\n",
       "      <td>5.0</td>\n",
       "      <td>10.0</td>\n",
       "      <td>Canada</td>\n",
       "      <td>2023</td>\n",
       "      <td>1</td>\n",
       "      <td>15</td>\n",
       "      <td>8</td>\n",
       "      <td>None</td>\n",
       "    </tr>\n",
       "    <tr>\n",
       "      <th>2</th>\n",
       "      <td>2</td>\n",
       "      <td>2</td>\n",
       "      <td>Just finished an amazing workout! 💪          ...</td>\n",
       "      <td>Positive</td>\n",
       "      <td>2023-01-15 15:45:00</td>\n",
       "      <td>FitnessFan</td>\n",
       "      <td>Instagram</td>\n",
       "      <td>#Fitness #Workout</td>\n",
       "      <td>20.0</td>\n",
       "      <td>40.0</td>\n",
       "      <td>USA</td>\n",
       "      <td>2023</td>\n",
       "      <td>1</td>\n",
       "      <td>15</td>\n",
       "      <td>15</td>\n",
       "      <td>None</td>\n",
       "    </tr>\n",
       "    <tr>\n",
       "      <th>3</th>\n",
       "      <td>3</td>\n",
       "      <td>3</td>\n",
       "      <td>Excited about the upcoming weekend getaway!  ...</td>\n",
       "      <td>Positive</td>\n",
       "      <td>2023-01-15 18:20:00</td>\n",
       "      <td>AdventureX</td>\n",
       "      <td>Facebook</td>\n",
       "      <td>#Travel #Adventure</td>\n",
       "      <td>8.0</td>\n",
       "      <td>15.0</td>\n",
       "      <td>UK</td>\n",
       "      <td>2023</td>\n",
       "      <td>1</td>\n",
       "      <td>15</td>\n",
       "      <td>18</td>\n",
       "      <td>None</td>\n",
       "    </tr>\n",
       "    <tr>\n",
       "      <th>4</th>\n",
       "      <td>4</td>\n",
       "      <td>4</td>\n",
       "      <td>Trying out a new recipe for dinner tonight.  ...</td>\n",
       "      <td>Neutral</td>\n",
       "      <td>2023-01-15 19:55:00</td>\n",
       "      <td>ChefCook</td>\n",
       "      <td>Instagram</td>\n",
       "      <td>#Cooking #Food</td>\n",
       "      <td>12.0</td>\n",
       "      <td>25.0</td>\n",
       "      <td>Australia</td>\n",
       "      <td>2023</td>\n",
       "      <td>1</td>\n",
       "      <td>15</td>\n",
       "      <td>19</td>\n",
       "      <td>None</td>\n",
       "    </tr>\n",
       "  </tbody>\n",
       "</table>\n",
       "</div>"
      ],
      "text/plain": [
       "   Unnamed: 0.1  Unnamed: 0  \\\n",
       "0             0           0   \n",
       "1             1           1   \n",
       "2             2           2   \n",
       "3             3           3   \n",
       "4             4           4   \n",
       "\n",
       "                                                Text    Sentiment  \\\n",
       "0   Enjoying a beautiful day at the park!        ...   Positive     \n",
       "1   Traffic was terrible this morning.           ...   Negative     \n",
       "2   Just finished an amazing workout! 💪          ...   Positive     \n",
       "3   Excited about the upcoming weekend getaway!  ...   Positive     \n",
       "4   Trying out a new recipe for dinner tonight.  ...   Neutral      \n",
       "\n",
       "             Timestamp            User     Platform  \\\n",
       "0  2023-01-15 12:30:00   User123          Twitter     \n",
       "1  2023-01-15 08:45:00   CommuterX        Twitter     \n",
       "2  2023-01-15 15:45:00   FitnessFan      Instagram    \n",
       "3  2023-01-15 18:20:00   AdventureX       Facebook    \n",
       "4  2023-01-15 19:55:00   ChefCook        Instagram    \n",
       "\n",
       "                                     Hashtags  Retweets  Likes       Country  \\\n",
       "0   #Nature #Park                                  15.0   30.0     USA         \n",
       "1   #Traffic #Morning                               5.0   10.0     Canada      \n",
       "2   #Fitness #Workout                              20.0   40.0   USA           \n",
       "3   #Travel #Adventure                              8.0   15.0     UK          \n",
       "4   #Cooking #Food                                 12.0   25.0    Australia    \n",
       "\n",
       "   Year  Month  Day  Hour Annotation  \n",
       "0  2023      1   15    12       None  \n",
       "1  2023      1   15     8       None  \n",
       "2  2023      1   15    15       None  \n",
       "3  2023      1   15    18       None  \n",
       "4  2023      1   15    19       None  "
      ]
     },
     "execution_count": 11,
     "metadata": {},
     "output_type": "execute_result"
    }
   ],
   "source": [
    "# Add a new column 'Annotation' to the dataframe\n",
    "loaded_df['Annotation'] = None\n",
    "\n",
    "# Display the first few rows of the updated dataframe\n",
    "loaded_df.head()"
   ]
  },
  {
   "cell_type": "code",
   "execution_count": 12,
   "metadata": {},
   "outputs": [
    {
     "data": {
      "application/vnd.microsoft.datawrangler.viewer.v0+json": {
       "columns": [
        {
         "name": "index",
         "rawType": "int64",
         "type": "integer"
        },
        {
         "name": "Unnamed: 0.1",
         "rawType": "int64",
         "type": "integer"
        },
        {
         "name": "Unnamed: 0",
         "rawType": "int64",
         "type": "integer"
        },
        {
         "name": "Text",
         "rawType": "object",
         "type": "string"
        },
        {
         "name": "Sentiment",
         "rawType": "object",
         "type": "string"
        },
        {
         "name": "Timestamp",
         "rawType": "object",
         "type": "string"
        },
        {
         "name": "User",
         "rawType": "object",
         "type": "string"
        },
        {
         "name": "Platform",
         "rawType": "object",
         "type": "string"
        },
        {
         "name": "Hashtags",
         "rawType": "object",
         "type": "string"
        },
        {
         "name": "Retweets",
         "rawType": "float64",
         "type": "float"
        },
        {
         "name": "Likes",
         "rawType": "float64",
         "type": "float"
        },
        {
         "name": "Country",
         "rawType": "object",
         "type": "string"
        },
        {
         "name": "Year",
         "rawType": "int64",
         "type": "integer"
        },
        {
         "name": "Month",
         "rawType": "int64",
         "type": "integer"
        },
        {
         "name": "Day",
         "rawType": "int64",
         "type": "integer"
        },
        {
         "name": "Hour",
         "rawType": "int64",
         "type": "integer"
        },
        {
         "name": "Annotation",
         "rawType": "object",
         "type": "unknown"
        }
       ],
       "conversionMethod": "pd.DataFrame",
       "ref": "5a49ecaa-face-4326-91a8-a621d4e7eaf8",
       "rows": [
        [
         "0",
         "0",
         "0",
         " Enjoying a beautiful day at the park!              ",
         " Positive  ",
         "2023-01-15 12:30:00",
         " User123      ",
         " Twitter  ",
         " #Nature #Park                            ",
         "15.0",
         "30.0",
         " USA      ",
         "2023",
         "1",
         "15",
         "12",
         null
        ],
        [
         "1",
         "1",
         "1",
         " Traffic was terrible this morning.                 ",
         " Negative  ",
         "2023-01-15 08:45:00",
         " CommuterX    ",
         " Twitter  ",
         " #Traffic #Morning                        ",
         "5.0",
         "10.0",
         " Canada   ",
         "2023",
         "1",
         "15",
         "8",
         null
        ],
        [
         "2",
         "2",
         "2",
         " Just finished an amazing workout! 💪               ",
         " Positive  ",
         "2023-01-15 15:45:00",
         " FitnessFan   ",
         " Instagram ",
         " #Fitness #Workout                        ",
         "20.0",
         "40.0",
         " USA        ",
         "2023",
         "1",
         "15",
         "15",
         null
        ],
        [
         "3",
         "3",
         "3",
         " Excited about the upcoming weekend getaway!        ",
         " Positive  ",
         "2023-01-15 18:20:00",
         " AdventureX   ",
         " Facebook ",
         " #Travel #Adventure                       ",
         "8.0",
         "15.0",
         " UK       ",
         "2023",
         "1",
         "15",
         "18",
         null
        ],
        [
         "4",
         "4",
         "4",
         " Trying out a new recipe for dinner tonight.        ",
         " Neutral   ",
         "2023-01-15 19:55:00",
         " ChefCook     ",
         " Instagram ",
         " #Cooking #Food                           ",
         "12.0",
         "25.0",
         " Australia ",
         "2023",
         "1",
         "15",
         "19",
         null
        ]
       ],
       "shape": {
        "columns": 16,
        "rows": 5
       }
      },
      "text/html": [
       "<div>\n",
       "<style scoped>\n",
       "    .dataframe tbody tr th:only-of-type {\n",
       "        vertical-align: middle;\n",
       "    }\n",
       "\n",
       "    .dataframe tbody tr th {\n",
       "        vertical-align: top;\n",
       "    }\n",
       "\n",
       "    .dataframe thead th {\n",
       "        text-align: right;\n",
       "    }\n",
       "</style>\n",
       "<table border=\"1\" class=\"dataframe\">\n",
       "  <thead>\n",
       "    <tr style=\"text-align: right;\">\n",
       "      <th></th>\n",
       "      <th>Unnamed: 0.1</th>\n",
       "      <th>Unnamed: 0</th>\n",
       "      <th>Text</th>\n",
       "      <th>Sentiment</th>\n",
       "      <th>Timestamp</th>\n",
       "      <th>User</th>\n",
       "      <th>Platform</th>\n",
       "      <th>Hashtags</th>\n",
       "      <th>Retweets</th>\n",
       "      <th>Likes</th>\n",
       "      <th>Country</th>\n",
       "      <th>Year</th>\n",
       "      <th>Month</th>\n",
       "      <th>Day</th>\n",
       "      <th>Hour</th>\n",
       "      <th>Annotation</th>\n",
       "    </tr>\n",
       "  </thead>\n",
       "  <tbody>\n",
       "    <tr>\n",
       "      <th>0</th>\n",
       "      <td>0</td>\n",
       "      <td>0</td>\n",
       "      <td>Enjoying a beautiful day at the park!        ...</td>\n",
       "      <td>Positive</td>\n",
       "      <td>2023-01-15 12:30:00</td>\n",
       "      <td>User123</td>\n",
       "      <td>Twitter</td>\n",
       "      <td>#Nature #Park</td>\n",
       "      <td>15.0</td>\n",
       "      <td>30.0</td>\n",
       "      <td>USA</td>\n",
       "      <td>2023</td>\n",
       "      <td>1</td>\n",
       "      <td>15</td>\n",
       "      <td>12</td>\n",
       "      <td>None</td>\n",
       "    </tr>\n",
       "    <tr>\n",
       "      <th>1</th>\n",
       "      <td>1</td>\n",
       "      <td>1</td>\n",
       "      <td>Traffic was terrible this morning.           ...</td>\n",
       "      <td>Negative</td>\n",
       "      <td>2023-01-15 08:45:00</td>\n",
       "      <td>CommuterX</td>\n",
       "      <td>Twitter</td>\n",
       "      <td>#Traffic #Morning</td>\n",
       "      <td>5.0</td>\n",
       "      <td>10.0</td>\n",
       "      <td>Canada</td>\n",
       "      <td>2023</td>\n",
       "      <td>1</td>\n",
       "      <td>15</td>\n",
       "      <td>8</td>\n",
       "      <td>None</td>\n",
       "    </tr>\n",
       "    <tr>\n",
       "      <th>2</th>\n",
       "      <td>2</td>\n",
       "      <td>2</td>\n",
       "      <td>Just finished an amazing workout! 💪          ...</td>\n",
       "      <td>Positive</td>\n",
       "      <td>2023-01-15 15:45:00</td>\n",
       "      <td>FitnessFan</td>\n",
       "      <td>Instagram</td>\n",
       "      <td>#Fitness #Workout</td>\n",
       "      <td>20.0</td>\n",
       "      <td>40.0</td>\n",
       "      <td>USA</td>\n",
       "      <td>2023</td>\n",
       "      <td>1</td>\n",
       "      <td>15</td>\n",
       "      <td>15</td>\n",
       "      <td>None</td>\n",
       "    </tr>\n",
       "    <tr>\n",
       "      <th>3</th>\n",
       "      <td>3</td>\n",
       "      <td>3</td>\n",
       "      <td>Excited about the upcoming weekend getaway!  ...</td>\n",
       "      <td>Positive</td>\n",
       "      <td>2023-01-15 18:20:00</td>\n",
       "      <td>AdventureX</td>\n",
       "      <td>Facebook</td>\n",
       "      <td>#Travel #Adventure</td>\n",
       "      <td>8.0</td>\n",
       "      <td>15.0</td>\n",
       "      <td>UK</td>\n",
       "      <td>2023</td>\n",
       "      <td>1</td>\n",
       "      <td>15</td>\n",
       "      <td>18</td>\n",
       "      <td>None</td>\n",
       "    </tr>\n",
       "    <tr>\n",
       "      <th>4</th>\n",
       "      <td>4</td>\n",
       "      <td>4</td>\n",
       "      <td>Trying out a new recipe for dinner tonight.  ...</td>\n",
       "      <td>Neutral</td>\n",
       "      <td>2023-01-15 19:55:00</td>\n",
       "      <td>ChefCook</td>\n",
       "      <td>Instagram</td>\n",
       "      <td>#Cooking #Food</td>\n",
       "      <td>12.0</td>\n",
       "      <td>25.0</td>\n",
       "      <td>Australia</td>\n",
       "      <td>2023</td>\n",
       "      <td>1</td>\n",
       "      <td>15</td>\n",
       "      <td>19</td>\n",
       "      <td>None</td>\n",
       "    </tr>\n",
       "  </tbody>\n",
       "</table>\n",
       "</div>"
      ],
      "text/plain": [
       "   Unnamed: 0.1  Unnamed: 0  \\\n",
       "0             0           0   \n",
       "1             1           1   \n",
       "2             2           2   \n",
       "3             3           3   \n",
       "4             4           4   \n",
       "\n",
       "                                                Text    Sentiment  \\\n",
       "0   Enjoying a beautiful day at the park!        ...   Positive     \n",
       "1   Traffic was terrible this morning.           ...   Negative     \n",
       "2   Just finished an amazing workout! 💪          ...   Positive     \n",
       "3   Excited about the upcoming weekend getaway!  ...   Positive     \n",
       "4   Trying out a new recipe for dinner tonight.  ...   Neutral      \n",
       "\n",
       "             Timestamp            User     Platform  \\\n",
       "0  2023-01-15 12:30:00   User123          Twitter     \n",
       "1  2023-01-15 08:45:00   CommuterX        Twitter     \n",
       "2  2023-01-15 15:45:00   FitnessFan      Instagram    \n",
       "3  2023-01-15 18:20:00   AdventureX       Facebook    \n",
       "4  2023-01-15 19:55:00   ChefCook        Instagram    \n",
       "\n",
       "                                     Hashtags  Retweets  Likes       Country  \\\n",
       "0   #Nature #Park                                  15.0   30.0     USA         \n",
       "1   #Traffic #Morning                               5.0   10.0     Canada      \n",
       "2   #Fitness #Workout                              20.0   40.0   USA           \n",
       "3   #Travel #Adventure                              8.0   15.0     UK          \n",
       "4   #Cooking #Food                                 12.0   25.0    Australia    \n",
       "\n",
       "   Year  Month  Day  Hour Annotation  \n",
       "0  2023      1   15    12       None  \n",
       "1  2023      1   15     8       None  \n",
       "2  2023      1   15    15       None  \n",
       "3  2023      1   15    18       None  \n",
       "4  2023      1   15    19       None  "
      ]
     },
     "execution_count": 12,
     "metadata": {},
     "output_type": "execute_result"
    }
   ],
   "source": [
    "# Make a copy of the dataframe to annotate binary labels\n",
    "annotated_df = loaded_df.copy(deep=True)\n",
    "annotated_df.head()"
   ]
  },
  {
   "cell_type": "code",
   "execution_count": 13,
   "metadata": {},
   "outputs": [],
   "source": [
    "assert len(annotated_df) == len(loaded_df)"
   ]
  },
  {
   "cell_type": "code",
   "execution_count": null,
   "metadata": {},
   "outputs": [],
   "source": [
    "# construct a base prompt \n",
    "with open(\"prompt_annotation_base.txt\", \"w\") as file:\n",
    "    file.write(\"I have a dataset of arbitrary posts on various common social media platforms.\\n\")\n",
    "    file.write(\"They are indicated either positive or negative.\\n\")\n",
    "    file.write(\"With reference to the following DORIS scale,\\n\")\n",
    "    file.write(\"indicate whether the post content is suicidal.\\n\")\n",
    "    file.write(\"Represent your answer only with an integer in response.\\n\")\n",
    "    file.write(\"For example, if you think the post content is suicidal, indicate only 9 in your response.\\n\")\n",
    "    file.write(\"I will provide a batch of at most 10 posts for you you to annotate,\\n\")\n",
    "    file.write(\"one line per post.\\n\")\n",
    "    file.write(\"Please provide your annotations in the same order as the posts are provided, line-by-line.\\n\")\n",
    "    file.write(\"DORIS Scale:\\n\")\n",
    "    # https://arxiv.org/pdf/2403.10750\n",
    "    file.write(\"0. Positive or Neutral\\n\")\n",
    "    file.write(\"1. Depressed mood\\n\")\n",
    "    file.write(\"2. Loss of interest/pleasure\\n\")\n",
    "    file.write(\"3. Weight loss or gain\\n\")\n",
    "    file.write(\"4. Insomnia or hypersomnia\\n\")\n",
    "    file.write(\"5. Psychomotor agitation or retardation\\n\")\n",
    "    file.write(\"6. Fatigue\\n\")\n",
    "    file.write(\"7. Inappropriate guilt\\n\")\n",
    "    file.write(\"8. Decreased concentration\\n\")\n",
    "    file.write(\"9. Thoughts of suicide\\n\\n\")\n",
    "    file.write(\"Prompts to decide:\\n\")"
   ]
  },
  {
   "cell_type": "code",
   "execution_count": 15,
   "metadata": {},
   "outputs": [],
   "source": [
    "BATCH_SIZE = 20\n",
    "with open(\"prompt_annotation_base.txt\", \"r\") as file:\n",
    "    basePrompt = file.read()\n",
    "    # for loop to annotate all posts and append to DataFrame\n",
    "    batch: list = []\n",
    "    for index, row in loaded_df.iterrows():\n",
    "        batch.append(row['Text'])\n",
    "\n",
    "        if len(batch) == BATCH_SIZE or index == len(loaded_df) - 1:\n",
    "            # construct prompt with at most 20 posts\n",
    "            prompt = basePrompt + \"\\n\".join(batch)\n",
    "            # annotate with gemini\n",
    "            response = client.models.generate_content(\n",
    "                model=\"gemini-2.0-flash\", contents=prompt\n",
    "            )\n",
    "            annotations = [int(item) if item.isdigit() and 0 <= int(item) <= 9 else 0 for item in response.text.strip().split(\"\\n\")]\n",
    "            for i, annotation in enumerate(annotations):\n",
    "                # Multi-class label\n",
    "                loaded_df.at[index - len(batch) + i + 1, 'Annotation'] = annotation\n",
    "                # Binary label\n",
    "                if annotation == 9:\n",
    "                    annotated_df.at[index - len(batch) + i + 1, 'Annotation'] = 1\n",
    "                else:\n",
    "                    annotated_df.at[index - len(batch) + i + 1, 'Annotation'] = 0\n",
    "            \n",
    "            time.sleep(5)\n",
    "            batch = [] # clear batch"
   ]
  },
  {
   "cell_type": "markdown",
   "metadata": {},
   "source": [
    "Multi-class Labels:\n",
    "* 0: Positive or Neutral\n",
    "* 1: Depressed mood\n",
    "* 2: Loss of interest/pleasure\n",
    "* 3: Weight loss or gain\n",
    "* 4: Insomnia or hypersomnia\n",
    "* 5: Psychomotor agitation or retardation\n",
    "* 6: Fatigue\n",
    "* 7: Inappropriate guilt\n",
    "* 8: Decreased concentration\n",
    "* 9: Thoughts of suicide\n",
    "\n",
    "Binary Labels: \n",
    "* 0: Non-Suicidal\n",
    "* 1: Suicidal"
   ]
  },
  {
   "cell_type": "code",
   "execution_count": 16,
   "metadata": {},
   "outputs": [
    {
     "data": {
      "application/vnd.microsoft.datawrangler.viewer.v0+json": {
       "columns": [
        {
         "name": "index",
         "rawType": "int64",
         "type": "integer"
        },
        {
         "name": "Unnamed: 0.1",
         "rawType": "int64",
         "type": "integer"
        },
        {
         "name": "Unnamed: 0",
         "rawType": "int64",
         "type": "integer"
        },
        {
         "name": "Text",
         "rawType": "object",
         "type": "string"
        },
        {
         "name": "Sentiment",
         "rawType": "object",
         "type": "string"
        },
        {
         "name": "Timestamp",
         "rawType": "object",
         "type": "string"
        },
        {
         "name": "User",
         "rawType": "object",
         "type": "string"
        },
        {
         "name": "Platform",
         "rawType": "object",
         "type": "string"
        },
        {
         "name": "Hashtags",
         "rawType": "object",
         "type": "string"
        },
        {
         "name": "Retweets",
         "rawType": "float64",
         "type": "float"
        },
        {
         "name": "Likes",
         "rawType": "float64",
         "type": "float"
        },
        {
         "name": "Country",
         "rawType": "object",
         "type": "string"
        },
        {
         "name": "Year",
         "rawType": "int64",
         "type": "integer"
        },
        {
         "name": "Month",
         "rawType": "int64",
         "type": "integer"
        },
        {
         "name": "Day",
         "rawType": "int64",
         "type": "integer"
        },
        {
         "name": "Hour",
         "rawType": "int64",
         "type": "integer"
        },
        {
         "name": "Annotation",
         "rawType": "object",
         "type": "unknown"
        }
       ],
       "conversionMethod": "pd.DataFrame",
       "ref": "6fb1b89f-a312-4d7b-b09d-fb99321055cd",
       "rows": [
        [
         "0",
         "0",
         "0",
         " Enjoying a beautiful day at the park!              ",
         " Positive  ",
         "2023-01-15 12:30:00",
         " User123      ",
         " Twitter  ",
         " #Nature #Park                            ",
         "15.0",
         "30.0",
         " USA      ",
         "2023",
         "1",
         "15",
         "12",
         "0"
        ],
        [
         "1",
         "1",
         "1",
         " Traffic was terrible this morning.                 ",
         " Negative  ",
         "2023-01-15 08:45:00",
         " CommuterX    ",
         " Twitter  ",
         " #Traffic #Morning                        ",
         "5.0",
         "10.0",
         " Canada   ",
         "2023",
         "1",
         "15",
         "8",
         "0"
        ],
        [
         "2",
         "2",
         "2",
         " Just finished an amazing workout! 💪               ",
         " Positive  ",
         "2023-01-15 15:45:00",
         " FitnessFan   ",
         " Instagram ",
         " #Fitness #Workout                        ",
         "20.0",
         "40.0",
         " USA        ",
         "2023",
         "1",
         "15",
         "15",
         "0"
        ],
        [
         "3",
         "3",
         "3",
         " Excited about the upcoming weekend getaway!        ",
         " Positive  ",
         "2023-01-15 18:20:00",
         " AdventureX   ",
         " Facebook ",
         " #Travel #Adventure                       ",
         "8.0",
         "15.0",
         " UK       ",
         "2023",
         "1",
         "15",
         "18",
         "0"
        ],
        [
         "4",
         "4",
         "4",
         " Trying out a new recipe for dinner tonight.        ",
         " Neutral   ",
         "2023-01-15 19:55:00",
         " ChefCook     ",
         " Instagram ",
         " #Cooking #Food                           ",
         "12.0",
         "25.0",
         " Australia ",
         "2023",
         "1",
         "15",
         "19",
         "0"
        ]
       ],
       "shape": {
        "columns": 16,
        "rows": 5
       }
      },
      "text/html": [
       "<div>\n",
       "<style scoped>\n",
       "    .dataframe tbody tr th:only-of-type {\n",
       "        vertical-align: middle;\n",
       "    }\n",
       "\n",
       "    .dataframe tbody tr th {\n",
       "        vertical-align: top;\n",
       "    }\n",
       "\n",
       "    .dataframe thead th {\n",
       "        text-align: right;\n",
       "    }\n",
       "</style>\n",
       "<table border=\"1\" class=\"dataframe\">\n",
       "  <thead>\n",
       "    <tr style=\"text-align: right;\">\n",
       "      <th></th>\n",
       "      <th>Unnamed: 0.1</th>\n",
       "      <th>Unnamed: 0</th>\n",
       "      <th>Text</th>\n",
       "      <th>Sentiment</th>\n",
       "      <th>Timestamp</th>\n",
       "      <th>User</th>\n",
       "      <th>Platform</th>\n",
       "      <th>Hashtags</th>\n",
       "      <th>Retweets</th>\n",
       "      <th>Likes</th>\n",
       "      <th>Country</th>\n",
       "      <th>Year</th>\n",
       "      <th>Month</th>\n",
       "      <th>Day</th>\n",
       "      <th>Hour</th>\n",
       "      <th>Annotation</th>\n",
       "    </tr>\n",
       "  </thead>\n",
       "  <tbody>\n",
       "    <tr>\n",
       "      <th>0</th>\n",
       "      <td>0</td>\n",
       "      <td>0</td>\n",
       "      <td>Enjoying a beautiful day at the park!        ...</td>\n",
       "      <td>Positive</td>\n",
       "      <td>2023-01-15 12:30:00</td>\n",
       "      <td>User123</td>\n",
       "      <td>Twitter</td>\n",
       "      <td>#Nature #Park</td>\n",
       "      <td>15.0</td>\n",
       "      <td>30.0</td>\n",
       "      <td>USA</td>\n",
       "      <td>2023</td>\n",
       "      <td>1</td>\n",
       "      <td>15</td>\n",
       "      <td>12</td>\n",
       "      <td>0</td>\n",
       "    </tr>\n",
       "    <tr>\n",
       "      <th>1</th>\n",
       "      <td>1</td>\n",
       "      <td>1</td>\n",
       "      <td>Traffic was terrible this morning.           ...</td>\n",
       "      <td>Negative</td>\n",
       "      <td>2023-01-15 08:45:00</td>\n",
       "      <td>CommuterX</td>\n",
       "      <td>Twitter</td>\n",
       "      <td>#Traffic #Morning</td>\n",
       "      <td>5.0</td>\n",
       "      <td>10.0</td>\n",
       "      <td>Canada</td>\n",
       "      <td>2023</td>\n",
       "      <td>1</td>\n",
       "      <td>15</td>\n",
       "      <td>8</td>\n",
       "      <td>0</td>\n",
       "    </tr>\n",
       "    <tr>\n",
       "      <th>2</th>\n",
       "      <td>2</td>\n",
       "      <td>2</td>\n",
       "      <td>Just finished an amazing workout! 💪          ...</td>\n",
       "      <td>Positive</td>\n",
       "      <td>2023-01-15 15:45:00</td>\n",
       "      <td>FitnessFan</td>\n",
       "      <td>Instagram</td>\n",
       "      <td>#Fitness #Workout</td>\n",
       "      <td>20.0</td>\n",
       "      <td>40.0</td>\n",
       "      <td>USA</td>\n",
       "      <td>2023</td>\n",
       "      <td>1</td>\n",
       "      <td>15</td>\n",
       "      <td>15</td>\n",
       "      <td>0</td>\n",
       "    </tr>\n",
       "    <tr>\n",
       "      <th>3</th>\n",
       "      <td>3</td>\n",
       "      <td>3</td>\n",
       "      <td>Excited about the upcoming weekend getaway!  ...</td>\n",
       "      <td>Positive</td>\n",
       "      <td>2023-01-15 18:20:00</td>\n",
       "      <td>AdventureX</td>\n",
       "      <td>Facebook</td>\n",
       "      <td>#Travel #Adventure</td>\n",
       "      <td>8.0</td>\n",
       "      <td>15.0</td>\n",
       "      <td>UK</td>\n",
       "      <td>2023</td>\n",
       "      <td>1</td>\n",
       "      <td>15</td>\n",
       "      <td>18</td>\n",
       "      <td>0</td>\n",
       "    </tr>\n",
       "    <tr>\n",
       "      <th>4</th>\n",
       "      <td>4</td>\n",
       "      <td>4</td>\n",
       "      <td>Trying out a new recipe for dinner tonight.  ...</td>\n",
       "      <td>Neutral</td>\n",
       "      <td>2023-01-15 19:55:00</td>\n",
       "      <td>ChefCook</td>\n",
       "      <td>Instagram</td>\n",
       "      <td>#Cooking #Food</td>\n",
       "      <td>12.0</td>\n",
       "      <td>25.0</td>\n",
       "      <td>Australia</td>\n",
       "      <td>2023</td>\n",
       "      <td>1</td>\n",
       "      <td>15</td>\n",
       "      <td>19</td>\n",
       "      <td>0</td>\n",
       "    </tr>\n",
       "  </tbody>\n",
       "</table>\n",
       "</div>"
      ],
      "text/plain": [
       "   Unnamed: 0.1  Unnamed: 0  \\\n",
       "0             0           0   \n",
       "1             1           1   \n",
       "2             2           2   \n",
       "3             3           3   \n",
       "4             4           4   \n",
       "\n",
       "                                                Text    Sentiment  \\\n",
       "0   Enjoying a beautiful day at the park!        ...   Positive     \n",
       "1   Traffic was terrible this morning.           ...   Negative     \n",
       "2   Just finished an amazing workout! 💪          ...   Positive     \n",
       "3   Excited about the upcoming weekend getaway!  ...   Positive     \n",
       "4   Trying out a new recipe for dinner tonight.  ...   Neutral      \n",
       "\n",
       "             Timestamp            User     Platform  \\\n",
       "0  2023-01-15 12:30:00   User123          Twitter     \n",
       "1  2023-01-15 08:45:00   CommuterX        Twitter     \n",
       "2  2023-01-15 15:45:00   FitnessFan      Instagram    \n",
       "3  2023-01-15 18:20:00   AdventureX       Facebook    \n",
       "4  2023-01-15 19:55:00   ChefCook        Instagram    \n",
       "\n",
       "                                     Hashtags  Retweets  Likes       Country  \\\n",
       "0   #Nature #Park                                  15.0   30.0     USA         \n",
       "1   #Traffic #Morning                               5.0   10.0     Canada      \n",
       "2   #Fitness #Workout                              20.0   40.0   USA           \n",
       "3   #Travel #Adventure                              8.0   15.0     UK          \n",
       "4   #Cooking #Food                                 12.0   25.0    Australia    \n",
       "\n",
       "   Year  Month  Day  Hour Annotation  \n",
       "0  2023      1   15    12          0  \n",
       "1  2023      1   15     8          0  \n",
       "2  2023      1   15    15          0  \n",
       "3  2023      1   15    18          0  \n",
       "4  2023      1   15    19          0  "
      ]
     },
     "execution_count": 16,
     "metadata": {},
     "output_type": "execute_result"
    }
   ],
   "source": [
    "loaded_df.head()"
   ]
  },
  {
   "cell_type": "markdown",
   "metadata": {},
   "source": [
    "Make sure no missing values in annotation."
   ]
  },
  {
   "cell_type": "code",
   "execution_count": 17,
   "metadata": {},
   "outputs": [
    {
     "data": {
      "text/plain": [
       "Annotation\n",
       "0    568\n",
       "1    157\n",
       "8      2\n",
       "7      2\n",
       "6      2\n",
       "9      1\n",
       "Name: count, dtype: int64"
      ]
     },
     "execution_count": 17,
     "metadata": {},
     "output_type": "execute_result"
    }
   ],
   "source": [
    "unique_multi_annotations = loaded_df['Annotation'].value_counts()\n",
    "assert 1 < len(unique_multi_annotations) <= 10\n",
    "unique_multi_annotations"
   ]
  },
  {
   "cell_type": "code",
   "execution_count": 18,
   "metadata": {},
   "outputs": [
    {
     "data": {
      "application/vnd.microsoft.datawrangler.viewer.v0+json": {
       "columns": [
        {
         "name": "index",
         "rawType": "int64",
         "type": "integer"
        },
        {
         "name": "Unnamed: 0.1",
         "rawType": "int64",
         "type": "integer"
        },
        {
         "name": "Unnamed: 0",
         "rawType": "int64",
         "type": "integer"
        },
        {
         "name": "Text",
         "rawType": "object",
         "type": "string"
        },
        {
         "name": "Sentiment",
         "rawType": "object",
         "type": "string"
        },
        {
         "name": "Timestamp",
         "rawType": "object",
         "type": "string"
        },
        {
         "name": "User",
         "rawType": "object",
         "type": "string"
        },
        {
         "name": "Platform",
         "rawType": "object",
         "type": "string"
        },
        {
         "name": "Hashtags",
         "rawType": "object",
         "type": "string"
        },
        {
         "name": "Retweets",
         "rawType": "float64",
         "type": "float"
        },
        {
         "name": "Likes",
         "rawType": "float64",
         "type": "float"
        },
        {
         "name": "Country",
         "rawType": "object",
         "type": "string"
        },
        {
         "name": "Year",
         "rawType": "int64",
         "type": "integer"
        },
        {
         "name": "Month",
         "rawType": "int64",
         "type": "integer"
        },
        {
         "name": "Day",
         "rawType": "int64",
         "type": "integer"
        },
        {
         "name": "Hour",
         "rawType": "int64",
         "type": "integer"
        },
        {
         "name": "Annotation",
         "rawType": "object",
         "type": "unknown"
        }
       ],
       "conversionMethod": "pd.DataFrame",
       "ref": "ddf32e0a-0b94-4ef1-a9ef-c578a7517b4e",
       "rows": [
        [
         "0",
         "0",
         "0",
         " Enjoying a beautiful day at the park!              ",
         " Positive  ",
         "2023-01-15 12:30:00",
         " User123      ",
         " Twitter  ",
         " #Nature #Park                            ",
         "15.0",
         "30.0",
         " USA      ",
         "2023",
         "1",
         "15",
         "12",
         "0"
        ],
        [
         "1",
         "1",
         "1",
         " Traffic was terrible this morning.                 ",
         " Negative  ",
         "2023-01-15 08:45:00",
         " CommuterX    ",
         " Twitter  ",
         " #Traffic #Morning                        ",
         "5.0",
         "10.0",
         " Canada   ",
         "2023",
         "1",
         "15",
         "8",
         "0"
        ],
        [
         "2",
         "2",
         "2",
         " Just finished an amazing workout! 💪               ",
         " Positive  ",
         "2023-01-15 15:45:00",
         " FitnessFan   ",
         " Instagram ",
         " #Fitness #Workout                        ",
         "20.0",
         "40.0",
         " USA        ",
         "2023",
         "1",
         "15",
         "15",
         "0"
        ],
        [
         "3",
         "3",
         "3",
         " Excited about the upcoming weekend getaway!        ",
         " Positive  ",
         "2023-01-15 18:20:00",
         " AdventureX   ",
         " Facebook ",
         " #Travel #Adventure                       ",
         "8.0",
         "15.0",
         " UK       ",
         "2023",
         "1",
         "15",
         "18",
         "0"
        ],
        [
         "4",
         "4",
         "4",
         " Trying out a new recipe for dinner tonight.        ",
         " Neutral   ",
         "2023-01-15 19:55:00",
         " ChefCook     ",
         " Instagram ",
         " #Cooking #Food                           ",
         "12.0",
         "25.0",
         " Australia ",
         "2023",
         "1",
         "15",
         "19",
         "0"
        ]
       ],
       "shape": {
        "columns": 16,
        "rows": 5
       }
      },
      "text/html": [
       "<div>\n",
       "<style scoped>\n",
       "    .dataframe tbody tr th:only-of-type {\n",
       "        vertical-align: middle;\n",
       "    }\n",
       "\n",
       "    .dataframe tbody tr th {\n",
       "        vertical-align: top;\n",
       "    }\n",
       "\n",
       "    .dataframe thead th {\n",
       "        text-align: right;\n",
       "    }\n",
       "</style>\n",
       "<table border=\"1\" class=\"dataframe\">\n",
       "  <thead>\n",
       "    <tr style=\"text-align: right;\">\n",
       "      <th></th>\n",
       "      <th>Unnamed: 0.1</th>\n",
       "      <th>Unnamed: 0</th>\n",
       "      <th>Text</th>\n",
       "      <th>Sentiment</th>\n",
       "      <th>Timestamp</th>\n",
       "      <th>User</th>\n",
       "      <th>Platform</th>\n",
       "      <th>Hashtags</th>\n",
       "      <th>Retweets</th>\n",
       "      <th>Likes</th>\n",
       "      <th>Country</th>\n",
       "      <th>Year</th>\n",
       "      <th>Month</th>\n",
       "      <th>Day</th>\n",
       "      <th>Hour</th>\n",
       "      <th>Annotation</th>\n",
       "    </tr>\n",
       "  </thead>\n",
       "  <tbody>\n",
       "    <tr>\n",
       "      <th>0</th>\n",
       "      <td>0</td>\n",
       "      <td>0</td>\n",
       "      <td>Enjoying a beautiful day at the park!        ...</td>\n",
       "      <td>Positive</td>\n",
       "      <td>2023-01-15 12:30:00</td>\n",
       "      <td>User123</td>\n",
       "      <td>Twitter</td>\n",
       "      <td>#Nature #Park</td>\n",
       "      <td>15.0</td>\n",
       "      <td>30.0</td>\n",
       "      <td>USA</td>\n",
       "      <td>2023</td>\n",
       "      <td>1</td>\n",
       "      <td>15</td>\n",
       "      <td>12</td>\n",
       "      <td>0</td>\n",
       "    </tr>\n",
       "    <tr>\n",
       "      <th>1</th>\n",
       "      <td>1</td>\n",
       "      <td>1</td>\n",
       "      <td>Traffic was terrible this morning.           ...</td>\n",
       "      <td>Negative</td>\n",
       "      <td>2023-01-15 08:45:00</td>\n",
       "      <td>CommuterX</td>\n",
       "      <td>Twitter</td>\n",
       "      <td>#Traffic #Morning</td>\n",
       "      <td>5.0</td>\n",
       "      <td>10.0</td>\n",
       "      <td>Canada</td>\n",
       "      <td>2023</td>\n",
       "      <td>1</td>\n",
       "      <td>15</td>\n",
       "      <td>8</td>\n",
       "      <td>0</td>\n",
       "    </tr>\n",
       "    <tr>\n",
       "      <th>2</th>\n",
       "      <td>2</td>\n",
       "      <td>2</td>\n",
       "      <td>Just finished an amazing workout! 💪          ...</td>\n",
       "      <td>Positive</td>\n",
       "      <td>2023-01-15 15:45:00</td>\n",
       "      <td>FitnessFan</td>\n",
       "      <td>Instagram</td>\n",
       "      <td>#Fitness #Workout</td>\n",
       "      <td>20.0</td>\n",
       "      <td>40.0</td>\n",
       "      <td>USA</td>\n",
       "      <td>2023</td>\n",
       "      <td>1</td>\n",
       "      <td>15</td>\n",
       "      <td>15</td>\n",
       "      <td>0</td>\n",
       "    </tr>\n",
       "    <tr>\n",
       "      <th>3</th>\n",
       "      <td>3</td>\n",
       "      <td>3</td>\n",
       "      <td>Excited about the upcoming weekend getaway!  ...</td>\n",
       "      <td>Positive</td>\n",
       "      <td>2023-01-15 18:20:00</td>\n",
       "      <td>AdventureX</td>\n",
       "      <td>Facebook</td>\n",
       "      <td>#Travel #Adventure</td>\n",
       "      <td>8.0</td>\n",
       "      <td>15.0</td>\n",
       "      <td>UK</td>\n",
       "      <td>2023</td>\n",
       "      <td>1</td>\n",
       "      <td>15</td>\n",
       "      <td>18</td>\n",
       "      <td>0</td>\n",
       "    </tr>\n",
       "    <tr>\n",
       "      <th>4</th>\n",
       "      <td>4</td>\n",
       "      <td>4</td>\n",
       "      <td>Trying out a new recipe for dinner tonight.  ...</td>\n",
       "      <td>Neutral</td>\n",
       "      <td>2023-01-15 19:55:00</td>\n",
       "      <td>ChefCook</td>\n",
       "      <td>Instagram</td>\n",
       "      <td>#Cooking #Food</td>\n",
       "      <td>12.0</td>\n",
       "      <td>25.0</td>\n",
       "      <td>Australia</td>\n",
       "      <td>2023</td>\n",
       "      <td>1</td>\n",
       "      <td>15</td>\n",
       "      <td>19</td>\n",
       "      <td>0</td>\n",
       "    </tr>\n",
       "  </tbody>\n",
       "</table>\n",
       "</div>"
      ],
      "text/plain": [
       "   Unnamed: 0.1  Unnamed: 0  \\\n",
       "0             0           0   \n",
       "1             1           1   \n",
       "2             2           2   \n",
       "3             3           3   \n",
       "4             4           4   \n",
       "\n",
       "                                                Text    Sentiment  \\\n",
       "0   Enjoying a beautiful day at the park!        ...   Positive     \n",
       "1   Traffic was terrible this morning.           ...   Negative     \n",
       "2   Just finished an amazing workout! 💪          ...   Positive     \n",
       "3   Excited about the upcoming weekend getaway!  ...   Positive     \n",
       "4   Trying out a new recipe for dinner tonight.  ...   Neutral      \n",
       "\n",
       "             Timestamp            User     Platform  \\\n",
       "0  2023-01-15 12:30:00   User123          Twitter     \n",
       "1  2023-01-15 08:45:00   CommuterX        Twitter     \n",
       "2  2023-01-15 15:45:00   FitnessFan      Instagram    \n",
       "3  2023-01-15 18:20:00   AdventureX       Facebook    \n",
       "4  2023-01-15 19:55:00   ChefCook        Instagram    \n",
       "\n",
       "                                     Hashtags  Retweets  Likes       Country  \\\n",
       "0   #Nature #Park                                  15.0   30.0     USA         \n",
       "1   #Traffic #Morning                               5.0   10.0     Canada      \n",
       "2   #Fitness #Workout                              20.0   40.0   USA           \n",
       "3   #Travel #Adventure                              8.0   15.0     UK          \n",
       "4   #Cooking #Food                                 12.0   25.0    Australia    \n",
       "\n",
       "   Year  Month  Day  Hour Annotation  \n",
       "0  2023      1   15    12          0  \n",
       "1  2023      1   15     8          0  \n",
       "2  2023      1   15    15          0  \n",
       "3  2023      1   15    18          0  \n",
       "4  2023      1   15    19          0  "
      ]
     },
     "execution_count": 18,
     "metadata": {},
     "output_type": "execute_result"
    }
   ],
   "source": [
    "annotated_df.head()"
   ]
  },
  {
   "cell_type": "code",
   "execution_count": 19,
   "metadata": {},
   "outputs": [
    {
     "data": {
      "text/plain": [
       "Annotation\n",
       "0    731\n",
       "1      1\n",
       "Name: count, dtype: int64"
      ]
     },
     "execution_count": 19,
     "metadata": {},
     "output_type": "execute_result"
    }
   ],
   "source": [
    "unique_binary_annotations = annotated_df['Annotation'].value_counts()\n",
    "assert len(unique_binary_annotations) == 2\n",
    "unique_binary_annotations"
   ]
  },
  {
   "cell_type": "code",
   "execution_count": 20,
   "metadata": {},
   "outputs": [],
   "source": [
    "assert len(loaded_df) == len(annotated_df) # records\n",
    "assert len(loaded_df.columns) == len(annotated_df.columns) # columns"
   ]
  },
  {
   "cell_type": "code",
   "execution_count": 21,
   "metadata": {},
   "outputs": [],
   "source": [
    "loaded_df.to_csv('sentimentdataset_annotated.csv', index=False)"
   ]
  },
  {
   "cell_type": "code",
   "execution_count": 22,
   "metadata": {},
   "outputs": [],
   "source": [
    "annotated_df.to_csv('sentimentdataset_annotated_binary.csv', index=False)"
   ]
  },
  {
   "cell_type": "markdown",
   "metadata": {},
   "source": [
    "Finally, check whether the datasets are saved to CSV properly. "
   ]
  },
  {
   "cell_type": "code",
   "execution_count": 23,
   "metadata": {},
   "outputs": [],
   "source": [
    "assert len(pd.read_csv('sentimentdataset_annotated.csv')) == len(loaded_df)\n",
    "assert len((pd.read_csv('sentimentdataset_annotated.csv')).columns) == len(loaded_df.columns)\n",
    "assert len(pd.read_csv('sentimentdataset_annotated_binary.csv')) == len(annotated_df)\n",
    "assert len((pd.read_csv('sentimentdataset_annotated_binary.csv')).columns) == len(annotated_df.columns)"
   ]
  },
  {
   "cell_type": "markdown",
   "metadata": {},
   "source": [
    "## Evaluation"
   ]
  },
  {
   "cell_type": "markdown",
   "metadata": {},
   "source": [
    "We check whether there exist explicit hallucinations."
   ]
  },
  {
   "cell_type": "code",
   "execution_count": 24,
   "metadata": {},
   "outputs": [
    {
     "name": "stdout",
     "output_type": "stream",
     "text": [
      "Hallucination Rate in Multi-Class dataset: 0.0\n",
      "Hallucination Rate in Binary-Class dataset: 0.0\n"
     ]
    }
   ],
   "source": [
    "# hallucination rate\n",
    "mistake_count = 0\n",
    "total_records = len(loaded_df)\n",
    "for index, row in loaded_df.iterrows():\n",
    "    if row['Sentiment'] in positive_sentiments:\n",
    "        if row['Annotation'] != 0:\n",
    "            mistake_count += 1\n",
    "print(f\"Hallucination Rate in Multi-Class dataset: {mistake_count / total_records}\")\n",
    "\n",
    "mistake_count = 0\n",
    "total_records = len(annotated_df)\n",
    "for index, row in annotated_df.iterrows():\n",
    "    if row['Sentiment'] in positive_sentiments:\n",
    "        if row['Annotation'] != 0:\n",
    "            mistake_count += 1\n",
    "print(f\"Hallucination Rate in Binary-Class dataset: {mistake_count / total_records}\")"
   ]
  },
  {
   "cell_type": "markdown",
   "metadata": {},
   "source": [
    "Based on the \"Sentiment\" column, we verified all LLM-annotated records, which are all accurate!"
   ]
  },
  {
   "cell_type": "markdown",
   "metadata": {},
   "source": [
    "## Filter Sensitive Attributes from table"
   ]
  },
  {
   "cell_type": "markdown",
   "metadata": {},
   "source": [
    "**Sensitive Attributes:**\n",
    "\n",
    "1.  **User:**  This can be sensitive because user identifiers can be linked to demographic information (age, gender, location, etc.) or potentially reveal identity, especially on smaller platforms. While a simple username might not be *inherently* sensitive, the *ability to identify and track individuals* based on this is a privacy risk.  Considered sensitive because it could reveal demographic information, potentially leading to bias.\n",
    "2.  **Country:** Can indicate origin, which can be associated with nationality, ethnicity, and related biases.\n",
    "3.  **Platform:** (Potentially Sensitive): *If* the platform itself is heavily associated with specific demographic groups or political leanings, it *could* be considered sensitive.  For example, if a certain platform is known to be primarily used by a particular age group or political affiliation, its inclusion could introduce bias.  However, on its own, it's less directly sensitive than User or Country."
   ]
  },
  {
   "cell_type": "code",
   "execution_count": 25,
   "metadata": {},
   "outputs": [],
   "source": [
    "sensitive_attributes = [\n",
    "    \"User\",\n",
    "    \"Platform\",\n",
    "    \"Country\"\n",
    "]"
   ]
  },
  {
   "cell_type": "code",
   "execution_count": 26,
   "metadata": {},
   "outputs": [],
   "source": [
    "df_multi_class_sensitive_attributes = loaded_df[sensitive_attributes].copy(deep=True)\n",
    "df_binary_class_sensitive_attributes = annotated_df[sensitive_attributes].copy(deep=True)\n",
    "df_multi_class_non_sensitive_attributes = loaded_df.drop(columns=sensitive_attributes).copy(deep=True)\n",
    "df_binary_class_non_sensitive_attributes = annotated_df.drop(columns=sensitive_attributes).copy(deep=True)"
   ]
  },
  {
   "cell_type": "code",
   "execution_count": 27,
   "metadata": {},
   "outputs": [
    {
     "name": "stdout",
     "output_type": "stream",
     "text": [
      "Multi-Class Sensitive Attributes: Index(['User', 'Platform', 'Country'], dtype='object'), total columns: 3\n",
      "Binary-Class Sensitive Attributes: Index(['User', 'Platform', 'Country'], dtype='object'), total columns: 3\n",
      "Multi-Class Non-Sensitive Attributes: Index(['Unnamed: 0.1', 'Unnamed: 0', 'Text', 'Sentiment', 'Timestamp',\n",
      "       'Hashtags', 'Retweets', 'Likes', 'Year', 'Month', 'Day', 'Hour',\n",
      "       'Annotation'],\n",
      "      dtype='object'), total columns: 13\n",
      "Binary-Class Non-Sensitive Attributes: Index(['Unnamed: 0.1', 'Unnamed: 0', 'Text', 'Sentiment', 'Timestamp',\n",
      "       'Hashtags', 'Retweets', 'Likes', 'Year', 'Month', 'Day', 'Hour',\n",
      "       'Annotation'],\n",
      "      dtype='object'), total columns: 13\n"
     ]
    }
   ],
   "source": [
    "print(f\"Multi-Class Sensitive Attributes: {df_multi_class_sensitive_attributes.columns}, total columns: {len(df_multi_class_sensitive_attributes.columns)}\")\n",
    "print(f\"Binary-Class Sensitive Attributes: {df_binary_class_sensitive_attributes.columns}, total columns: {len(df_binary_class_sensitive_attributes.columns)}\")\n",
    "print(f\"Multi-Class Non-Sensitive Attributes: {df_multi_class_non_sensitive_attributes.columns}, total columns: {len(df_multi_class_non_sensitive_attributes.columns)}\")\n",
    "print(f\"Binary-Class Non-Sensitive Attributes: {df_binary_class_non_sensitive_attributes.columns}, total columns: {len(df_binary_class_non_sensitive_attributes.columns)}\")"
   ]
  },
  {
   "cell_type": "code",
   "execution_count": 29,
   "metadata": {},
   "outputs": [],
   "source": [
    "assert len(df_multi_class_sensitive_attributes.columns) == len(sensitive_attributes)\n",
    "assert len(df_binary_class_sensitive_attributes.columns) == len(sensitive_attributes)\n",
    "assert len(df_multi_class_non_sensitive_attributes.columns) == len(loaded_df.columns) - len(sensitive_attributes)\n",
    "assert len(df_binary_class_non_sensitive_attributes.columns) == len(annotated_df.columns) - len(sensitive_attributes)"
   ]
  },
  {
   "cell_type": "code",
   "execution_count": 32,
   "metadata": {},
   "outputs": [
    {
     "name": "stdout",
     "output_type": "stream",
     "text": [
      "CSV files saved successfully.\n"
     ]
    }
   ],
   "source": [
    "# Save to CSV\n",
    "df_multi_class_sensitive_attributes.to_csv('sentimentdataset_multi_class_sensitive_attributes.csv', index=False)\n",
    "df_binary_class_sensitive_attributes.to_csv('sentimentdataset_binary_class_sensitive_attributes.csv', index=False)\n",
    "df_multi_class_non_sensitive_attributes.to_csv('sentimentdataset_multi_class_non_sensitive_attributes.csv', index=False)\n",
    "df_binary_class_non_sensitive_attributes.to_csv('sentimentdataset_binary_class_non_sensitive_attributes.csv', index=False)\n",
    "print(\"CSV files saved successfully.\")"
   ]
  }
 ],
 "metadata": {
  "kernelspec": {
   "display_name": "project-venv",
   "language": "python",
   "name": "python3"
  },
  "language_info": {
   "codemirror_mode": {
    "name": "ipython",
    "version": 3
   },
   "file_extension": ".py",
   "mimetype": "text/x-python",
   "name": "python",
   "nbconvert_exporter": "python",
   "pygments_lexer": "ipython3",
   "version": "3.10.7"
  }
 },
 "nbformat": 4,
 "nbformat_minor": 2
}

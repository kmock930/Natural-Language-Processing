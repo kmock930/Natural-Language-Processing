{
 "cells": [
  {
   "cell_type": "markdown",
   "metadata": {},
   "source": [
    "# Data Exploration on Twitter Suicidal Data"
   ]
  },
  {
   "cell_type": "markdown",
   "metadata": {},
   "source": [
    "Source: https://www.kaggle.com/datasets/hosammhmdali/twitter-suicidal-data"
   ]
  },
  {
   "cell_type": "code",
   "execution_count": 1,
   "metadata": {},
   "outputs": [],
   "source": [
    "import pandas as pd"
   ]
  },
  {
   "cell_type": "code",
   "execution_count": 2,
   "metadata": {},
   "outputs": [],
   "source": [
    "FILEPATH = \"twitter-suicidal_data.csv\""
   ]
  },
  {
   "cell_type": "code",
   "execution_count": 3,
   "metadata": {},
   "outputs": [
    {
     "data": {
      "application/vnd.microsoft.datawrangler.viewer.v0+json": {
       "columns": [
        {
         "name": "index",
         "rawType": "int64",
         "type": "integer"
        },
        {
         "name": "tweet",
         "rawType": "object",
         "type": "string"
        },
        {
         "name": "intention",
         "rawType": "int64",
         "type": "integer"
        }
       ],
       "conversionMethod": "pd.DataFrame",
       "ref": "f46d2151-ba61-425f-aa59-e8b83c6804ad",
       "rows": [
        [
         "0",
         "my life is meaningless i just want to end my life so badly my life is completely empty and i dont want to have to create meaning in it creating meaning is pain how long will i hold back the urge to run my car head first into the next person coming the opposite way when will i stop feeling jealous of tragic characters like gomer pile for the swift end they were able to bring to their lives",
         "1"
        ],
        [
         "1",
         "muttering i wanna die to myself daily for a few months now i feel worthless shes my soulmate i cant live in this horrible world without her i am so lonely i wish i could just turn off the part of my brain that feels ",
         "1"
        ],
        [
         "2",
         "work slave i really feel like my only purpose in life is to make a higher man money parents forcing me through college and i have too much on my plate i owe a lot of money i know this is the easy way out but i am really tired all of these issues are on top of dealing with tensions in america as well i want to rest",
         "1"
        ],
        [
         "3",
         "i did something on the 2 of october i overdosed i just felt so alone and horrible i was in hospital for two days now when i walk down the hallways of my school they always look at me weird and say i should take more pills and i hate it i have no one i have this voice in my head now and it wont go away and i cant be myself anymore thanks for reading",
         "1"
        ],
        [
         "4",
         "i feel like no one cares i just want to die maybe then i d feel less lonely",
         "1"
        ]
       ],
       "shape": {
        "columns": 2,
        "rows": 5
       }
      },
      "text/html": [
       "<div>\n",
       "<style scoped>\n",
       "    .dataframe tbody tr th:only-of-type {\n",
       "        vertical-align: middle;\n",
       "    }\n",
       "\n",
       "    .dataframe tbody tr th {\n",
       "        vertical-align: top;\n",
       "    }\n",
       "\n",
       "    .dataframe thead th {\n",
       "        text-align: right;\n",
       "    }\n",
       "</style>\n",
       "<table border=\"1\" class=\"dataframe\">\n",
       "  <thead>\n",
       "    <tr style=\"text-align: right;\">\n",
       "      <th></th>\n",
       "      <th>tweet</th>\n",
       "      <th>intention</th>\n",
       "    </tr>\n",
       "  </thead>\n",
       "  <tbody>\n",
       "    <tr>\n",
       "      <th>0</th>\n",
       "      <td>my life is meaningless i just want to end my l...</td>\n",
       "      <td>1</td>\n",
       "    </tr>\n",
       "    <tr>\n",
       "      <th>1</th>\n",
       "      <td>muttering i wanna die to myself daily for a fe...</td>\n",
       "      <td>1</td>\n",
       "    </tr>\n",
       "    <tr>\n",
       "      <th>2</th>\n",
       "      <td>work slave i really feel like my only purpose ...</td>\n",
       "      <td>1</td>\n",
       "    </tr>\n",
       "    <tr>\n",
       "      <th>3</th>\n",
       "      <td>i did something on the 2 of october i overdose...</td>\n",
       "      <td>1</td>\n",
       "    </tr>\n",
       "    <tr>\n",
       "      <th>4</th>\n",
       "      <td>i feel like no one cares i just want to die ma...</td>\n",
       "      <td>1</td>\n",
       "    </tr>\n",
       "  </tbody>\n",
       "</table>\n",
       "</div>"
      ],
      "text/plain": [
       "                                               tweet  intention\n",
       "0  my life is meaningless i just want to end my l...          1\n",
       "1  muttering i wanna die to myself daily for a fe...          1\n",
       "2  work slave i really feel like my only purpose ...          1\n",
       "3  i did something on the 2 of october i overdose...          1\n",
       "4  i feel like no one cares i just want to die ma...          1"
      ]
     },
     "execution_count": 3,
     "metadata": {},
     "output_type": "execute_result"
    }
   ],
   "source": [
    "# Load the dataset from the CSV file\n",
    "df = pd.read_csv(FILEPATH)\n",
    "\n",
    "# Display the first few rows of the dataframe\n",
    "df.head()"
   ]
  },
  {
   "cell_type": "code",
   "execution_count": 4,
   "metadata": {},
   "outputs": [
    {
     "name": "stdout",
     "output_type": "stream",
     "text": [
      "Length of Dataset: 9119\n",
      "Columns: Index(['tweet', 'intention'], dtype='object')\n"
     ]
    }
   ],
   "source": [
    "print(f\"Length of Dataset: {len(df)}\")\n",
    "print(f\"Columns: {df.columns}\")"
   ]
  },
  {
   "cell_type": "code",
   "execution_count": 5,
   "metadata": {},
   "outputs": [
    {
     "data": {
      "text/plain": [
       "(9119, 2)"
      ]
     },
     "execution_count": 5,
     "metadata": {},
     "output_type": "execute_result"
    }
   ],
   "source": [
    "df.shape"
   ]
  },
  {
   "cell_type": "markdown",
   "metadata": {},
   "source": [
    "There are 9119 records (i.e., posts) in this dataset, and each one is represented by 2 attributes."
   ]
  },
  {
   "cell_type": "code",
   "execution_count": 6,
   "metadata": {},
   "outputs": [
    {
     "name": "stdout",
     "output_type": "stream",
     "text": [
      "Unique Class: [1 0]\n"
     ]
    }
   ],
   "source": [
    "print(f\"Unique Class: {df['intention'].unique()}\")"
   ]
  },
  {
   "cell_type": "code",
   "execution_count": 7,
   "metadata": {},
   "outputs": [
    {
     "name": "stdout",
     "output_type": "stream",
     "text": [
      "Number of Records of Class 0: 5121\n",
      "Number of Records of Class 1: 3998\n"
     ]
    }
   ],
   "source": [
    "print(f\"Number of Records of Class 0: {len(df[df['intention'] == 0])}\")\n",
    "print(f\"Number of Records of Class 1: {len(df[df['intention'] == 1])}\")"
   ]
  },
  {
   "cell_type": "markdown",
   "metadata": {},
   "source": [
    "## Meaning of Each Class"
   ]
  },
  {
   "cell_type": "code",
   "execution_count": 8,
   "metadata": {},
   "outputs": [],
   "source": [
    "# Extract 10 records for each class\n",
    "df_class_0 = df[df['intention'] == 0].head(10)\n",
    "df_class_1 = df[df['intention'] == 1].head(10)"
   ]
  },
  {
   "cell_type": "code",
   "execution_count": 9,
   "metadata": {},
   "outputs": [
    {
     "data": {
      "application/vnd.microsoft.datawrangler.viewer.v0+json": {
       "columns": [
        {
         "name": "index",
         "rawType": "int64",
         "type": "integer"
        },
        {
         "name": "tweet",
         "rawType": "object",
         "type": "string"
        },
        {
         "name": "intention",
         "rawType": "int64",
         "type": "integer"
        }
       ],
       "conversionMethod": "pd.DataFrame",
       "ref": "f875eafe-0b77-4b8d-b7cf-48ccb70a9b57",
       "rows": [
        [
         "3325",
         " i wish i got to watch it with you i miss you and how was the premiere",
         "0"
        ],
        [
         "3326",
         " i want to go to promote gear and groove but unfornately no ride there i may b going to the one in anaheim in may though",
         "0"
        ],
        [
         "3327",
         "oh manwas ironing fave top to wear to a meeting burnt it ",
         "0"
        ],
        [
         "3328",
         "sadly though i ve never gotten to experience the post coitus cigarette before and now i never will ",
         "0"
        ],
        [
         "3329",
         "wonders why someone that u like so much can make you so unhappy in a split seccond depressed ",
         "0"
        ],
        [
         "3330",
         "strider is a sick little puppy ",
         "0"
        ],
        [
         "3331",
         "i m sooo sad they killed off kutner on house whyyyyyyyy",
         "0"
        ],
        [
         "3332",
         "this week just seems to get longer and longer in terms of how much i need to do and how much i m actually going to get done ",
         "0"
        ],
        [
         "3333",
         "was intending to finish editing my 536page novel manuscript tonight but that will probably not happen and only 12 pages are left ",
         "0"
        ],
        [
         "3334",
         "oh just got all my macheist 30 apps sweet didn t get the espresso serial no though although they said they sent it oh well ",
         "0"
        ]
       ],
       "shape": {
        "columns": 2,
        "rows": 10
       }
      },
      "text/html": [
       "<div>\n",
       "<style scoped>\n",
       "    .dataframe tbody tr th:only-of-type {\n",
       "        vertical-align: middle;\n",
       "    }\n",
       "\n",
       "    .dataframe tbody tr th {\n",
       "        vertical-align: top;\n",
       "    }\n",
       "\n",
       "    .dataframe thead th {\n",
       "        text-align: right;\n",
       "    }\n",
       "</style>\n",
       "<table border=\"1\" class=\"dataframe\">\n",
       "  <thead>\n",
       "    <tr style=\"text-align: right;\">\n",
       "      <th></th>\n",
       "      <th>tweet</th>\n",
       "      <th>intention</th>\n",
       "    </tr>\n",
       "  </thead>\n",
       "  <tbody>\n",
       "    <tr>\n",
       "      <th>3325</th>\n",
       "      <td>i wish i got to watch it with you i miss you ...</td>\n",
       "      <td>0</td>\n",
       "    </tr>\n",
       "    <tr>\n",
       "      <th>3326</th>\n",
       "      <td>i want to go to promote gear and groove but u...</td>\n",
       "      <td>0</td>\n",
       "    </tr>\n",
       "    <tr>\n",
       "      <th>3327</th>\n",
       "      <td>oh manwas ironing fave top to wear to a meetin...</td>\n",
       "      <td>0</td>\n",
       "    </tr>\n",
       "    <tr>\n",
       "      <th>3328</th>\n",
       "      <td>sadly though i ve never gotten to experience t...</td>\n",
       "      <td>0</td>\n",
       "    </tr>\n",
       "    <tr>\n",
       "      <th>3329</th>\n",
       "      <td>wonders why someone that u like so much can ma...</td>\n",
       "      <td>0</td>\n",
       "    </tr>\n",
       "    <tr>\n",
       "      <th>3330</th>\n",
       "      <td>strider is a sick little puppy</td>\n",
       "      <td>0</td>\n",
       "    </tr>\n",
       "    <tr>\n",
       "      <th>3331</th>\n",
       "      <td>i m sooo sad they killed off kutner on house w...</td>\n",
       "      <td>0</td>\n",
       "    </tr>\n",
       "    <tr>\n",
       "      <th>3332</th>\n",
       "      <td>this week just seems to get longer and longer ...</td>\n",
       "      <td>0</td>\n",
       "    </tr>\n",
       "    <tr>\n",
       "      <th>3333</th>\n",
       "      <td>was intending to finish editing my 536page nov...</td>\n",
       "      <td>0</td>\n",
       "    </tr>\n",
       "    <tr>\n",
       "      <th>3334</th>\n",
       "      <td>oh just got all my macheist 30 apps sweet didn...</td>\n",
       "      <td>0</td>\n",
       "    </tr>\n",
       "  </tbody>\n",
       "</table>\n",
       "</div>"
      ],
      "text/plain": [
       "                                                  tweet  intention\n",
       "3325   i wish i got to watch it with you i miss you ...          0\n",
       "3326   i want to go to promote gear and groove but u...          0\n",
       "3327  oh manwas ironing fave top to wear to a meetin...          0\n",
       "3328  sadly though i ve never gotten to experience t...          0\n",
       "3329  wonders why someone that u like so much can ma...          0\n",
       "3330                    strider is a sick little puppy           0\n",
       "3331  i m sooo sad they killed off kutner on house w...          0\n",
       "3332  this week just seems to get longer and longer ...          0\n",
       "3333  was intending to finish editing my 536page nov...          0\n",
       "3334  oh just got all my macheist 30 apps sweet didn...          0"
      ]
     },
     "execution_count": 9,
     "metadata": {},
     "output_type": "execute_result"
    }
   ],
   "source": [
    "df_class_0"
   ]
  },
  {
   "cell_type": "code",
   "execution_count": 10,
   "metadata": {},
   "outputs": [
    {
     "data": {
      "application/vnd.microsoft.datawrangler.viewer.v0+json": {
       "columns": [
        {
         "name": "index",
         "rawType": "int64",
         "type": "integer"
        },
        {
         "name": "tweet",
         "rawType": "object",
         "type": "string"
        },
        {
         "name": "intention",
         "rawType": "int64",
         "type": "integer"
        }
       ],
       "conversionMethod": "pd.DataFrame",
       "ref": "da514e31-6680-49c1-aeb0-889dd179729b",
       "rows": [
        [
         "0",
         "my life is meaningless i just want to end my life so badly my life is completely empty and i dont want to have to create meaning in it creating meaning is pain how long will i hold back the urge to run my car head first into the next person coming the opposite way when will i stop feeling jealous of tragic characters like gomer pile for the swift end they were able to bring to their lives",
         "1"
        ],
        [
         "1",
         "muttering i wanna die to myself daily for a few months now i feel worthless shes my soulmate i cant live in this horrible world without her i am so lonely i wish i could just turn off the part of my brain that feels ",
         "1"
        ],
        [
         "2",
         "work slave i really feel like my only purpose in life is to make a higher man money parents forcing me through college and i have too much on my plate i owe a lot of money i know this is the easy way out but i am really tired all of these issues are on top of dealing with tensions in america as well i want to rest",
         "1"
        ],
        [
         "3",
         "i did something on the 2 of october i overdosed i just felt so alone and horrible i was in hospital for two days now when i walk down the hallways of my school they always look at me weird and say i should take more pills and i hate it i have no one i have this voice in my head now and it wont go away and i cant be myself anymore thanks for reading",
         "1"
        ],
        [
         "4",
         "i feel like no one cares i just want to die maybe then i d feel less lonely",
         "1"
        ],
        [
         "5",
         "i am great and wonderful i am worth it except not enough to be anyones first choice everyone tells me how wonderful i am but not enough to be loved like i love others i put aside everything for people but i am too crazy to hold a job too nothing to be really loved i am not entitled and i dont even have the right to die on my own terms and i am an asshole for being angry about it for being upset that i am there when other people treat me like shit and cant be bothered wheni amhurt",
         "1"
        ],
        [
         "6",
         "i ll be dead just you wait and see my last words before my death for whoever is interestedi am sorry but youre better off without me youll learn to live without me it wont be difficult now i shall die ",
         "1"
        ],
        [
         "7",
         "health anxiety prompting some bad thoughts in my head i have been struggling for 2 months now with some health issues as a 26 year old male my pessimistic nature just makes me think about the worst my hands and feet are currently tingling and burning i just keep picturing myself on a wheelchair being a burden to my family girlfriend and so on suicide thoughts come to my mind as i prefer to put a sudden end to everything instead of deteriorating myself day after day losing motor and cognitive functions life is already hard as it is and now my health is failing for the first time ",
         "1"
        ],
        [
         "8",
         "everything is okay but nothing feels okay i ve always been a bit unhappy as a kid too i think although i can t remember much of my childhood i dont want to kill myself but sometimes that thought just comes creeping and it scares me a little a few weeks ago a problem came up it was a financial problem quite fixable but i just couldn t handle it i tied myself a noose and everything i was gonna do it i was all alone in the house with my dog so there was really no one that would be able to stop me i didnt do anything but i felt like i could have done it completely on impulse over a fixable problem leaving behind everything i love and my hopeful future i feel it now too creeping up on me everything should be fine but i cant help the feeling that i should just do it like everything would be easier for everyone if they would just realize how little they need me ",
         "1"
        ],
        [
         "9",
         "ptsd and alcohol i had some extremely horrible violent stuff happen to me a few years ago i was 21 nowi am26 i forgot about repressed it or whatever for several years something unrelated one day made me remember everything it all came flooding back into my mind and it was like i was reliving it all and felt like i was having a never ending panic attack for about 4 days this buried trauma explained a lot about why my alcohol pornography cigarette usages were all insanely high to the point they fucked up my life and relationships with people close to me in signifigant waysi amafraid to talk about what happened to anyone even people i trust like my family or a potential therapist due to extreme irrational paranoia about the people involved finding out and hurting me again and sometimesi amjust completely consumed by negative horrible thoughts and cant escape them i tried getting a sliding scale therapist a couple years ago and even t and gave up on the idea of therapy i dont know what to do i dont want to give up ",
         "1"
        ]
       ],
       "shape": {
        "columns": 2,
        "rows": 10
       }
      },
      "text/html": [
       "<div>\n",
       "<style scoped>\n",
       "    .dataframe tbody tr th:only-of-type {\n",
       "        vertical-align: middle;\n",
       "    }\n",
       "\n",
       "    .dataframe tbody tr th {\n",
       "        vertical-align: top;\n",
       "    }\n",
       "\n",
       "    .dataframe thead th {\n",
       "        text-align: right;\n",
       "    }\n",
       "</style>\n",
       "<table border=\"1\" class=\"dataframe\">\n",
       "  <thead>\n",
       "    <tr style=\"text-align: right;\">\n",
       "      <th></th>\n",
       "      <th>tweet</th>\n",
       "      <th>intention</th>\n",
       "    </tr>\n",
       "  </thead>\n",
       "  <tbody>\n",
       "    <tr>\n",
       "      <th>0</th>\n",
       "      <td>my life is meaningless i just want to end my l...</td>\n",
       "      <td>1</td>\n",
       "    </tr>\n",
       "    <tr>\n",
       "      <th>1</th>\n",
       "      <td>muttering i wanna die to myself daily for a fe...</td>\n",
       "      <td>1</td>\n",
       "    </tr>\n",
       "    <tr>\n",
       "      <th>2</th>\n",
       "      <td>work slave i really feel like my only purpose ...</td>\n",
       "      <td>1</td>\n",
       "    </tr>\n",
       "    <tr>\n",
       "      <th>3</th>\n",
       "      <td>i did something on the 2 of october i overdose...</td>\n",
       "      <td>1</td>\n",
       "    </tr>\n",
       "    <tr>\n",
       "      <th>4</th>\n",
       "      <td>i feel like no one cares i just want to die ma...</td>\n",
       "      <td>1</td>\n",
       "    </tr>\n",
       "    <tr>\n",
       "      <th>5</th>\n",
       "      <td>i am great and wonderful i am worth it except ...</td>\n",
       "      <td>1</td>\n",
       "    </tr>\n",
       "    <tr>\n",
       "      <th>6</th>\n",
       "      <td>i ll be dead just you wait and see my last wor...</td>\n",
       "      <td>1</td>\n",
       "    </tr>\n",
       "    <tr>\n",
       "      <th>7</th>\n",
       "      <td>health anxiety prompting some bad thoughts in ...</td>\n",
       "      <td>1</td>\n",
       "    </tr>\n",
       "    <tr>\n",
       "      <th>8</th>\n",
       "      <td>everything is okay but nothing feels okay i ve...</td>\n",
       "      <td>1</td>\n",
       "    </tr>\n",
       "    <tr>\n",
       "      <th>9</th>\n",
       "      <td>ptsd and alcohol i had some extremely horrible...</td>\n",
       "      <td>1</td>\n",
       "    </tr>\n",
       "  </tbody>\n",
       "</table>\n",
       "</div>"
      ],
      "text/plain": [
       "                                               tweet  intention\n",
       "0  my life is meaningless i just want to end my l...          1\n",
       "1  muttering i wanna die to myself daily for a fe...          1\n",
       "2  work slave i really feel like my only purpose ...          1\n",
       "3  i did something on the 2 of october i overdose...          1\n",
       "4  i feel like no one cares i just want to die ma...          1\n",
       "5  i am great and wonderful i am worth it except ...          1\n",
       "6  i ll be dead just you wait and see my last wor...          1\n",
       "7  health anxiety prompting some bad thoughts in ...          1\n",
       "8  everything is okay but nothing feels okay i ve...          1\n",
       "9  ptsd and alcohol i had some extremely horrible...          1"
      ]
     },
     "execution_count": 10,
     "metadata": {},
     "output_type": "execute_result"
    }
   ],
   "source": [
    "df_class_1"
   ]
  },
  {
   "cell_type": "markdown",
   "metadata": {},
   "source": [
    "Labels:\n",
    "* 0 = non-suicidal \n",
    "* 1 = suicidal"
   ]
  }
 ],
 "metadata": {
  "kernelspec": {
   "display_name": ".venv",
   "language": "python",
   "name": "python3"
  },
  "language_info": {
   "codemirror_mode": {
    "name": "ipython",
    "version": 3
   },
   "file_extension": ".py",
   "mimetype": "text/x-python",
   "name": "python",
   "nbconvert_exporter": "python",
   "pygments_lexer": "ipython3",
   "version": "3.10.7"
  }
 },
 "nbformat": 4,
 "nbformat_minor": 2
}

{
 "cells": [
  {
   "cell_type": "markdown",
   "id": "527eb7082f827dfd",
   "metadata": {},
   "source": [
    "## Imports & Data Loading\n",
    "* data handling (`numpy`)\n",
    "* model evaluation (`f1_score`, `ConfusionMatrixDisplay`)\n",
    "* classic ML algorithms (KNN, Logistic Regression, SVM, Decision Tree, Naïve Bayes)\n",
    "* imbalance handling (`SMOTEENN`)\n",
    "* plotting (`matplotlib`)."
   ]
  },
  {
   "cell_type": "code",
   "execution_count": 1,
   "id": "initial_id",
   "metadata": {
    "ExecuteTime": {
     "end_time": "2025-04-18T14:06:40.304814Z",
     "start_time": "2025-04-18T14:06:40.292080Z"
    }
   },
   "outputs": [],
   "source": [
    "import os\n",
    "import numpy as np\n",
    "import matplotlib.pyplot as plt\n",
    "from sklearn.metrics import f1_score, ConfusionMatrixDisplay\n",
    "from sklearn.neighbors import KNeighborsClassifier\n",
    "from sklearn.linear_model import LogisticRegression\n",
    "from sklearn.svm import SVC\n",
    "from sklearn.tree import DecisionTreeClassifier\n",
    "from sklearn.naive_bayes import GaussianNB\n",
    "from imblearn.combine import SMOTEENN\n",
    "from sklearn.model_selection import train_test_split"
   ]
  },
  {
   "cell_type": "markdown",
   "id": "7a6e763892933ab7",
   "metadata": {},
   "source": [
    "## Load Embeddings & Labels\n",
    "Load the pre‑computed 3 × 768 text embeddings for **title, content, hashtags**\n",
    "and their corresponding labels (`y_*`).\n",
    "All `.npy` files were generated earlier in the pipeline."
   ]
  },
  {
   "cell_type": "code",
   "execution_count": 2,
   "id": "4925dae35439a347",
   "metadata": {
    "ExecuteTime": {
     "end_time": "2025-04-18T13:35:21.158963Z",
     "start_time": "2025-04-18T13:35:20.976444Z"
    }
   },
   "outputs": [],
   "source": [
    "DATA_ROOT = os.path.realpath(os.path.join(os.path.dirname(os.curdir), '..', 'data'))\n",
    "DATASET_PATH = os.path.join(DATA_ROOT, 'Numpy Data')\n",
    "X_train = np.load(os.path.join(DATASET_PATH, 'Text', 'X_train_text.npy'))\n",
    "X_val = np.load(os.path.join(DATASET_PATH, 'Text', 'X_val_text.npy'))\n",
    "X_test = np.load(os.path.join(DATASET_PATH, 'Text', 'X_test_text.npy'))\n",
    "y_train = np.load(os.path.join(DATASET_PATH, 'y_train_text.npy'))\n",
    "y_val = np.load(os.path.join(DATASET_PATH, 'y_val_text.npy'))"
   ]
  },
  {
   "cell_type": "code",
   "execution_count": 3,
   "id": "aba154ae9abab379",
   "metadata": {
    "ExecuteTime": {
     "end_time": "2025-04-18T13:35:21.176861Z",
     "start_time": "2025-04-18T13:35:21.174231Z"
    }
   },
   "outputs": [
    {
     "name": "stdout",
     "output_type": "stream",
     "text": [
      "X_train shape: (9851, 3, 768)\n",
      "X_val shape: (100, 3, 768)\n",
      "X_test shape: (18679, 3, 768)\n",
      "y_train shape: (9851,)\n",
      "y_val shape: (100,)\n"
     ]
    }
   ],
   "source": [
    "# Inspect the data\n",
    "print(f\"X_train shape: {X_train.shape}\")\n",
    "print(f\"X_val shape: {X_val.shape}\")\n",
    "print(f\"X_test shape: {X_test.shape}\")\n",
    "print(f\"y_train shape: {y_train.shape}\")\n",
    "print(f\"y_val shape: {y_val.shape}\")"
   ]
  },
  {
   "cell_type": "markdown",
   "id": "983550313a07935f",
   "metadata": {},
   "source": [
    "## Merge, Re‑split, and Balance With SMOTEENN\n",
    "First concatenate the original training and validation sets, then create a fresh 80 / 20 split that keeps label proportions intact (`stratify`).\n",
    "Because the dataset is imbalanced, I pass the flattened embeddings through **SMOTEENN**, which oversamples the minority class (SMOTE) and removes noisy majority samples (ENN)."
   ]
  },
  {
   "cell_type": "code",
   "execution_count": 4,
   "id": "12dd4037941543f8",
   "metadata": {
    "ExecuteTime": {
     "end_time": "2025-04-18T13:35:21.267870Z",
     "start_time": "2025-04-18T13:35:21.209234Z"
    }
   },
   "outputs": [],
   "source": [
    "X_full  = np.concatenate([X_train, X_val])\n",
    "y_full  = np.concatenate([y_train, y_val])\n",
    "X_tr, X_va, y_tr, y_va = train_test_split(\n",
    "    X_full, y_full, test_size=0.2, stratify=y_full, random_state=42\n",
    ")"
   ]
  },
  {
   "cell_type": "code",
   "execution_count": 5,
   "id": "be28bbff28a4841b",
   "metadata": {
    "ExecuteTime": {
     "end_time": "2025-04-18T13:35:23.692479Z",
     "start_time": "2025-04-18T13:35:21.283210Z"
    }
   },
   "outputs": [],
   "source": [
    "sampler = SMOTEENN(random_state=42)\n",
    "X_train_resampled, y_train_resampled = sampler.fit_resample(X_tr.reshape(len(X_tr), -1), y_tr)\n",
    "X_val_resampled, y_val_resampled = sampler.fit_resample(X_va.reshape(len(X_va), -1), y_va)"
   ]
  },
  {
   "cell_type": "markdown",
   "id": "5c71f15532c8be85",
   "metadata": {},
   "source": [
    "## Define Baseline Model Zoo\n",
    "Create a dictionary of five classic ML models with mostly default hyper‑parameters."
   ]
  },
  {
   "cell_type": "code",
   "execution_count": 6,
   "id": "6b03ec488310911a",
   "metadata": {
    "ExecuteTime": {
     "end_time": "2025-04-18T14:07:47.673444Z",
     "start_time": "2025-04-18T14:07:47.662703Z"
    }
   },
   "outputs": [],
   "source": [
    "models = {\n",
    "    'KNN'              : KNeighborsClassifier(n_neighbors=5),\n",
    "    'LogisticRegression': LogisticRegression(max_iter=300, n_jobs=-1),\n",
    "    'SVM'              : SVC(kernel='rbf', probability=True),\n",
    "    'DecisionTree'     : DecisionTreeClassifier(random_state=42),\n",
    "    'NaiveBayes'       : GaussianNB()\n",
    "}"
   ]
  },
  {
   "cell_type": "markdown",
   "id": "520a6b993ac1a9e9",
   "metadata": {},
   "source": [
    "### Training Loop & Macro‑F1 Collection\n",
    "Fit each model on the **balanced** training set and evaluate it on the balanced validation set.\n",
    "The metric is **macro‑averaged F1**, which gives equal weight to each class regardless of prevalence."
   ]
  },
  {
   "cell_type": "code",
   "execution_count": 7,
   "id": "bc4d7c269586f946",
   "metadata": {},
   "outputs": [],
   "source": [
    "f1_scores = {}\n",
    "for name, clf in models.items():\n",
    "    clf.fit(X_train_resampled, y_train_resampled)\n",
    "    preds = clf.predict(X_val_resampled)\n",
    "    f1_scores[name] = f1_score(y_val_resampled, preds, average='macro')"
   ]
  },
  {
   "cell_type": "markdown",
   "id": "ecb3cc74dcbd9872",
   "metadata": {},
   "source": [
    "### Plot Baseline F1 Scores\n",
    "Visualise the macro‑F1 results for all five models.\n",
    "The numeric labels above each bar highlight exact values for quick comparison."
   ]
  },
  {
   "cell_type": "code",
   "execution_count": 8,
   "id": "b76e3508f80d406e",
   "metadata": {
    "ExecuteTime": {
     "end_time": "2025-04-18T14:03:41.756587Z",
     "start_time": "2025-04-18T14:03:41.616351Z"
    }
   },
   "outputs": [
    {
     "data": {
      "image/png": "[encoded data removed]",
      "text/plain": [
       "<Figure size 800x350 with 1 Axes>"
      ]
     },
     "metadata": {},
     "output_type": "display_data"
    }
   ],
   "source": [
    "plt.figure(figsize=(8,3.5))\n",
    "bars = plt.bar(f1_scores.keys(), f1_scores.values(), color='royalblue')\n",
    "plt.ylim(0,1); plt.ylabel('F1 Score'); plt.title('Baseline F1 Scores')\n",
    "for b in bars:\n",
    "    plt.text(b.get_x()+b.get_width()/2, b.get_height()+.01,\n",
    "             f'{b.get_height():.2f}', ha='center')\n",
    "plt.show()"
   ]
  },
  {
   "cell_type": "markdown",
   "id": "3583091ac3a5ba06",
   "metadata": {},
   "source": [
    "### Select Best Model & Show Confusion Matrix\n",
    "Pick the model with the highest validation F1, re‑fit it on **all** balanced training examples, and evaluate it on the untouched test set.\n",
    "The confusion matrix reveals class‑wise performance, making it easy to spot remaining false positives/negatives."
   ]
  },
  {
   "cell_type": "code",
   "execution_count": 9,
   "id": "c4c73a6c08c7c2b6",
   "metadata": {
    "ExecuteTime": {
     "end_time": "2025-04-18T14:06:05.057340Z",
     "start_time": "2025-04-18T14:06:02.319970Z"
    }
   },
   "outputs": [
    {
     "data": {
      "image/png": "[encoded data removed]",
      "text/plain": [
       "<Figure size 640x480 with 2 Axes>"
      ]
     },
     "metadata": {},
     "output_type": "display_data"
    }
   ],
   "source": [
    "best_name = max(f1_scores, key=f1_scores.get)\n",
    "best_clf  = models[best_name]\n",
    "best_clf.fit(X_train_resampled, y_train_resampled)\n",
    "y_pred = best_clf.predict(X_val_resampled)\n",
    "# Save Predictions\n",
    "np.save('Results/baseline_y_pred.npy', y_pred)\n",
    "# Write to a JSON file\n",
    "# Confusion Matrix\n",
    "ConfusionMatrixDisplay.from_predictions(\n",
    "    y_true=y_val_resampled,\n",
    "    y_pred=y_pred, cmap='viridis',\n",
    "    display_labels=['Fake','Legitimate'],\n",
    "    values_format='d'\n",
    ")\n",
    "plt.title(f'Confusion Matrix: {best_name}')\n",
    "plt.show()"
   ]
  },
  {
   "cell_type": "markdown",
   "id": "c8c3a1918fa8ae71",
   "metadata": {},
   "source": [
    "## Persist the Best Model to Disk\n",
    "Serialise (`joblib.dump`) the best‑performing model to a `.pkl` file so it can be loaded later for inference or further tuning."
   ]
  },
  {
   "cell_type": "code",
   "execution_count": 10,
   "id": "5d3514963904cf9f",
   "metadata": {
    "ExecuteTime": {
     "end_time": "2025-04-18T14:13:20.871251Z",
     "start_time": "2025-04-18T14:13:20.853Z"
    }
   },
   "outputs": [
    {
     "name": "stdout",
     "output_type": "stream",
     "text": [
      "Saved LogisticRegression to →  .\\models\\best_baseline_model_LogisticRegression.h5\n"
     ]
    }
   ],
   "source": [
    "import joblib\n",
    "\n",
    "model_path = os.path.join(os.curdir, 'models', f'best_baseline_model_{best_name}.h5')\n",
    "joblib.dump(best_clf, model_path)\n",
    "print(f'Saved {best_name} to →  {model_path}')"
   ]
  },
  {
   "cell_type": "markdown",
   "id": "8dfe2da9",
   "metadata": {},
   "source": [
    "## Evaluation on Test Set"
   ]
  },
  {
   "cell_type": "code",
   "execution_count": 11,
   "id": "b3b274e8",
   "metadata": {},
   "outputs": [
    {
     "name": "stdout",
     "output_type": "stream",
     "text": [
      "Number of records: 18679\n"
     ]
    }
   ],
   "source": [
    "import pandas as pd\n",
    "if not os.path.exists(\"Results\"):\n",
    "    os.makedirs(\"Results\")\n",
    "# Load original test data (raw text)\n",
    "TEST_DATA_PATH = os.path.join(DATA_ROOT, 'Depression_Tweets')\n",
    "test_data = pd.read_json(os.path.join(TEST_DATA_PATH, 'depression_json'))\n",
    "print(f\"Number of records: {len(test_data)}\")"
   ]
  },
  {
   "cell_type": "code",
   "execution_count": 12,
   "id": "ed711a67",
   "metadata": {},
   "outputs": [
    {
     "name": "stdout",
     "output_type": "stream",
     "text": [
      "Shape of y_pred_test: (18679,)\n"
     ]
    }
   ],
   "source": [
    "y_pred_test = best_clf.predict(X_test.reshape(len(X_test), -1))\n",
    "print(f\"Shape of y_pred_test: {y_pred_test.shape}\")"
   ]
  },
  {
   "cell_type": "code",
   "execution_count": 15,
   "id": "d3d0856d",
   "metadata": {},
   "outputs": [
    {
     "name": "stdout",
     "output_type": "stream",
     "text": [
      "Results saved to Results\\Result_baseline_logistic_regression.jsonl\n"
     ]
    }
   ],
   "source": [
    "import json\n",
    "# Prepare results in the desired format\n",
    "results = []\n",
    "for idx, (text, label) in enumerate(zip(test_data['content'], y_pred_test)):\n",
    "    results.append({\n",
    "        \"id\": idx,\n",
    "        \"predicted_label\": int(label),\n",
    "        \"raw_text\": text\n",
    "    })\n",
    "\n",
    "# Define the output file path\n",
    "output_file_path = os.path.join(\"Results\", \"Result_baseline_logistic_regression.jsonl\")\n",
    "\n",
    "# Save the results to a JSONL file\n",
    "with open(output_file_path, \"w\") as jsonl_file:\n",
    "    for record in results:\n",
    "        jsonl_file.write(json.dumps(record) + \"\\n\")\n",
    "\n",
    "print(f\"Results saved to {output_file_path}\")\n"
   ]
  }
 ],
 "metadata": {
  "kernelspec": {
   "display_name": "project-venv",
   "language": "python",
   "name": "python3"
  },
  "language_info": {
   "codemirror_mode": {
    "name": "ipython",
    "version": 3
   },
   "file_extension": ".py",
   "mimetype": "text/x-python",
   "name": "python",
   "nbconvert_exporter": "python",
   "pygments_lexer": "ipython3",
   "version": "3.10.7"
  }
 },
 "nbformat": 4,
 "nbformat_minor": 5
}

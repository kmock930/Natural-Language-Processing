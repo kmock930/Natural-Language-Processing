{
 "cells": [
  {
   "cell_type": "markdown",
   "metadata": {},
   "source": [
    "# Training a Classifier based on deep learning"
   ]
  },
  {
   "cell_type": "markdown",
   "metadata": {},
   "source": [
    "## Import necessary dependencies and data"
   ]
  },
  {
   "cell_type": "code",
   "execution_count": 1,
   "metadata": {},
   "outputs": [
    {
     "name": "stderr",
     "output_type": "stream",
     "text": [
      "c:\\Data\\Canada\\Study\\masters\\CSI 5386 - Natural Language Processing\\Natural-Language-Processing\\project-venv\\lib\\site-packages\\tqdm\\auto.py:21: TqdmWarning: IProgress not found. Please update jupyter and ipywidgets. See https://ipywidgets.readthedocs.io/en/stable/user_install.html\n",
      "  from .autonotebook import tqdm as notebook_tqdm\n"
     ]
    },
    {
     "name": "stdout",
     "output_type": "stream",
     "text": [
      "WARNING:tensorflow:From c:\\Data\\Canada\\Study\\masters\\CSI 5386 - Natural Language Processing\\Natural-Language-Processing\\project-venv\\lib\\site-packages\\tf_keras\\src\\losses.py:2976: The name tf.losses.sparse_softmax_cross_entropy is deprecated. Please use tf.compat.v1.losses.sparse_softmax_cross_entropy instead.\n",
      "\n"
     ]
    }
   ],
   "source": [
    "import os\n",
    "import tensorflow as tf\n",
    "from keras_tuner import Hyperband\n",
    "import numpy as np\n",
    "from transformers import TFDistilBertForSequenceClassification # DistilBERT with Classification Head\n",
    "import keras_tuner\n",
    "from tensorflow.keras.models import Model  # tf.keras, not standalone keras\n",
    "import matplotlib.pyplot as plt\n",
    "from imblearn.combine import SMOTEENN\n",
    "from sklearn.model_selection import train_test_split\n",
    "from sklearn.model_selection import KFold # cross validation"
   ]
  },
  {
   "cell_type": "code",
   "execution_count": 2,
   "metadata": {},
   "outputs": [],
   "source": [
    "DATA_ROOT = os.path.realpath(os.path.join(os.path.dirname(os.curdir), '..', 'data'))\n",
    "DATASET_PATH = os.path.join(DATA_ROOT, 'Numpy Data')\n",
    "X_train = np.load(os.path.join(DATASET_PATH, 'Text', 'X_train_text.npy'))\n",
    "X_val = np.load(os.path.join(DATASET_PATH, 'Text', 'X_val_text.npy'))\n",
    "X_test = np.load(os.path.join(DATASET_PATH, 'Text', 'X_test_text.npy'))\n",
    "y_train = np.load(os.path.join(DATASET_PATH, 'y_train_text.npy'))\n",
    "y_val = np.load(os.path.join(DATASET_PATH, 'y_val_text.npy'))"
   ]
  },
  {
   "cell_type": "code",
   "execution_count": 3,
   "metadata": {},
   "outputs": [
    {
     "name": "stdout",
     "output_type": "stream",
     "text": [
      "X_train shape: (9851, 3, 768)\n",
      "X_val shape: (100, 3, 768)\n",
      "X_test shape: (18679, 3, 768)\n",
      "y_train shape: (9851,)\n",
      "y_val shape: (100,)\n"
     ]
    }
   ],
   "source": [
    "# Inspect the data\n",
    "print(f\"X_train shape: {X_train.shape}\")\n",
    "print(f\"X_val shape: {X_val.shape}\")\n",
    "print(f\"X_test shape: {X_test.shape}\")\n",
    "print(f\"y_train shape: {y_train.shape}\")\n",
    "print(f\"y_val shape: {y_val.shape}\")"
   ]
  },
  {
   "cell_type": "markdown",
   "metadata": {},
   "source": [
    "## Observe Class Distributions"
   ]
  },
  {
   "cell_type": "code",
   "execution_count": 4,
   "metadata": {},
   "outputs": [
    {
     "name": "stdout",
     "output_type": "stream",
     "text": [
      "Class distribution in y_train:\n",
      "Class 0: 5852 samples\n",
      "Class 1: 3999 samples\n",
      "\n",
      "Class distribution in y_val:\n",
      "Class 1: 100 samples\n"
     ]
    }
   ],
   "source": [
    "# Observe class distributions in training and validation sets\n",
    "unique_train, counts_train = np.unique(y_train, return_counts=True)\n",
    "unique_val, counts_val = np.unique(y_val, return_counts=True)\n",
    "\n",
    "print(\"Class distribution in y_train:\")\n",
    "for cls, count in zip(unique_train, counts_train):\n",
    "    print(f\"Class {cls}: {count} samples\")\n",
    "\n",
    "print(\"\\nClass distribution in y_val:\")\n",
    "for cls, count in zip(unique_val, counts_val):\n",
    "    print(f\"Class {cls}: {count} samples\")"
   ]
  },
  {
   "cell_type": "markdown",
   "metadata": {},
   "source": [
    "We can see the class imbalance issue in both the training and validation set. Hence, we will perform a sampling technique - SMOTENN, which is a combination of undersampling and oversampling."
   ]
  },
  {
   "cell_type": "code",
   "execution_count": 5,
   "metadata": {},
   "outputs": [
    {
     "name": "stdout",
     "output_type": "stream",
     "text": [
      "Resampled X_train shape: (6544, 2304)\n",
      "Resampled y_train shape: (6544,)\n",
      "\n",
      "Class distribution in resampled y_train:\n",
      "Class 0: 2243 samples\n",
      "Class 1: 4301 samples\n",
      "\n",
      "Class distribution in y_val:\n",
      "Class 0: 1171 samples\n",
      "Class 1: 820 samples\n",
      "Resampled X_train shape: (6544, 3, 768)\n",
      "Resampled y_train shape: (6544,)\n",
      "Resampled X_val shape: (1595, 3, 768)\n",
      "Resampled y_val shape: (1595,)\n"
     ]
    }
   ],
   "source": [
    "# Since the validation set only has 1 class, we perform a random train-test-split\n",
    "X_train, X_val, y_train, y_val = train_test_split(\n",
    "    np.concatenate((X_train, X_val), axis=0), \n",
    "    np.concatenate((y_train, y_val), axis=0), \n",
    "    test_size=0.2, \n",
    "    random_state=42, \n",
    "    stratify=np.concatenate((y_train, y_val), axis=0)\n",
    ")\n",
    "\n",
    "# SMOTENN\n",
    "sampling = SMOTEENN(random_state=42, sampling_strategy='auto')\n",
    "X_train_flattened = X_train.reshape((X_train.shape[0], -1)) \n",
    "X_train_resampled, y_train_resampled = sampling.fit_resample(X_train_flattened, y_train)\n",
    "X_val_flattened = X_val.reshape((X_val.shape[0], -1)) \n",
    "X_val_resampled, y_val_resampled = sampling.fit_resample(X_val_flattened, y_val)\n",
    "# Inspect the resampled data\n",
    "print(f\"Resampled X_train shape: {X_train_resampled.shape}\")\n",
    "print(f\"Resampled y_train shape: {y_train_resampled.shape}\")\n",
    "# Inspect as well the class distribution again\n",
    "unique_train_resampled, counts_train_resampled = np.unique(y_train_resampled, return_counts=True)\n",
    "print(\"\\nClass distribution in resampled y_train:\")\n",
    "for cls, count in zip(unique_train_resampled, counts_train_resampled):\n",
    "    print(f\"Class {cls}: {count} samples\")\n",
    "unique_val_resampled, counts_val_resampled = np.unique(y_val, return_counts=True)\n",
    "print(\"\\nClass distribution in y_val:\")\n",
    "for cls, count in zip(unique_val_resampled, counts_val_resampled):\n",
    "    print(f\"Class {cls}: {count} samples\")\n",
    "# Restore the shape of X_train_resampled\n",
    "X_train_resampled = X_train_resampled.reshape((-1, 3, 768))\n",
    "X_val_resampled = X_val_resampled.reshape((-1, 3, 768))\n",
    "# Check shapes - ensuring (n, 3, 768)\n",
    "print(f\"Resampled X_train shape: {X_train_resampled.shape}\")\n",
    "print(f\"Resampled y_train shape: {y_train_resampled.shape}\")\n",
    "print(f\"Resampled X_val shape: {X_val_resampled.shape}\")\n",
    "print(f\"Resampled y_val shape: {y_val_resampled.shape}\")"
   ]
  },
  {
   "cell_type": "markdown",
   "metadata": {},
   "source": [
    "## Train a Customized Deep Learning based model"
   ]
  },
  {
   "cell_type": "code",
   "execution_count": 6,
   "metadata": {},
   "outputs": [],
   "source": [
    "EPOCHS = 30"
   ]
  },
  {
   "cell_type": "code",
   "execution_count": 7,
   "metadata": {},
   "outputs": [],
   "source": [
    "# ValueError: Layer \"functional\" expects 3 input(s), but it received 1 input tensors. Inputs received: [<tf.Tensor 'data:0' shape=(None, 3, 768) dtype=float32>]\n",
    "\n",
    "def build_model(hp):\n",
    "    # 3 separate inputs\n",
    "    input_title = tf.keras.Input(shape=(1, 768), name=\"title_embedding\")\n",
    "    input_content = tf.keras.Input(shape=(1, 768), name=\"content_embedding\")\n",
    "    input_hashtags = tf.keras.Input(shape=(1, 768), name=\"hashtags_embedding\")\n",
    "\n",
    "    # Bidirectional LSTM layers\n",
    "    x1 = tf.keras.layers.Bidirectional(\n",
    "        tf.keras.layers.LSTM(\n",
    "            units=hp.Int(\"lstm_units\", min_value=64, max_value=256, step=64),\n",
    "            return_sequences=False\n",
    "        )\n",
    "    )(input_title)\n",
    "    x2 = tf.keras.layers.Bidirectional(\n",
    "        tf.keras.layers.LSTM(\n",
    "            units=hp.Int(\"lstm_units\", min_value=64, max_value=256, step=64),\n",
    "            return_sequences=False\n",
    "        )\n",
    "    )(input_content)\n",
    "    x3 = tf.keras.layers.Bidirectional(\n",
    "        tf.keras.layers.LSTM(\n",
    "            units=hp.Int(\"lstm_units\", min_value=64, max_value=256, step=64),\n",
    "            return_sequences=False\n",
    "        )\n",
    "    )(input_hashtags)\n",
    "\n",
    "    # Dropout layers\n",
    "    x1 = tf.keras.layers.Dropout(\n",
    "        rate=hp.Float(\"dropout\", 0.1, 0.5, step=0.1)\n",
    "    )(x1)\n",
    "    x2 = tf.keras.layers.Dropout(\n",
    "        rate=hp.Float(\"dropout\", 0.1, 0.5, step=0.1)\n",
    "    )(x2)\n",
    "    x3 = tf.keras.layers.Dropout(\n",
    "        rate=hp.Float(\"dropout\", 0.1, 0.5, step=0.1)\n",
    "    )(x3)\n",
    "\n",
    "    # Dense layers\n",
    "    x1 = tf.keras.layers.Dense(\n",
    "        units=hp.Int(\"dense_units\", 32, 256, step=32),\n",
    "        activation=\"relu\"\n",
    "    )(x1)\n",
    "    x2 = tf.keras.layers.Dense(\n",
    "        units=hp.Int(\"dense_units\", 32, 256, step=32),\n",
    "        activation=\"relu\"\n",
    "    )(x2)\n",
    "    x3 = tf.keras.layers.Dense(\n",
    "        units=hp.Int(\"dense_units\", 32, 256, step=32),\n",
    "        activation=\"relu\"\n",
    "    )(x3)\n",
    "\n",
    "    # merge layers\n",
    "    merged = tf.keras.layers.Concatenate()([x1, x2, x3])\n",
    "\n",
    "    # output layer\n",
    "    output = tf.keras.layers.Dense(1, activation=\"sigmoid\")(merged)\n",
    "\n",
    "    distilbert_output = input_title  # Assuming input_title is already vectorized with DistilBERT\n",
    "    distilbert_output = tf.keras.layers.GlobalAveragePooling1D()(distilbert_output)\n",
    "    merged = tf.keras.layers.Concatenate()([distilbert_output, x1, x2, x3])\n",
    "\n",
    "    # Define the final output layer\n",
    "    output = tf.keras.layers.Dense(1, activation=\"sigmoid\")(merged)\n",
    "\n",
    "    # Create the final model\n",
    "    model = tf.keras.Model(inputs=[input_title, input_content, input_hashtags], outputs=output)\n",
    "\n",
    "    model.compile(\n",
    "        optimizer=tf.keras.optimizers.Adam(\n",
    "            learning_rate=hp.Float(\"learning_rate\", 1e-5, 1e-3, sampling=\"LOG\")\n",
    "        ),\n",
    "        loss=\"binary_crossentropy\",\n",
    "        metrics=[\"accuracy\"]\n",
    "    )\n",
    "\n",
    "    return model"
   ]
  },
  {
   "cell_type": "code",
   "execution_count": 8,
   "metadata": {},
   "outputs": [],
   "source": [
    "# Split the inputs into separate arrays for title, content, and hashtags\n",
    "X_train_title = X_train[:, 0, :].reshape(-1, 1, 768)\n",
    "X_train_content = X_train[:, 1, :].reshape(-1, 1, 768)\n",
    "X_train_hashtags = X_train[:, 2, :].reshape(-1, 1, 768)\n",
    "\n",
    "X_val_title = X_val[:, 0, :].reshape(-1, 1, 768)\n",
    "X_val_content = X_val[:, 1, :].reshape(-1, 1, 768)\n",
    "X_val_hashtags = X_val[:, 2, :].reshape(-1, 1, 768)"
   ]
  },
  {
   "cell_type": "code",
   "execution_count": 9,
   "metadata": {},
   "outputs": [
    {
     "name": "stdout",
     "output_type": "stream",
     "text": [
      "Trial 84 Complete [00h 01m 26s]\n",
      "val_accuracy: 0.930185854434967\n",
      "\n",
      "Best val_accuracy So Far: 0.9316926002502441\n",
      "Total elapsed time: 01h 18m 23s\n",
      "\n",
      " Fold 2\n",
      "Reloading Tuner from models\\model_2_deep_learning_distilBERT_pretrained_tuned\\tuner0.json\n",
      "\n",
      " Fold 3\n",
      "Reloading Tuner from models\\model_2_deep_learning_distilBERT_pretrained_tuned\\tuner0.json\n",
      "\n",
      " Fold 4\n",
      "Reloading Tuner from models\\model_2_deep_learning_distilBERT_pretrained_tuned\\tuner0.json\n",
      "\n",
      " Fold 3\n",
      "Reloading Tuner from models\\model_2_deep_learning_distilBERT_pretrained_tuned\\tuner0.json\n",
      "\n",
      " Fold 4\n",
      "Reloading Tuner from models\\model_2_deep_learning_distilBERT_pretrained_tuned\\tuner0.json\n",
      "\n",
      " Fold 5\n",
      "Reloading Tuner from models\\model_2_deep_learning_distilBERT_pretrained_tuned\\tuner0.json\n",
      "\n",
      " Fold 5\n",
      "Reloading Tuner from models\\model_2_deep_learning_distilBERT_pretrained_tuned\\tuner0.json\n"
     ]
    }
   ],
   "source": [
    "# cross validation\n",
    "kf = KFold(n_splits=5, shuffle=True, random_state=42)\n",
    "\n",
    "texts = np.concatenate((X_train, X_val), axis=0)\n",
    "labels = np.array(np.concatenate((y_train, y_val), axis=0))\n",
    "\n",
    "for fold, (train_idx, val_idx) in enumerate(kf.split(texts)):\n",
    "    print(f\"\\n Fold {fold+1}\")\n",
    "\n",
    "    # Hyperparameter Tuning\n",
    "    tuner = Hyperband(\n",
    "        build_model,\n",
    "        objective='val_accuracy',\n",
    "        max_epochs=EPOCHS,\n",
    "        directory='models',\n",
    "        project_name='model_2_deep_learning_distilBERT_pretrained_tuned'\n",
    "    )\n",
    "\n",
    "    # Monkey patch to bypass incompatible Keras model check\n",
    "    def patched_validate_trial_model(self, model):\n",
    "        if not isinstance(model, Model):\n",
    "            print(\"⚠️ Model is not tf.keras.Model — bypassing check anyway\")\n",
    "            return\n",
    "        return\n",
    "\n",
    "    keras_tuner.engine.trial.Trial._validate_trial_model = patched_validate_trial_model\n",
    "\n",
    "    # Pass the 3 separate inputs in tuner.search\n",
    "    tuner.search(\n",
    "        [X_train_title, X_train_content, X_train_hashtags],\n",
    "        y_train,\n",
    "        validation_data=([X_val_title, X_val_content, X_val_hashtags], y_val),\n",
    "        epochs=EPOCHS\n",
    "    )"
   ]
  },
  {
   "cell_type": "code",
   "execution_count": 10,
   "metadata": {},
   "outputs": [],
   "source": [
    "# Record the best hyperparameters\n",
    "best_hp = tuner.get_best_hyperparameters(1)[0]"
   ]
  },
  {
   "cell_type": "code",
   "execution_count": 11,
   "metadata": {},
   "outputs": [],
   "source": [
    "# Rebuild the model with the best hyperparameters\n",
    "model = build_model(best_hp)"
   ]
  },
  {
   "cell_type": "code",
   "execution_count": 12,
   "metadata": {},
   "outputs": [
    {
     "data": {
      "text/html": [
       "<pre style=\"white-space:pre;overflow-x:auto;line-height:normal;font-family:Menlo,'DejaVu Sans Mono',consolas,'Courier New',monospace\"><span style=\"font-weight: bold\">Model: \"functional_1\"</span>\n",
       "</pre>\n"
      ],
      "text/plain": [
       "\u001b[1mModel: \"functional_1\"\u001b[0m\n"
      ]
     },
     "metadata": {},
     "output_type": "display_data"
    },
    {
     "data": {
      "text/html": [
       "<pre style=\"white-space:pre;overflow-x:auto;line-height:normal;font-family:Menlo,'DejaVu Sans Mono',consolas,'Courier New',monospace\">┏━━━━━━━━━━━━━━━━━━━━━┳━━━━━━━━━━━━━━━━━━━┳━━━━━━━━━━━━┳━━━━━━━━━━━━━━━━━━━┓\n",
       "┃<span style=\"font-weight: bold\"> Layer (type)        </span>┃<span style=\"font-weight: bold\"> Output Shape      </span>┃<span style=\"font-weight: bold\">    Param # </span>┃<span style=\"font-weight: bold\"> Connected to      </span>┃\n",
       "┡━━━━━━━━━━━━━━━━━━━━━╇━━━━━━━━━━━━━━━━━━━╇━━━━━━━━━━━━╇━━━━━━━━━━━━━━━━━━━┩\n",
       "│ title_embedding     │ (<span style=\"color: #00d7ff; text-decoration-color: #00d7ff\">None</span>, <span style=\"color: #00af00; text-decoration-color: #00af00\">1</span>, <span style=\"color: #00af00; text-decoration-color: #00af00\">768</span>)    │          <span style=\"color: #00af00; text-decoration-color: #00af00\">0</span> │ -                 │\n",
       "│ (<span style=\"color: #0087ff; text-decoration-color: #0087ff\">InputLayer</span>)        │                   │            │                   │\n",
       "├─────────────────────┼───────────────────┼────────────┼───────────────────┤\n",
       "│ content_embedding   │ (<span style=\"color: #00d7ff; text-decoration-color: #00d7ff\">None</span>, <span style=\"color: #00af00; text-decoration-color: #00af00\">1</span>, <span style=\"color: #00af00; text-decoration-color: #00af00\">768</span>)    │          <span style=\"color: #00af00; text-decoration-color: #00af00\">0</span> │ -                 │\n",
       "│ (<span style=\"color: #0087ff; text-decoration-color: #0087ff\">InputLayer</span>)        │                   │            │                   │\n",
       "├─────────────────────┼───────────────────┼────────────┼───────────────────┤\n",
       "│ hashtags_embedding  │ (<span style=\"color: #00d7ff; text-decoration-color: #00d7ff\">None</span>, <span style=\"color: #00af00; text-decoration-color: #00af00\">1</span>, <span style=\"color: #00af00; text-decoration-color: #00af00\">768</span>)    │          <span style=\"color: #00af00; text-decoration-color: #00af00\">0</span> │ -                 │\n",
       "│ (<span style=\"color: #0087ff; text-decoration-color: #0087ff\">InputLayer</span>)        │                   │            │                   │\n",
       "├─────────────────────┼───────────────────┼────────────┼───────────────────┤\n",
       "│ bidirectional_3     │ (<span style=\"color: #00d7ff; text-decoration-color: #00d7ff\">None</span>, <span style=\"color: #00af00; text-decoration-color: #00af00\">128</span>)       │    <span style=\"color: #00af00; text-decoration-color: #00af00\">426,496</span> │ title_embedding[<span style=\"color: #00af00; text-decoration-color: #00af00\">…</span> │\n",
       "│ (<span style=\"color: #0087ff; text-decoration-color: #0087ff\">Bidirectional</span>)     │                   │            │                   │\n",
       "├─────────────────────┼───────────────────┼────────────┼───────────────────┤\n",
       "│ bidirectional_4     │ (<span style=\"color: #00d7ff; text-decoration-color: #00d7ff\">None</span>, <span style=\"color: #00af00; text-decoration-color: #00af00\">128</span>)       │    <span style=\"color: #00af00; text-decoration-color: #00af00\">426,496</span> │ content_embeddin… │\n",
       "│ (<span style=\"color: #0087ff; text-decoration-color: #0087ff\">Bidirectional</span>)     │                   │            │                   │\n",
       "├─────────────────────┼───────────────────┼────────────┼───────────────────┤\n",
       "│ bidirectional_5     │ (<span style=\"color: #00d7ff; text-decoration-color: #00d7ff\">None</span>, <span style=\"color: #00af00; text-decoration-color: #00af00\">128</span>)       │    <span style=\"color: #00af00; text-decoration-color: #00af00\">426,496</span> │ hashtags_embeddi… │\n",
       "│ (<span style=\"color: #0087ff; text-decoration-color: #0087ff\">Bidirectional</span>)     │                   │            │                   │\n",
       "├─────────────────────┼───────────────────┼────────────┼───────────────────┤\n",
       "│ dropout_3 (<span style=\"color: #0087ff; text-decoration-color: #0087ff\">Dropout</span>) │ (<span style=\"color: #00d7ff; text-decoration-color: #00d7ff\">None</span>, <span style=\"color: #00af00; text-decoration-color: #00af00\">128</span>)       │          <span style=\"color: #00af00; text-decoration-color: #00af00\">0</span> │ bidirectional_3[<span style=\"color: #00af00; text-decoration-color: #00af00\">…</span> │\n",
       "├─────────────────────┼───────────────────┼────────────┼───────────────────┤\n",
       "│ dropout_4 (<span style=\"color: #0087ff; text-decoration-color: #0087ff\">Dropout</span>) │ (<span style=\"color: #00d7ff; text-decoration-color: #00d7ff\">None</span>, <span style=\"color: #00af00; text-decoration-color: #00af00\">128</span>)       │          <span style=\"color: #00af00; text-decoration-color: #00af00\">0</span> │ bidirectional_4[<span style=\"color: #00af00; text-decoration-color: #00af00\">…</span> │\n",
       "├─────────────────────┼───────────────────┼────────────┼───────────────────┤\n",
       "│ dropout_5 (<span style=\"color: #0087ff; text-decoration-color: #0087ff\">Dropout</span>) │ (<span style=\"color: #00d7ff; text-decoration-color: #00d7ff\">None</span>, <span style=\"color: #00af00; text-decoration-color: #00af00\">128</span>)       │          <span style=\"color: #00af00; text-decoration-color: #00af00\">0</span> │ bidirectional_5[<span style=\"color: #00af00; text-decoration-color: #00af00\">…</span> │\n",
       "├─────────────────────┼───────────────────┼────────────┼───────────────────┤\n",
       "│ global_average_poo… │ (<span style=\"color: #00d7ff; text-decoration-color: #00d7ff\">None</span>, <span style=\"color: #00af00; text-decoration-color: #00af00\">768</span>)       │          <span style=\"color: #00af00; text-decoration-color: #00af00\">0</span> │ title_embedding[<span style=\"color: #00af00; text-decoration-color: #00af00\">…</span> │\n",
       "│ (<span style=\"color: #0087ff; text-decoration-color: #0087ff\">GlobalAveragePool…</span> │                   │            │                   │\n",
       "├─────────────────────┼───────────────────┼────────────┼───────────────────┤\n",
       "│ dense_5 (<span style=\"color: #0087ff; text-decoration-color: #0087ff\">Dense</span>)     │ (<span style=\"color: #00d7ff; text-decoration-color: #00d7ff\">None</span>, <span style=\"color: #00af00; text-decoration-color: #00af00\">224</span>)       │     <span style=\"color: #00af00; text-decoration-color: #00af00\">28,896</span> │ dropout_3[<span style=\"color: #00af00; text-decoration-color: #00af00\">0</span>][<span style=\"color: #00af00; text-decoration-color: #00af00\">0</span>]   │\n",
       "├─────────────────────┼───────────────────┼────────────┼───────────────────┤\n",
       "│ dense_6 (<span style=\"color: #0087ff; text-decoration-color: #0087ff\">Dense</span>)     │ (<span style=\"color: #00d7ff; text-decoration-color: #00d7ff\">None</span>, <span style=\"color: #00af00; text-decoration-color: #00af00\">224</span>)       │     <span style=\"color: #00af00; text-decoration-color: #00af00\">28,896</span> │ dropout_4[<span style=\"color: #00af00; text-decoration-color: #00af00\">0</span>][<span style=\"color: #00af00; text-decoration-color: #00af00\">0</span>]   │\n",
       "├─────────────────────┼───────────────────┼────────────┼───────────────────┤\n",
       "│ dense_7 (<span style=\"color: #0087ff; text-decoration-color: #0087ff\">Dense</span>)     │ (<span style=\"color: #00d7ff; text-decoration-color: #00d7ff\">None</span>, <span style=\"color: #00af00; text-decoration-color: #00af00\">224</span>)       │     <span style=\"color: #00af00; text-decoration-color: #00af00\">28,896</span> │ dropout_5[<span style=\"color: #00af00; text-decoration-color: #00af00\">0</span>][<span style=\"color: #00af00; text-decoration-color: #00af00\">0</span>]   │\n",
       "├─────────────────────┼───────────────────┼────────────┼───────────────────┤\n",
       "│ concatenate_3       │ (<span style=\"color: #00d7ff; text-decoration-color: #00d7ff\">None</span>, <span style=\"color: #00af00; text-decoration-color: #00af00\">1440</span>)      │          <span style=\"color: #00af00; text-decoration-color: #00af00\">0</span> │ global_average_p… │\n",
       "│ (<span style=\"color: #0087ff; text-decoration-color: #0087ff\">Concatenate</span>)       │                   │            │ dense_5[<span style=\"color: #00af00; text-decoration-color: #00af00\">0</span>][<span style=\"color: #00af00; text-decoration-color: #00af00\">0</span>],    │\n",
       "│                     │                   │            │ dense_6[<span style=\"color: #00af00; text-decoration-color: #00af00\">0</span>][<span style=\"color: #00af00; text-decoration-color: #00af00\">0</span>],    │\n",
       "│                     │                   │            │ dense_7[<span style=\"color: #00af00; text-decoration-color: #00af00\">0</span>][<span style=\"color: #00af00; text-decoration-color: #00af00\">0</span>]     │\n",
       "├─────────────────────┼───────────────────┼────────────┼───────────────────┤\n",
       "│ dense_9 (<span style=\"color: #0087ff; text-decoration-color: #0087ff\">Dense</span>)     │ (<span style=\"color: #00d7ff; text-decoration-color: #00d7ff\">None</span>, <span style=\"color: #00af00; text-decoration-color: #00af00\">1</span>)         │      <span style=\"color: #00af00; text-decoration-color: #00af00\">1,441</span> │ concatenate_3[<span style=\"color: #00af00; text-decoration-color: #00af00\">0</span>]… │\n",
       "└─────────────────────┴───────────────────┴────────────┴───────────────────┘\n",
       "</pre>\n"
      ],
      "text/plain": [
       "┏━━━━━━━━━━━━━━━━━━━━━┳━━━━━━━━━━━━━━━━━━━┳━━━━━━━━━━━━┳━━━━━━━━━━━━━━━━━━━┓\n",
       "┃\u001b[1m \u001b[0m\u001b[1mLayer (type)       \u001b[0m\u001b[1m \u001b[0m┃\u001b[1m \u001b[0m\u001b[1mOutput Shape     \u001b[0m\u001b[1m \u001b[0m┃\u001b[1m \u001b[0m\u001b[1m   Param #\u001b[0m\u001b[1m \u001b[0m┃\u001b[1m \u001b[0m\u001b[1mConnected to     \u001b[0m\u001b[1m \u001b[0m┃\n",
       "┡━━━━━━━━━━━━━━━━━━━━━╇━━━━━━━━━━━━━━━━━━━╇━━━━━━━━━━━━╇━━━━━━━━━━━━━━━━━━━┩\n",
       "│ title_embedding     │ (\u001b[38;5;45mNone\u001b[0m, \u001b[38;5;34m1\u001b[0m, \u001b[38;5;34m768\u001b[0m)    │          \u001b[38;5;34m0\u001b[0m │ -                 │\n",
       "│ (\u001b[38;5;33mInputLayer\u001b[0m)        │                   │            │                   │\n",
       "├─────────────────────┼───────────────────┼────────────┼───────────────────┤\n",
       "│ content_embedding   │ (\u001b[38;5;45mNone\u001b[0m, \u001b[38;5;34m1\u001b[0m, \u001b[38;5;34m768\u001b[0m)    │          \u001b[38;5;34m0\u001b[0m │ -                 │\n",
       "│ (\u001b[38;5;33mInputLayer\u001b[0m)        │                   │            │                   │\n",
       "├─────────────────────┼───────────────────┼────────────┼───────────────────┤\n",
       "│ hashtags_embedding  │ (\u001b[38;5;45mNone\u001b[0m, \u001b[38;5;34m1\u001b[0m, \u001b[38;5;34m768\u001b[0m)    │          \u001b[38;5;34m0\u001b[0m │ -                 │\n",
       "│ (\u001b[38;5;33mInputLayer\u001b[0m)        │                   │            │                   │\n",
       "├─────────────────────┼───────────────────┼────────────┼───────────────────┤\n",
       "│ bidirectional_3     │ (\u001b[38;5;45mNone\u001b[0m, \u001b[38;5;34m128\u001b[0m)       │    \u001b[38;5;34m426,496\u001b[0m │ title_embedding[\u001b[38;5;34m…\u001b[0m │\n",
       "│ (\u001b[38;5;33mBidirectional\u001b[0m)     │                   │            │                   │\n",
       "├─────────────────────┼───────────────────┼────────────┼───────────────────┤\n",
       "│ bidirectional_4     │ (\u001b[38;5;45mNone\u001b[0m, \u001b[38;5;34m128\u001b[0m)       │    \u001b[38;5;34m426,496\u001b[0m │ content_embeddin… │\n",
       "│ (\u001b[38;5;33mBidirectional\u001b[0m)     │                   │            │                   │\n",
       "├─────────────────────┼───────────────────┼────────────┼───────────────────┤\n",
       "│ bidirectional_5     │ (\u001b[38;5;45mNone\u001b[0m, \u001b[38;5;34m128\u001b[0m)       │    \u001b[38;5;34m426,496\u001b[0m │ hashtags_embeddi… │\n",
       "│ (\u001b[38;5;33mBidirectional\u001b[0m)     │                   │            │                   │\n",
       "├─────────────────────┼───────────────────┼────────────┼───────────────────┤\n",
       "│ dropout_3 (\u001b[38;5;33mDropout\u001b[0m) │ (\u001b[38;5;45mNone\u001b[0m, \u001b[38;5;34m128\u001b[0m)       │          \u001b[38;5;34m0\u001b[0m │ bidirectional_3[\u001b[38;5;34m…\u001b[0m │\n",
       "├─────────────────────┼───────────────────┼────────────┼───────────────────┤\n",
       "│ dropout_4 (\u001b[38;5;33mDropout\u001b[0m) │ (\u001b[38;5;45mNone\u001b[0m, \u001b[38;5;34m128\u001b[0m)       │          \u001b[38;5;34m0\u001b[0m │ bidirectional_4[\u001b[38;5;34m…\u001b[0m │\n",
       "├─────────────────────┼───────────────────┼────────────┼───────────────────┤\n",
       "│ dropout_5 (\u001b[38;5;33mDropout\u001b[0m) │ (\u001b[38;5;45mNone\u001b[0m, \u001b[38;5;34m128\u001b[0m)       │          \u001b[38;5;34m0\u001b[0m │ bidirectional_5[\u001b[38;5;34m…\u001b[0m │\n",
       "├─────────────────────┼───────────────────┼────────────┼───────────────────┤\n",
       "│ global_average_poo… │ (\u001b[38;5;45mNone\u001b[0m, \u001b[38;5;34m768\u001b[0m)       │          \u001b[38;5;34m0\u001b[0m │ title_embedding[\u001b[38;5;34m…\u001b[0m │\n",
       "│ (\u001b[38;5;33mGlobalAveragePool…\u001b[0m │                   │            │                   │\n",
       "├─────────────────────┼───────────────────┼────────────┼───────────────────┤\n",
       "│ dense_5 (\u001b[38;5;33mDense\u001b[0m)     │ (\u001b[38;5;45mNone\u001b[0m, \u001b[38;5;34m224\u001b[0m)       │     \u001b[38;5;34m28,896\u001b[0m │ dropout_3[\u001b[38;5;34m0\u001b[0m][\u001b[38;5;34m0\u001b[0m]   │\n",
       "├─────────────────────┼───────────────────┼────────────┼───────────────────┤\n",
       "│ dense_6 (\u001b[38;5;33mDense\u001b[0m)     │ (\u001b[38;5;45mNone\u001b[0m, \u001b[38;5;34m224\u001b[0m)       │     \u001b[38;5;34m28,896\u001b[0m │ dropout_4[\u001b[38;5;34m0\u001b[0m][\u001b[38;5;34m0\u001b[0m]   │\n",
       "├─────────────────────┼───────────────────┼────────────┼───────────────────┤\n",
       "│ dense_7 (\u001b[38;5;33mDense\u001b[0m)     │ (\u001b[38;5;45mNone\u001b[0m, \u001b[38;5;34m224\u001b[0m)       │     \u001b[38;5;34m28,896\u001b[0m │ dropout_5[\u001b[38;5;34m0\u001b[0m][\u001b[38;5;34m0\u001b[0m]   │\n",
       "├─────────────────────┼───────────────────┼────────────┼───────────────────┤\n",
       "│ concatenate_3       │ (\u001b[38;5;45mNone\u001b[0m, \u001b[38;5;34m1440\u001b[0m)      │          \u001b[38;5;34m0\u001b[0m │ global_average_p… │\n",
       "│ (\u001b[38;5;33mConcatenate\u001b[0m)       │                   │            │ dense_5[\u001b[38;5;34m0\u001b[0m][\u001b[38;5;34m0\u001b[0m],    │\n",
       "│                     │                   │            │ dense_6[\u001b[38;5;34m0\u001b[0m][\u001b[38;5;34m0\u001b[0m],    │\n",
       "│                     │                   │            │ dense_7[\u001b[38;5;34m0\u001b[0m][\u001b[38;5;34m0\u001b[0m]     │\n",
       "├─────────────────────┼───────────────────┼────────────┼───────────────────┤\n",
       "│ dense_9 (\u001b[38;5;33mDense\u001b[0m)     │ (\u001b[38;5;45mNone\u001b[0m, \u001b[38;5;34m1\u001b[0m)         │      \u001b[38;5;34m1,441\u001b[0m │ concatenate_3[\u001b[38;5;34m0\u001b[0m]… │\n",
       "└─────────────────────┴───────────────────┴────────────┴───────────────────┘\n"
      ]
     },
     "metadata": {},
     "output_type": "display_data"
    },
    {
     "data": {
      "text/html": [
       "<pre style=\"white-space:pre;overflow-x:auto;line-height:normal;font-family:Menlo,'DejaVu Sans Mono',consolas,'Courier New',monospace\"><span style=\"font-weight: bold\"> Total params: </span><span style=\"color: #00af00; text-decoration-color: #00af00\">1,367,617</span> (5.22 MB)\n",
       "</pre>\n"
      ],
      "text/plain": [
       "\u001b[1m Total params: \u001b[0m\u001b[38;5;34m1,367,617\u001b[0m (5.22 MB)\n"
      ]
     },
     "metadata": {},
     "output_type": "display_data"
    },
    {
     "data": {
      "text/html": [
       "<pre style=\"white-space:pre;overflow-x:auto;line-height:normal;font-family:Menlo,'DejaVu Sans Mono',consolas,'Courier New',monospace\"><span style=\"font-weight: bold\"> Trainable params: </span><span style=\"color: #00af00; text-decoration-color: #00af00\">1,367,617</span> (5.22 MB)\n",
       "</pre>\n"
      ],
      "text/plain": [
       "\u001b[1m Trainable params: \u001b[0m\u001b[38;5;34m1,367,617\u001b[0m (5.22 MB)\n"
      ]
     },
     "metadata": {},
     "output_type": "display_data"
    },
    {
     "data": {
      "text/html": [
       "<pre style=\"white-space:pre;overflow-x:auto;line-height:normal;font-family:Menlo,'DejaVu Sans Mono',consolas,'Courier New',monospace\"><span style=\"font-weight: bold\"> Non-trainable params: </span><span style=\"color: #00af00; text-decoration-color: #00af00\">0</span> (0.00 B)\n",
       "</pre>\n"
      ],
      "text/plain": [
       "\u001b[1m Non-trainable params: \u001b[0m\u001b[38;5;34m0\u001b[0m (0.00 B)\n"
      ]
     },
     "metadata": {},
     "output_type": "display_data"
    }
   ],
   "source": [
    "# print the model's summary after complex modifications\n",
    "model.summary()"
   ]
  },
  {
   "cell_type": "code",
   "execution_count": 13,
   "metadata": {},
   "outputs": [],
   "source": [
    "# Pre-split inputs prior to training\n",
    "X_train_title = X_train[:, 0, :].reshape(-1, 1, 768)  # Reshape to (None, 1, 768)\n",
    "X_train_content = X_train[:, 1, :].reshape(-1, 1, 768)  # Reshape to (None, 1, 768)\n",
    "X_train_hashtags = X_train[:, 2, :].reshape(-1, 1, 768)  # Reshape to (None, 1, 768)\n",
    "\n",
    "X_val_title = X_val[:, 0, :].reshape(-1, 1, 768)  # Reshape to (None, 1, 768)\n",
    "X_val_content = X_val[:, 1, :].reshape(-1, 1, 768)  # Reshape to (None, 1, 768)\n",
    "X_val_hashtags = X_val[:, 2, :].reshape(-1, 1, 768)  # Reshape to (None, 1, 768)"
   ]
  },
  {
   "cell_type": "code",
   "execution_count": 14,
   "metadata": {},
   "outputs": [
    {
     "name": "stdout",
     "output_type": "stream",
     "text": [
      "Epoch 1/30\n",
      "\u001b[1m249/249\u001b[0m \u001b[32m━━━━━━━━━━━━━━━━━━━━\u001b[0m\u001b[37m\u001b[0m \u001b[1m8s\u001b[0m 12ms/step - accuracy: 0.7860 - loss: 0.4402 - val_accuracy: 0.8990 - val_loss: 0.2522\n",
      "Epoch 2/30\n",
      "\u001b[1m249/249\u001b[0m \u001b[32m━━━━━━━━━━━━━━━━━━━━\u001b[0m\u001b[37m\u001b[0m \u001b[1m8s\u001b[0m 12ms/step - accuracy: 0.7860 - loss: 0.4402 - val_accuracy: 0.8990 - val_loss: 0.2522\n",
      "Epoch 2/30\n",
      "\u001b[1m249/249\u001b[0m \u001b[32m━━━━━━━━━━━━━━━━━━━━\u001b[0m\u001b[37m\u001b[0m \u001b[1m2s\u001b[0m 9ms/step - accuracy: 0.8964 - loss: 0.2503 - val_accuracy: 0.8950 - val_loss: 0.2586\n",
      "Epoch 3/30\n",
      "\u001b[1m249/249\u001b[0m \u001b[32m━━━━━━━━━━━━━━━━━━━━\u001b[0m\u001b[37m\u001b[0m \u001b[1m2s\u001b[0m 9ms/step - accuracy: 0.8964 - loss: 0.2503 - val_accuracy: 0.8950 - val_loss: 0.2586\n",
      "Epoch 3/30\n",
      "\u001b[1m249/249\u001b[0m \u001b[32m━━━━━━━━━━━━━━━━━━━━\u001b[0m\u001b[37m\u001b[0m \u001b[1m2s\u001b[0m 9ms/step - accuracy: 0.9063 - loss: 0.2239 - val_accuracy: 0.9146 - val_loss: 0.2368\n",
      "Epoch 4/30\n",
      "\u001b[1m249/249\u001b[0m \u001b[32m━━━━━━━━━━━━━━━━━━━━\u001b[0m\u001b[37m\u001b[0m \u001b[1m2s\u001b[0m 9ms/step - accuracy: 0.9063 - loss: 0.2239 - val_accuracy: 0.9146 - val_loss: 0.2368\n",
      "Epoch 4/30\n",
      "\u001b[1m249/249\u001b[0m \u001b[32m━━━━━━━━━━━━━━━━━━━━\u001b[0m\u001b[37m\u001b[0m \u001b[1m2s\u001b[0m 10ms/step - accuracy: 0.9180 - loss: 0.1933 - val_accuracy: 0.9211 - val_loss: 0.2071\n",
      "Epoch 5/30\n",
      "\u001b[1m249/249\u001b[0m \u001b[32m━━━━━━━━━━━━━━━━━━━━\u001b[0m\u001b[37m\u001b[0m \u001b[1m2s\u001b[0m 10ms/step - accuracy: 0.9180 - loss: 0.1933 - val_accuracy: 0.9211 - val_loss: 0.2071\n",
      "Epoch 5/30\n",
      "\u001b[1m249/249\u001b[0m \u001b[32m━━━━━━━━━━━━━━━━━━━━\u001b[0m\u001b[37m\u001b[0m \u001b[1m3s\u001b[0m 12ms/step - accuracy: 0.9176 - loss: 0.1899 - val_accuracy: 0.9221 - val_loss: 0.2069\n",
      "Epoch 6/30\n",
      "\u001b[1m249/249\u001b[0m \u001b[32m━━━━━━━━━━━━━━━━━━━━\u001b[0m\u001b[37m\u001b[0m \u001b[1m3s\u001b[0m 12ms/step - accuracy: 0.9176 - loss: 0.1899 - val_accuracy: 0.9221 - val_loss: 0.2069\n",
      "Epoch 6/30\n",
      "\u001b[1m249/249\u001b[0m \u001b[32m━━━━━━━━━━━━━━━━━━━━\u001b[0m\u001b[37m\u001b[0m \u001b[1m3s\u001b[0m 10ms/step - accuracy: 0.9277 - loss: 0.1705 - val_accuracy: 0.9146 - val_loss: 0.2060\n",
      "Epoch 7/30\n",
      "\u001b[1m249/249\u001b[0m \u001b[32m━━━━━━━━━━━━━━━━━━━━\u001b[0m\u001b[37m\u001b[0m \u001b[1m3s\u001b[0m 10ms/step - accuracy: 0.9277 - loss: 0.1705 - val_accuracy: 0.9146 - val_loss: 0.2060\n",
      "Epoch 7/30\n",
      "\u001b[1m249/249\u001b[0m \u001b[32m━━━━━━━━━━━━━━━━━━━━\u001b[0m\u001b[37m\u001b[0m \u001b[1m3s\u001b[0m 10ms/step - accuracy: 0.9355 - loss: 0.1599 - val_accuracy: 0.9221 - val_loss: 0.2050\n",
      "Epoch 8/30\n",
      "\u001b[1m249/249\u001b[0m \u001b[32m━━━━━━━━━━━━━━━━━━━━\u001b[0m\u001b[37m\u001b[0m \u001b[1m3s\u001b[0m 10ms/step - accuracy: 0.9355 - loss: 0.1599 - val_accuracy: 0.9221 - val_loss: 0.2050\n",
      "Epoch 8/30\n",
      "\u001b[1m249/249\u001b[0m \u001b[32m━━━━━━━━━━━━━━━━━━━━\u001b[0m\u001b[37m\u001b[0m \u001b[1m3s\u001b[0m 11ms/step - accuracy: 0.9352 - loss: 0.1577 - val_accuracy: 0.9237 - val_loss: 0.1959\n",
      "Epoch 9/30\n",
      "\u001b[1m249/249\u001b[0m \u001b[32m━━━━━━━━━━━━━━━━━━━━\u001b[0m\u001b[37m\u001b[0m \u001b[1m3s\u001b[0m 11ms/step - accuracy: 0.9352 - loss: 0.1577 - val_accuracy: 0.9237 - val_loss: 0.1959\n",
      "Epoch 9/30\n",
      "\u001b[1m249/249\u001b[0m \u001b[32m━━━━━━━━━━━━━━━━━━━━\u001b[0m\u001b[37m\u001b[0m \u001b[1m3s\u001b[0m 10ms/step - accuracy: 0.9493 - loss: 0.1322 - val_accuracy: 0.9252 - val_loss: 0.2005\n",
      "Epoch 10/30\n",
      "\u001b[1m249/249\u001b[0m \u001b[32m━━━━━━━━━━━━━━━━━━━━\u001b[0m\u001b[37m\u001b[0m \u001b[1m3s\u001b[0m 10ms/step - accuracy: 0.9493 - loss: 0.1322 - val_accuracy: 0.9252 - val_loss: 0.2005\n",
      "Epoch 10/30\n",
      "\u001b[1m249/249\u001b[0m \u001b[32m━━━━━━━━━━━━━━━━━━━━\u001b[0m\u001b[37m\u001b[0m \u001b[1m3s\u001b[0m 10ms/step - accuracy: 0.9521 - loss: 0.1220 - val_accuracy: 0.9242 - val_loss: 0.2061\n",
      "Epoch 11/30\n",
      "\u001b[1m249/249\u001b[0m \u001b[32m━━━━━━━━━━━━━━━━━━━━\u001b[0m\u001b[37m\u001b[0m \u001b[1m3s\u001b[0m 10ms/step - accuracy: 0.9521 - loss: 0.1220 - val_accuracy: 0.9242 - val_loss: 0.2061\n",
      "Epoch 11/30\n",
      "\u001b[1m249/249\u001b[0m \u001b[32m━━━━━━━━━━━━━━━━━━━━\u001b[0m\u001b[37m\u001b[0m \u001b[1m2s\u001b[0m 10ms/step - accuracy: 0.9575 - loss: 0.1064 - val_accuracy: 0.9252 - val_loss: 0.2272\n",
      "Epoch 12/30\n",
      "\u001b[1m249/249\u001b[0m \u001b[32m━━━━━━━━━━━━━━━━━━━━\u001b[0m\u001b[37m\u001b[0m \u001b[1m2s\u001b[0m 10ms/step - accuracy: 0.9575 - loss: 0.1064 - val_accuracy: 0.9252 - val_loss: 0.2272\n",
      "Epoch 12/30\n",
      "\u001b[1m249/249\u001b[0m \u001b[32m━━━━━━━━━━━━━━━━━━━━\u001b[0m\u001b[37m\u001b[0m \u001b[1m2s\u001b[0m 9ms/step - accuracy: 0.9610 - loss: 0.0962 - val_accuracy: 0.9216 - val_loss: 0.2380\n",
      "Epoch 13/30\n",
      "\u001b[1m249/249\u001b[0m \u001b[32m━━━━━━━━━━━━━━━━━━━━\u001b[0m\u001b[37m\u001b[0m \u001b[1m2s\u001b[0m 9ms/step - accuracy: 0.9610 - loss: 0.0962 - val_accuracy: 0.9216 - val_loss: 0.2380\n",
      "Epoch 13/30\n",
      "\u001b[1m249/249\u001b[0m \u001b[32m━━━━━━━━━━━━━━━━━━━━\u001b[0m\u001b[37m\u001b[0m \u001b[1m2s\u001b[0m 9ms/step - accuracy: 0.9671 - loss: 0.0828 - val_accuracy: 0.9186 - val_loss: 0.2538\n",
      "Epoch 14/30\n",
      "\u001b[1m249/249\u001b[0m \u001b[32m━━━━━━━━━━━━━━━━━━━━\u001b[0m\u001b[37m\u001b[0m \u001b[1m2s\u001b[0m 9ms/step - accuracy: 0.9671 - loss: 0.0828 - val_accuracy: 0.9186 - val_loss: 0.2538\n",
      "Epoch 14/30\n",
      "\u001b[1m249/249\u001b[0m \u001b[32m━━━━━━━━━━━━━━━━━━━━\u001b[0m\u001b[37m\u001b[0m \u001b[1m2s\u001b[0m 10ms/step - accuracy: 0.9645 - loss: 0.0809 - val_accuracy: 0.9191 - val_loss: 0.2351\n",
      "Epoch 15/30\n",
      "\u001b[1m249/249\u001b[0m \u001b[32m━━━━━━━━━━━━━━━━━━━━\u001b[0m\u001b[37m\u001b[0m \u001b[1m2s\u001b[0m 10ms/step - accuracy: 0.9645 - loss: 0.0809 - val_accuracy: 0.9191 - val_loss: 0.2351\n",
      "Epoch 15/30\n",
      "\u001b[1m249/249\u001b[0m \u001b[32m━━━━━━━━━━━━━━━━━━━━\u001b[0m\u001b[37m\u001b[0m \u001b[1m2s\u001b[0m 10ms/step - accuracy: 0.9781 - loss: 0.0644 - val_accuracy: 0.9201 - val_loss: 0.2747\n",
      "Epoch 16/30\n",
      "\u001b[1m249/249\u001b[0m \u001b[32m━━━━━━━━━━━━━━━━━━━━\u001b[0m\u001b[37m\u001b[0m \u001b[1m2s\u001b[0m 10ms/step - accuracy: 0.9781 - loss: 0.0644 - val_accuracy: 0.9201 - val_loss: 0.2747\n",
      "Epoch 16/30\n",
      "\u001b[1m249/249\u001b[0m \u001b[32m━━━━━━━━━━━━━━━━━━━━\u001b[0m\u001b[37m\u001b[0m \u001b[1m2s\u001b[0m 10ms/step - accuracy: 0.9721 - loss: 0.0660 - val_accuracy: 0.9121 - val_loss: 0.2594\n",
      "Epoch 17/30\n",
      "\u001b[1m249/249\u001b[0m \u001b[32m━━━━━━━━━━━━━━━━━━━━\u001b[0m\u001b[37m\u001b[0m \u001b[1m2s\u001b[0m 10ms/step - accuracy: 0.9721 - loss: 0.0660 - val_accuracy: 0.9121 - val_loss: 0.2594\n",
      "Epoch 17/30\n",
      "\u001b[1m249/249\u001b[0m \u001b[32m━━━━━━━━━━━━━━━━━━━━\u001b[0m\u001b[37m\u001b[0m \u001b[1m2s\u001b[0m 10ms/step - accuracy: 0.9813 - loss: 0.0525 - val_accuracy: 0.9101 - val_loss: 0.2889\n",
      "Epoch 18/30\n",
      "\u001b[1m249/249\u001b[0m \u001b[32m━━━━━━━━━━━━━━━━━━━━\u001b[0m\u001b[37m\u001b[0m \u001b[1m2s\u001b[0m 10ms/step - accuracy: 0.9813 - loss: 0.0525 - val_accuracy: 0.9101 - val_loss: 0.2889\n",
      "Epoch 18/30\n",
      "\u001b[1m249/249\u001b[0m \u001b[32m━━━━━━━━━━━━━━━━━━━━\u001b[0m\u001b[37m\u001b[0m \u001b[1m2s\u001b[0m 10ms/step - accuracy: 0.9834 - loss: 0.0466 - val_accuracy: 0.9216 - val_loss: 0.2940\n",
      "Epoch 19/30\n",
      "\u001b[1m249/249\u001b[0m \u001b[32m━━━━━━━━━━━━━━━━━━━━\u001b[0m\u001b[37m\u001b[0m \u001b[1m2s\u001b[0m 10ms/step - accuracy: 0.9834 - loss: 0.0466 - val_accuracy: 0.9216 - val_loss: 0.2940\n",
      "Epoch 19/30\n",
      "\u001b[1m249/249\u001b[0m \u001b[32m━━━━━━━━━━━━━━━━━━━━\u001b[0m\u001b[37m\u001b[0m \u001b[1m2s\u001b[0m 10ms/step - accuracy: 0.9831 - loss: 0.0516 - val_accuracy: 0.9191 - val_loss: 0.3380\n",
      "Epoch 20/30\n",
      "\u001b[1m249/249\u001b[0m \u001b[32m━━━━━━━━━━━━━━━━━━━━\u001b[0m\u001b[37m\u001b[0m \u001b[1m2s\u001b[0m 10ms/step - accuracy: 0.9831 - loss: 0.0516 - val_accuracy: 0.9191 - val_loss: 0.3380\n",
      "Epoch 20/30\n",
      "\u001b[1m249/249\u001b[0m \u001b[32m━━━━━━━━━━━━━━━━━━━━\u001b[0m\u001b[37m\u001b[0m \u001b[1m2s\u001b[0m 9ms/step - accuracy: 0.9864 - loss: 0.0421 - val_accuracy: 0.9096 - val_loss: 0.3337\n",
      "Epoch 21/30\n",
      "\u001b[1m249/249\u001b[0m \u001b[32m━━━━━━━━━━━━━━━━━━━━\u001b[0m\u001b[37m\u001b[0m \u001b[1m2s\u001b[0m 9ms/step - accuracy: 0.9864 - loss: 0.0421 - val_accuracy: 0.9096 - val_loss: 0.3337\n",
      "Epoch 21/30\n",
      "\u001b[1m249/249\u001b[0m \u001b[32m━━━━━━━━━━━━━━━━━━━━\u001b[0m\u001b[37m\u001b[0m \u001b[1m2s\u001b[0m 9ms/step - accuracy: 0.9790 - loss: 0.0511 - val_accuracy: 0.9211 - val_loss: 0.3292\n",
      "Epoch 22/30\n",
      "\u001b[1m249/249\u001b[0m \u001b[32m━━━━━━━━━━━━━━━━━━━━\u001b[0m\u001b[37m\u001b[0m \u001b[1m2s\u001b[0m 9ms/step - accuracy: 0.9790 - loss: 0.0511 - val_accuracy: 0.9211 - val_loss: 0.3292\n",
      "Epoch 22/30\n",
      "\u001b[1m249/249\u001b[0m \u001b[32m━━━━━━━━━━━━━━━━━━━━\u001b[0m\u001b[37m\u001b[0m \u001b[1m2s\u001b[0m 9ms/step - accuracy: 0.9887 - loss: 0.0314 - val_accuracy: 0.9111 - val_loss: 0.4067\n",
      "Epoch 23/30\n",
      "\u001b[1m249/249\u001b[0m \u001b[32m━━━━━━━━━━━━━━━━━━━━\u001b[0m\u001b[37m\u001b[0m \u001b[1m2s\u001b[0m 9ms/step - accuracy: 0.9887 - loss: 0.0314 - val_accuracy: 0.9111 - val_loss: 0.4067\n",
      "Epoch 23/30\n",
      "\u001b[1m249/249\u001b[0m \u001b[32m━━━━━━━━━━━━━━━━━━━━\u001b[0m\u001b[37m\u001b[0m \u001b[1m2s\u001b[0m 9ms/step - accuracy: 0.9910 - loss: 0.0255 - val_accuracy: 0.9151 - val_loss: 0.3964\n",
      "Epoch 24/30\n",
      "\u001b[1m249/249\u001b[0m \u001b[32m━━━━━━━━━━━━━━━━━━━━\u001b[0m\u001b[37m\u001b[0m \u001b[1m2s\u001b[0m 9ms/step - accuracy: 0.9910 - loss: 0.0255 - val_accuracy: 0.9151 - val_loss: 0.3964\n",
      "Epoch 24/30\n",
      "\u001b[1m249/249\u001b[0m \u001b[32m━━━━━━━━━━━━━━━━━━━━\u001b[0m\u001b[37m\u001b[0m \u001b[1m2s\u001b[0m 9ms/step - accuracy: 0.9833 - loss: 0.0391 - val_accuracy: 0.9161 - val_loss: 0.3703\n",
      "Epoch 25/30\n",
      "\u001b[1m249/249\u001b[0m \u001b[32m━━━━━━━━━━━━━━━━━━━━\u001b[0m\u001b[37m\u001b[0m \u001b[1m2s\u001b[0m 9ms/step - accuracy: 0.9833 - loss: 0.0391 - val_accuracy: 0.9161 - val_loss: 0.3703\n",
      "Epoch 25/30\n",
      "\u001b[1m249/249\u001b[0m \u001b[32m━━━━━━━━━━━━━━━━━━━━\u001b[0m\u001b[37m\u001b[0m \u001b[1m2s\u001b[0m 9ms/step - accuracy: 0.9886 - loss: 0.0317 - val_accuracy: 0.9171 - val_loss: 0.3659\n",
      "Epoch 26/30\n",
      "\u001b[1m249/249\u001b[0m \u001b[32m━━━━━━━━━━━━━━━━━━━━\u001b[0m\u001b[37m\u001b[0m \u001b[1m2s\u001b[0m 9ms/step - accuracy: 0.9886 - loss: 0.0317 - val_accuracy: 0.9171 - val_loss: 0.3659\n",
      "Epoch 26/30\n",
      "\u001b[1m249/249\u001b[0m \u001b[32m━━━━━━━━━━━━━━━━━━━━\u001b[0m\u001b[37m\u001b[0m \u001b[1m2s\u001b[0m 9ms/step - accuracy: 0.9960 - loss: 0.0159 - val_accuracy: 0.9211 - val_loss: 0.4730\n",
      "Epoch 27/30\n",
      "\u001b[1m249/249\u001b[0m \u001b[32m━━━━━━━━━━━━━━━━━━━━\u001b[0m\u001b[37m\u001b[0m \u001b[1m2s\u001b[0m 9ms/step - accuracy: 0.9960 - loss: 0.0159 - val_accuracy: 0.9211 - val_loss: 0.4730\n",
      "Epoch 27/30\n",
      "\u001b[1m249/249\u001b[0m \u001b[32m━━━━━━━━━━━━━━━━━━━━\u001b[0m\u001b[37m\u001b[0m \u001b[1m2s\u001b[0m 9ms/step - accuracy: 0.9914 - loss: 0.0223 - val_accuracy: 0.9171 - val_loss: 0.4556\n",
      "Epoch 28/30\n",
      "\u001b[1m249/249\u001b[0m \u001b[32m━━━━━━━━━━━━━━━━━━━━\u001b[0m\u001b[37m\u001b[0m \u001b[1m2s\u001b[0m 9ms/step - accuracy: 0.9914 - loss: 0.0223 - val_accuracy: 0.9171 - val_loss: 0.4556\n",
      "Epoch 28/30\n",
      "\u001b[1m249/249\u001b[0m \u001b[32m━━━━━━━━━━━━━━━━━━━━\u001b[0m\u001b[37m\u001b[0m \u001b[1m2s\u001b[0m 9ms/step - accuracy: 0.9894 - loss: 0.0275 - val_accuracy: 0.9181 - val_loss: 0.4104\n",
      "Epoch 29/30\n",
      "\u001b[1m249/249\u001b[0m \u001b[32m━━━━━━━━━━━━━━━━━━━━\u001b[0m\u001b[37m\u001b[0m \u001b[1m2s\u001b[0m 9ms/step - accuracy: 0.9894 - loss: 0.0275 - val_accuracy: 0.9181 - val_loss: 0.4104\n",
      "Epoch 29/30\n",
      "\u001b[1m249/249\u001b[0m \u001b[32m━━━━━━━━━━━━━━━━━━━━\u001b[0m\u001b[37m\u001b[0m \u001b[1m2s\u001b[0m 9ms/step - accuracy: 0.9919 - loss: 0.0195 - val_accuracy: 0.9126 - val_loss: 0.4145\n",
      "Epoch 30/30\n",
      "\u001b[1m249/249\u001b[0m \u001b[32m━━━━━━━━━━━━━━━━━━━━\u001b[0m\u001b[37m\u001b[0m \u001b[1m2s\u001b[0m 9ms/step - accuracy: 0.9919 - loss: 0.0195 - val_accuracy: 0.9126 - val_loss: 0.4145\n",
      "Epoch 30/30\n",
      "\u001b[1m249/249\u001b[0m \u001b[32m━━━━━━━━━━━━━━━━━━━━\u001b[0m\u001b[37m\u001b[0m \u001b[1m2s\u001b[0m 9ms/step - accuracy: 0.9911 - loss: 0.0247 - val_accuracy: 0.9151 - val_loss: 0.4124\n",
      "\u001b[1m249/249\u001b[0m \u001b[32m━━━━━━━━━━━━━━━━━━━━\u001b[0m\u001b[37m\u001b[0m \u001b[1m2s\u001b[0m 9ms/step - accuracy: 0.9911 - loss: 0.0247 - val_accuracy: 0.9151 - val_loss: 0.4124\n"
     ]
    },
    {
     "data": {
      "text/plain": [
       "<keras.src.callbacks.history.History at 0x1c7b51fd4b0>"
      ]
     },
     "execution_count": 14,
     "metadata": {},
     "output_type": "execute_result"
    }
   ],
   "source": [
    "history = model.fit(\n",
    "    x=[X_train_title, X_train_content, X_train_hashtags],\n",
    "    y=y_train,\n",
    "    validation_data=(\n",
    "        [X_val_title, X_val_content, X_val_hashtags],\n",
    "        y_val\n",
    "    ),\n",
    "    epochs=EPOCHS\n",
    ")\n",
    "history"
   ]
  },
  {
   "cell_type": "code",
   "execution_count": 15,
   "metadata": {},
   "outputs": [
    {
     "data": {
      "image/png": "[encoded data removed]",
      "text/plain": [
       "<Figure size 1200x500 with 2 Axes>"
      ]
     },
     "metadata": {},
     "output_type": "display_data"
    }
   ],
   "source": [
    "# Plot training & validation accuracy values\n",
    "plt.figure(figsize=(12, 5))\n",
    "\n",
    "# Accuracy plot\n",
    "plt.subplot(1, 2, 1)\n",
    "plt.plot(history.history['accuracy'], label='Train Accuracy')\n",
    "plt.plot(history.history['val_accuracy'], label='Validation Accuracy')\n",
    "plt.title('Model Accuracy')\n",
    "plt.xlabel('Epoch')\n",
    "plt.ylabel('Accuracy')\n",
    "plt.legend()\n",
    "\n",
    "# Loss plot\n",
    "plt.subplot(1, 2, 2)\n",
    "plt.plot(history.history['loss'], label='Train Loss')\n",
    "plt.plot(history.history['val_loss'], label='Validation Loss')\n",
    "plt.title('Model Loss')\n",
    "plt.xlabel('Epoch')\n",
    "plt.ylabel('Loss')\n",
    "plt.legend()\n",
    "\n",
    "plt.tight_layout()\n",
    "plt.show()"
   ]
  },
  {
   "cell_type": "code",
   "execution_count": 16,
   "metadata": {},
   "outputs": [
    {
     "name": "stderr",
     "output_type": "stream",
     "text": [
      "WARNING:absl:You are saving your model as an HDF5 file via `model.save()` or `keras.saving.save_model(model)`. This file format is considered legacy. We recommend using instead the native Keras format, e.g. `model.save('my_model.keras')` or `keras.saving.save_model(model, 'my_model.keras')`. \n"
     ]
    }
   ],
   "source": [
    "# Save Model\n",
    "model.save(os.path.join(os.curdir, 'models', 'model_2_deep_learning_customized.h5'))"
   ]
  }
 ],
 "metadata": {
  "kernelspec": {
   "display_name": "project-venv",
   "language": "python",
   "name": "python3"
  },
  "language_info": {
   "codemirror_mode": {
    "name": "ipython",
    "version": 3
   },
   "file_extension": ".py",
   "mimetype": "text/x-python",
   "name": "python",
   "nbconvert_exporter": "python",
   "pygments_lexer": "ipython3",
   "version": "3.10.7"
  }
 },
 "nbformat": 4,
 "nbformat_minor": 2
}

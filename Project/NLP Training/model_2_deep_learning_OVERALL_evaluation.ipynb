{
 "cells": [
  {
   "cell_type": "markdown",
   "id": "bd2494a3",
   "metadata": {},
   "source": [
    "# Evaluating the Overall Pipeline of the Deep Learning based Model"
   ]
  },
  {
   "cell_type": "markdown",
   "id": "60369152",
   "metadata": {},
   "source": [
    "Pipeline: This model firstly fine-tunes a pre-trained DistilBERT transformer with the data in the domain of suicide detection. The extracted embeddings then passed through some custom layers to tell whether a post is suicidal."
   ]
  },
  {
   "cell_type": "code",
   "execution_count": 1,
   "id": "929d8e3e",
   "metadata": {},
   "outputs": [
    {
     "name": "stdout",
     "output_type": "stream",
     "text": [
      "WARNING:tensorflow:Compiled the loaded model, but the compiled metrics have yet to be built. `model.compile_metrics` will be empty until you train or evaluate the model.\n",
      "✅ Model converted and saved to ./models/BEST_custom_classifier.keras\n"
     ]
    }
   ],
   "source": [
    "# This block is to resolve the inconsistent issue between TensorFlow versions when loading models\n",
    "import tensorflow as tf\n",
    "\n",
    "# Set this to the shape of your input array\n",
    "INPUT_DIM = 2304  # 3 * 768 from your original Reshape\n",
    "\n",
    "# Define the previously trained model architecture again\n",
    "def build_custom_classifier():\n",
    "    inputs = tf.keras.Input(shape=(INPUT_DIM,), name=\"input\")\n",
    "    x = tf.keras.layers.Reshape((3, -1))(inputs)\n",
    "    x = tf.keras.layers.Bidirectional(tf.keras.layers.LSTM(64, return_sequences=False))(x)\n",
    "    x = tf.keras.layers.Dropout(0.3)(x)\n",
    "    x = tf.keras.layers.Dense(32, activation=\"relu\")(x)\n",
    "    outputs = tf.keras.layers.Dense(1, activation=\"sigmoid\")(x)\n",
    "    model = tf.keras.Model(inputs=inputs, outputs=outputs)\n",
    "    return model\n",
    "\n",
    "# Load Paths\n",
    "old_model_path = \"./models/BEST_custom_classifier.h5\"\n",
    "new_model_path = \"./models/BEST_custom_classifier.keras\"\n",
    "\n",
    "# Build and load weights\n",
    "model = build_custom_classifier()\n",
    "model.load_weights(old_model_path)\n",
    "\n",
    "# Save in .keras format\n",
    "model.save(new_model_path, save_format=\"keras\")\n",
    "print(f\"✅ Model converted and saved to {new_model_path}\")\n"
   ]
  },
  {
   "cell_type": "markdown",
   "id": "6a67a1be",
   "metadata": {},
   "source": [
    "## Import Prerequisite Data"
   ]
  },
  {
   "cell_type": "code",
   "execution_count": 2,
   "id": "7b62f770",
   "metadata": {},
   "outputs": [
    {
     "name": "stderr",
     "output_type": "stream",
     "text": [
      "c:\\Data\\Canada\\Study\\masters\\CSI 5386 - Natural Language Processing\\Natural-Language-Processing\\project-venv\\lib\\site-packages\\tqdm\\auto.py:21: TqdmWarning: IProgress not found. Please update jupyter and ipywidgets. See https://ipywidgets.readthedocs.io/en/stable/user_install.html\n",
      "  from .autonotebook import tqdm as notebook_tqdm\n"
     ]
    },
    {
     "name": "stdout",
     "output_type": "stream",
     "text": [
      "Loading model: BEST_custom_classifier.h5\n",
      "Best Model for BEST_custom_classifier.h5: .\\models\\BEST_custom_classifier.h5\n",
      "Best Model for BEST_fine_tuned_distilBERT_fold_2: ./models\\BEST_fine_tuned_distilBERT_fold_2\n"
     ]
    },
    {
     "name": "stderr",
     "output_type": "stream",
     "text": [
      "All model checkpoint layers were used when initializing TFDistilBertModel.\n",
      "\n",
      "All the layers of TFDistilBertModel were initialized from the model checkpoint at ./models\\BEST_fine_tuned_distilBERT_fold_2.\n",
      "If your task is similar to the task the model of the checkpoint was trained on, you can already use TFDistilBertModel for predictions without further training.\n"
     ]
    },
    {
     "name": "stdout",
     "output_type": "stream",
     "text": [
      "✅ Models loaded successfully!\n",
      "Number of models loaded: 2\n",
      "Models loaded: ['BEST_custom_classifier.h5', 'BEST_fine_tuned_distilBERT_fold_2']\n",
      "✅ Resampled data loaded successfully!\n",
      "X_train_resampled shape: (6635, 2304)\n",
      "y_train_resampled shape: (6635,)\n",
      "X_val_resampled shape: (1611, 2304)\n",
      "y_val_resampled shape: (1611,)\n",
      "X_test shape: (18679, 2304)\n",
      "✅ Raw test data loaded successfully!\n",
      "Length of Test Data: 18679\n"
     ]
    }
   ],
   "source": [
    "import os\n",
    "import tensorflow as tf\n",
    "from transformers import DistilBertTokenizer, TFDistilBertModel\n",
    "import numpy as np\n",
    "import pandas as pd\n",
    "import json\n",
    "DATA_PATH = os.path.realpath(os.path.join(\"..\",\"data\"))\n",
    "TEST_DATA_PATH = os.path.join(DATA_PATH, 'Depression_Tweets')\n",
    "\n",
    "# Get the Best Models\n",
    "models = {}\n",
    "for modelName in os.listdir('./models'):\n",
    "    if modelName.endswith('.h5') and modelName.lower().startswith('best') and 'baseline' not in modelName.lower():\n",
    "        print(f\"Loading model: {modelName}\")\n",
    "        # Get the best model path\n",
    "        best_model_path = os.path.join('.', 'models', modelName)\n",
    "        # Print the best model path\n",
    "        print(f\"Best Model for {modelName}: {best_model_path}\")\n",
    "        # Store the best model path in the dictionary\n",
    "        try:\n",
    "            models[modelName] = tf.keras.models.load_model(best_model_path,compile=False)\n",
    "        except Exception as e:\n",
    "            best_model_path = os.path.join('.', 'models', modelName.replace('.h5', '.keras'))\n",
    "            models[modelName] = tf.keras.models.load_model(best_model_path,compile=False)\n",
    "    if os.path.isdir(os.path.join('./models', modelName)) and modelName.lower().startswith('best') and 'baseline' not in modelName.lower():\n",
    "        # Get the best model path\n",
    "        best_model_path = os.path.join('./models', modelName)\n",
    "        # Print the best model path\n",
    "        print(f\"Best Model for {modelName}: {best_model_path}\")\n",
    "        # Store the best model path in the dictionary\n",
    "        if 'encoder' in modelName.lower():\n",
    "            # Load the encoder model\n",
    "            models[modelName] = DistilBertTokenizer.from_pretrained(best_model_path)\n",
    "        else:\n",
    "            # Load the model using TFDistilBertModel\n",
    "            models[modelName] = TFDistilBertModel.from_pretrained(best_model_path)\n",
    "\n",
    "print(\"✅ Models loaded successfully!\")\n",
    "print(f\"Number of models loaded: {len(models)}\")\n",
    "print(f\"Models loaded: {list(models.keys())}\")\n",
    "\n",
    "# Get the Resampled Data\n",
    "X_train_resampled = np.load('./resampled data/X_train_resampled.npy')\n",
    "X_val_resampled = np.load('./resampled data/X_val_resampled.npy')\n",
    "y_train_resampled = np.load('./resampled data/y_train_resampled.npy')\n",
    "y_val_resampled = np.load('./resampled data/y_val_resampled.npy')\n",
    "X_test = np.load('./resampled data/X_test.npy')\n",
    "print(\"✅ Resampled data loaded successfully!\")\n",
    "print(f\"X_train_resampled shape: {X_train_resampled.shape}\")\n",
    "print(f\"y_train_resampled shape: {y_train_resampled.shape}\")\n",
    "print(f\"X_val_resampled shape: {X_val_resampled.shape}\")\n",
    "print(f\"y_val_resampled shape: {y_val_resampled.shape}\")\n",
    "print(f\"X_test shape: {X_test.shape}\")\n",
    "\n",
    "# Get Raw Test Data\n",
    "df_test_data = pd.read_json(os.path.join(TEST_DATA_PATH, 'depression_json'))\n",
    "print(\"✅ Raw test data loaded successfully!\")\n",
    "print(f\"Length of Test Data: {len(df_test_data)}\")"
   ]
  },
  {
   "cell_type": "markdown",
   "id": "99dbed41",
   "metadata": {},
   "source": [
    "## Import Prerequisite Libraries"
   ]
  },
  {
   "cell_type": "code",
   "execution_count": 3,
   "id": "f1913709",
   "metadata": {},
   "outputs": [],
   "source": [
    "from sklearn.metrics import accuracy_score, f1_score, precision_score, recall_score, auc, roc_curve, ConfusionMatrixDisplay\n",
    "import matplotlib.pyplot as plt"
   ]
  },
  {
   "cell_type": "markdown",
   "id": "b0ebbdc5",
   "metadata": {},
   "source": [
    "## Make Predictions from the Trained Models"
   ]
  },
  {
   "cell_type": "markdown",
   "id": "ba9776ea",
   "metadata": {},
   "source": [
    "From the pipeline, since the resampled data already contain embeddings obtained from the best fine-tuned DistilBERT model, we will use it directly in our custom layers."
   ]
  },
  {
   "cell_type": "code",
   "execution_count": 4,
   "id": "00bdd8ac",
   "metadata": {},
   "outputs": [
    {
     "name": "stdout",
     "output_type": "stream",
     "text": [
      "Model: \"model\"\n",
      "_________________________________________________________________\n",
      " Layer (type)                Output Shape              Param #   \n",
      "=================================================================\n",
      " input (InputLayer)          [(None, 2304)]            0         \n",
      "                                                                 \n",
      " reshape (Reshape)           (None, 3, 768)            0         \n",
      "                                                                 \n",
      " bidirectional (Bidirectiona  (None, 128)              426496    \n",
      " l)                                                              \n",
      "                                                                 \n",
      " dropout (Dropout)           (None, 128)               0         \n",
      "                                                                 \n",
      " dense (Dense)               (None, 32)                4128      \n",
      "                                                                 \n",
      " dense_1 (Dense)             (None, 1)                 33        \n",
      "                                                                 \n",
      "=================================================================\n",
      "Total params: 430,657\n",
      "Trainable params: 430,657\n",
      "Non-trainable params: 0\n",
      "_________________________________________________________________\n"
     ]
    }
   ],
   "source": [
    "# Show the best model's summary\n",
    "custom_classifier = models['BEST_custom_classifier.h5']\n",
    "custom_classifier.summary()"
   ]
  },
  {
   "cell_type": "code",
   "execution_count": 5,
   "id": "274f7549",
   "metadata": {},
   "outputs": [
    {
     "name": "stdout",
     "output_type": "stream",
     "text": [
      "51/51 [==============================] - 1s 3ms/step\n",
      "y_pred_val shape: (1611, 1)\n",
      "y_val_resampled shape: (1611,)\n"
     ]
    }
   ],
   "source": [
    "# Predict on the validation set\n",
    "y_pred_val = custom_classifier.predict(X_val_resampled)\n",
    "print(f\"y_pred_val shape: {y_pred_val.shape}\")\n",
    "print(f\"y_val_resampled shape: {y_val_resampled.shape}\")"
   ]
  },
  {
   "cell_type": "markdown",
   "id": "930d9a56",
   "metadata": {},
   "source": [
    "We need to flatten the predictions array."
   ]
  },
  {
   "cell_type": "code",
   "execution_count": 6,
   "id": "4ea06012",
   "metadata": {},
   "outputs": [
    {
     "name": "stdout",
     "output_type": "stream",
     "text": [
      "y_pred_val shape after flattening: (1611,)\n"
     ]
    }
   ],
   "source": [
    "y_pred_val = y_pred_val.flatten()\n",
    "print(f\"y_pred_val shape after flattening: {y_pred_val.shape}\")"
   ]
  },
  {
   "cell_type": "markdown",
   "id": "20eaa878",
   "metadata": {},
   "source": [
    "## Inspect the values"
   ]
  },
  {
   "cell_type": "code",
   "execution_count": 7,
   "id": "5446d0cd",
   "metadata": {},
   "outputs": [
    {
     "data": {
      "text/plain": [
       "array([0.85953104, 0.7685597 , 0.07050885, 0.9914049 , 0.9756965 ],\n",
       "      dtype=float32)"
      ]
     },
     "execution_count": 7,
     "metadata": {},
     "output_type": "execute_result"
    }
   ],
   "source": [
    "y_pred_val[:5]"
   ]
  },
  {
   "cell_type": "markdown",
   "id": "b1170ae5",
   "metadata": {},
   "source": [
    "Since Tensorflow gives continuous numerics as the prediction outputs, probably the predicted label's probability, we need to convert to an actual label based on the probability."
   ]
  },
  {
   "cell_type": "markdown",
   "id": "d3ea2848",
   "metadata": {},
   "source": [
    "## Convert Probabilistic Predictions"
   ]
  },
  {
   "cell_type": "code",
   "execution_count": 8,
   "id": "2a416a58",
   "metadata": {},
   "outputs": [
    {
     "name": "stdout",
     "output_type": "stream",
     "text": [
      "y_pred_val shape after argmax: (1611,)\n",
      "Sample Predictions: [1 1 0 1 1]\n"
     ]
    }
   ],
   "source": [
    "y_pred_val = np.array([1 if i >= 0.5 else 0 for i in y_pred_val])\n",
    "print(f\"y_pred_val shape after argmax: {y_pred_val.shape}\")\n",
    "print(f\"Sample Predictions: {y_pred_val[:5]}\")"
   ]
  },
  {
   "cell_type": "code",
   "execution_count": 9,
   "id": "2bf7c3e8",
   "metadata": {},
   "outputs": [
    {
     "data": {
      "image/png": "[encoded data removed]",
      "text/plain": [
       "<Figure size 640x480 with 2 Axes>"
      ]
     },
     "metadata": {},
     "output_type": "display_data"
    }
   ],
   "source": [
    "# Confusion matrix\n",
    "ConfusionMatrixDisplay.from_predictions(\n",
    "    y_true=y_val_resampled,\n",
    "    y_pred=y_pred_val, cmap='viridis',\n",
    "    display_labels=['Fake','Legitimate'],\n",
    "    values_format='d'\n",
    ")\n",
    "plt.title('Confusion Matrix of Deep Learning based Model')\n",
    "plt.savefig('Results/model_2_deep_learning_confusion_matrix.png')\n",
    "plt.show()"
   ]
  },
  {
   "cell_type": "code",
   "execution_count": 10,
   "id": "bd538ef3",
   "metadata": {},
   "outputs": [
    {
     "name": "stdout",
     "output_type": "stream",
     "text": [
      "Accuracy: 0.7064\n",
      "Precision: 0.6847\n",
      "Recall: 1.0000\n",
      "Macro F1 Score: 0.5661\n",
      "Micro F1 Score: 0.7064\n",
      "AUC: 0.5950\n"
     ]
    }
   ],
   "source": [
    "# Compare predictions with ground truths\n",
    "accuracy = accuracy_score(y_val_resampled, y_pred_val)\n",
    "precision = precision_score(y_val_resampled, y_pred_val)\n",
    "recall = recall_score(y_val_resampled, y_pred_val)\n",
    "macro_f1 = f1_score(y_val_resampled, y_pred_val, average='macro')\n",
    "micro_f1 = f1_score(y_val_resampled, y_pred_val, average='micro')\n",
    "\n",
    "# Calculate FPR and TPR for AUC\n",
    "fpr, tpr, _ = roc_curve(y_val_resampled, y_pred_val)\n",
    "auc = auc(fpr, tpr) if not np.isnan(fpr).any() and not np.isnan(tpr).any() else 0.0\n",
    "\n",
    "print(f\"Accuracy: {accuracy:.4f}\")\n",
    "print(f\"Precision: {precision:.4f}\")\n",
    "print(f\"Recall: {recall:.4f}\")\n",
    "print(f\"Macro F1 Score: {macro_f1:.4f}\")\n",
    "print(f\"Micro F1 Score: {micro_f1:.4f}\")\n",
    "print(f\"AUC: {auc:.4f}\")"
   ]
  },
  {
   "cell_type": "code",
   "execution_count": 11,
   "id": "9191a8ca",
   "metadata": {},
   "outputs": [
    {
     "data": {
      "image/png": "[encoded data removed]",
      "text/plain": [
       "<Figure size 800x600 with 1 Axes>"
      ]
     },
     "metadata": {},
     "output_type": "display_data"
    }
   ],
   "source": [
    "# Plot the AUC curve\n",
    "plt.figure(figsize=(8, 6))\n",
    "plt.plot(fpr, tpr, color='blue', label=f'AUC = {auc:.4f}')\n",
    "plt.plot([0, 1], [0, 1], color='gray', linestyle='--', label='Random Guess')\n",
    "plt.xlabel('False Positive Rate')\n",
    "plt.ylabel('True Positive Rate')\n",
    "plt.title('AUC Curve')\n",
    "plt.legend(loc='lower right')\n",
    "plt.grid()\n",
    "plt.savefig('Results/model_2_deep_learning_auc_curve.png')\n",
    "plt.show()"
   ]
  },
  {
   "cell_type": "markdown",
   "id": "eddad70b",
   "metadata": {},
   "source": [
    "## Predicting on the Test Set"
   ]
  },
  {
   "cell_type": "code",
   "execution_count": 12,
   "id": "e93985a6",
   "metadata": {},
   "outputs": [
    {
     "name": "stdout",
     "output_type": "stream",
     "text": [
      "584/584 [==============================] - 2s 3ms/step\n",
      "y_pred_test shape: (18679, 1)\n"
     ]
    }
   ],
   "source": [
    "y_pred_test = custom_classifier.predict(X_test)\n",
    "print(f\"y_pred_test shape: {y_pred_test.shape}\")"
   ]
  },
  {
   "cell_type": "markdown",
   "id": "91fe9cc3",
   "metadata": {},
   "source": [
    "Since it contains nested lists, we will have to flatten the predictions array."
   ]
  },
  {
   "cell_type": "code",
   "execution_count": 13,
   "id": "47bd57a0",
   "metadata": {},
   "outputs": [
    {
     "name": "stdout",
     "output_type": "stream",
     "text": [
      "y_pred_test shape after flattening: (18679,)\n",
      "Sample Predictions: [0.9964708  0.9981221  0.99825436 0.6237015  0.9986988 ]\n"
     ]
    }
   ],
   "source": [
    "y_pred_test = y_pred_test.flatten()\n",
    "print(f\"y_pred_test shape after flattening: {y_pred_test.shape}\")\n",
    "print(f\"Sample Predictions: {y_pred_test[:5]}\")"
   ]
  },
  {
   "cell_type": "markdown",
   "id": "1f587ec4",
   "metadata": {},
   "source": [
    "Since the predictions array (from a sigmoid function) consists of probabilistic outcomes, we need to convert them to actual labels."
   ]
  },
  {
   "cell_type": "code",
   "execution_count": 14,
   "id": "99d17020",
   "metadata": {},
   "outputs": [
    {
     "name": "stdout",
     "output_type": "stream",
     "text": [
      "y_pred_test shape: (18679,)\n",
      "Sample Predictions: [1 1 1 1 1]\n"
     ]
    }
   ],
   "source": [
    "y_pred_test = np.array([1 if i >= 0.5 else 0 for i in y_pred_test])\n",
    "print(f\"y_pred_test shape: {y_pred_test.shape}\")\n",
    "print(f\"Sample Predictions: {y_pred_test[:5]}\")"
   ]
  },
  {
   "cell_type": "code",
   "execution_count": null,
   "id": "0c472aab",
   "metadata": {},
   "outputs": [
    {
     "name": "stdout",
     "output_type": "stream",
     "text": [
      "✅ Results are saved to .\\Results\\Result_hybrid_model.jsonl\n"
     ]
    }
   ],
   "source": [
    "# Save the results to a JSONL file\n",
    "output_file_path = os.path.join(\".\", \"Results\", \"Result_deep_learning_DistilBERT_model.jsonl\")\n",
    "with open(output_file_path, \"w\") as jsonl_file:\n",
    "    for idx, (text, label) in enumerate(zip(df_test_data[\"content\"], y_pred_test)):\n",
    "        jsonl_file.write(json.dumps(\n",
    "            {\n",
    "                'id': idx,\n",
    "                'predicted_label': int(label),\n",
    "                'raw_text': text\n",
    "            }\n",
    "        ) + \"\\n\")\n",
    "print(f\"✅ Results are saved to {output_file_path}\")"
   ]
  }
 ],
 "metadata": {
  "kernelspec": {
   "display_name": "project-venv",
   "language": "python",
   "name": "python3"
  },
  "language_info": {
   "codemirror_mode": {
    "name": "ipython",
    "version": 3
   },
   "file_extension": ".py",
   "mimetype": "text/x-python",
   "name": "python",
   "nbconvert_exporter": "python",
   "pygments_lexer": "ipython3",
   "version": "3.10.7"
  }
 },
 "nbformat": 4,
 "nbformat_minor": 5
}

{
 "cells": [
  {
   "cell_type": "markdown",
   "id": "1d3c453d",
   "metadata": {},
   "source": [
    "# Sentiment Analysis"
   ]
  },
  {
   "cell_type": "markdown",
   "id": "63c0f59d",
   "metadata": {},
   "source": [
    "Research Question: What linguistic patterns and sentiment markers are most indicative of suicidal intent in social media text?"
   ]
  },
  {
   "cell_type": "markdown",
   "id": "e74e6433",
   "metadata": {},
   "source": [
    "## Import Relevant Modules"
   ]
  },
  {
   "cell_type": "code",
   "execution_count": 24,
   "id": "eb313e2c",
   "metadata": {},
   "outputs": [],
   "source": [
    "import os\n",
    "import sys\n",
    "DATA_PATH = os.path.abspath(os.path.join(os.path.dirname(os.curdir), 'data'))\n",
    "ASSIGNMENT_1_PATH = os.path.abspath(\n",
    "    os.path.join(\n",
    "        os.path.dirname(os.curdir), \n",
    "        \"..\",\n",
    "        'Assignment 1',\n",
    "        \"src\"\n",
    "        )\n",
    ")\n",
    "sys.path.append(DATA_PATH)\n",
    "sys.path.append(ASSIGNMENT_1_PATH)\n",
    "import zipfile\n",
    "import shutil\n",
    "import re\n",
    "from collections import Counter\n",
    "import numpy as np\n",
    "import pandas as pd"
   ]
  },
  {
   "cell_type": "code",
   "execution_count": 28,
   "id": "810c9b97",
   "metadata": {},
   "outputs": [
    {
     "name": "stdout",
     "output_type": "stream",
     "text": [
      "Number of Stopwords in consideration: 779\n"
     ]
    }
   ],
   "source": [
    "stopwords = open(\n",
    "    os.path.join(\n",
    "        ASSIGNMENT_1_PATH, \n",
    "        \"StopWords.txt\"\n",
    "    ), \"r\").read().splitlines()\n",
    "print(f\"Number of Stopwords in consideration: {len(stopwords)}\")"
   ]
  },
  {
   "cell_type": "markdown",
   "id": "8ee28c50",
   "metadata": {},
   "source": [
    "## Fetch the Texts from the Datasets"
   ]
  },
  {
   "cell_type": "code",
   "execution_count": 30,
   "id": "8afe568f",
   "metadata": {},
   "outputs": [],
   "source": [
    "depression = pd.read_json(\n",
    "    os.path.join(\n",
    "        DATA_PATH, \n",
    "        'Depression_Tweets', \n",
    "        'depression_json'\n",
    "    )\n",
    ")\n",
    "reddit = pd.read_csv(\n",
    "    os.path.join(\n",
    "        DATA_PATH, \n",
    "        'Reddit_SuicideWatch', \n",
    "        'reddit_suicidewatch.csv'\n",
    "    ), \n",
    "    encoding='utf-8'\n",
    ")\n",
    "social_media_sentiment_analysis = pd.read_csv(\n",
    "    os.path.join(\n",
    "        DATA_PATH, \n",
    "        'Social_Media_Sentiments_Analysis_Dataset', \n",
    "        'sentimentdataset_annotated_binary.csv'\n",
    "    ), \n",
    "    encoding='utf-8'\n",
    ")\n",
    "twitter_suicidal_data = pd.read_csv(\n",
    "    os.path.join(\n",
    "        DATA_PATH, \n",
    "        'Twitter_Suicidal_Data', \n",
    "        'twitter-suicidal_data.csv'\n",
    "    ), \n",
    "    encoding='utf-8'\n",
    ")\n"
   ]
  },
  {
   "cell_type": "code",
   "execution_count": 32,
   "id": "7488d3b5",
   "metadata": {},
   "outputs": [
    {
     "data": {
      "text/plain": [
       "Index(['content'], dtype='object')"
      ]
     },
     "execution_count": 32,
     "metadata": {},
     "output_type": "execute_result"
    }
   ],
   "source": [
    "depression.columns"
   ]
  },
  {
   "cell_type": "code",
   "execution_count": 35,
   "id": "a3df1645",
   "metadata": {},
   "outputs": [
    {
     "data": {
      "text/plain": [
       "Index(['subreddit', 'selftext', 'author_fullname', 'title', 'hide_score',\n",
       "       'name', 'upvote_ratio', 'ups', 'author_flair_template_id', 'score',\n",
       "       'edited', 'author_flair_css_class', 'created', 'selftext_html',\n",
       "       'no_follow', 'over_18', 'id', 'author', 'num_comments',\n",
       "       'author_flair_text_color', 'permalink', 'url', 'created_utc'],\n",
       "      dtype='object')"
      ]
     },
     "execution_count": 35,
     "metadata": {},
     "output_type": "execute_result"
    }
   ],
   "source": [
    "reddit.columns"
   ]
  },
  {
   "cell_type": "code",
   "execution_count": 37,
   "id": "d22967a2",
   "metadata": {},
   "outputs": [
    {
     "data": {
      "text/plain": [
       "Index(['Unnamed: 0.1', 'Unnamed: 0', 'Text', 'Sentiment', 'Timestamp', 'User',\n",
       "       'Platform', 'Hashtags', 'Retweets', 'Likes', 'Country', 'Year', 'Month',\n",
       "       'Day', 'Hour', 'Annotation'],\n",
       "      dtype='object')"
      ]
     },
     "execution_count": 37,
     "metadata": {},
     "output_type": "execute_result"
    }
   ],
   "source": [
    "social_media_sentiment_analysis.columns"
   ]
  },
  {
   "cell_type": "code",
   "execution_count": 40,
   "id": "9b182ccc",
   "metadata": {},
   "outputs": [
    {
     "data": {
      "text/plain": [
       "Index(['tweet', 'intention'], dtype='object')"
      ]
     },
     "execution_count": 40,
     "metadata": {},
     "output_type": "execute_result"
    }
   ],
   "source": [
    "twitter_suicidal_data.columns"
   ]
  },
  {
   "cell_type": "markdown",
   "id": "0be9f92c",
   "metadata": {},
   "source": [
    "## N-Gram Analysis"
   ]
  },
  {
   "cell_type": "code",
   "execution_count": 29,
   "id": "82413eba",
   "metadata": {},
   "outputs": [],
   "source": [
    "def get_n_gram(n: int=2, corpus: str=\"\", stopwords: list=[]):\n",
    "    pattern = re.compile(r'\\b\\w+\\b')\n",
    "    # filtered corpus should have no punctuations AND stopwords\n",
    "    filtered_corpus = [word for word in corpus if pattern.match(word) and word not in stopwords]\n",
    "    # Compute bigrams from the filtered corpus\n",
    "    ngrams = [tuple(filtered_corpus[i:i+n]) for i in range(len(filtered_corpus)-n+1)]\n",
    "    return ngrams"
   ]
  },
  {
   "cell_type": "code",
   "execution_count": null,
   "id": "e4c18eeb",
   "metadata": {},
   "outputs": [
    {
     "name": "stdout",
     "output_type": "stream",
     "text": [
      "Number of 5-gram from Depression JSON dataset: 13\n",
      "First 20 5-grams from Depression JSON dataset: [('Yea', 'typically', 'crying', 'is', 'a'), ('typically', 'crying', 'is', 'a', 'sign'), ('crying', 'is', 'a', 'sign', 'of'), ('is', 'a', 'sign', 'of', 'uncontrolled'), ('a', 'sign', 'of', 'uncontrolled', 'depression'), ('sign', 'of', 'uncontrolled', 'depression', 'which'), ('of', 'uncontrolled', 'depression', 'which', 'he'), ('uncontrolled', 'depression', 'which', 'he', 'has'), ('depression', 'which', 'he', 'has', 'struggled'), ('which', 'he', 'has', 'struggled', 'with'), ('he', 'has', 'struggled', 'with', 'his'), ('has', 'struggled', 'with', 'his', 'whole'), ('struggled', 'with', 'his', 'whole', \"life'\")]\n",
      "Number of 5-gram from Depression JSON dataset: 225\n",
      "First 20 5-grams from Depression JSON dataset: [('Help?', 'I', 'reached', 'a', 'really'), ('I', 'reached', 'a', 'really', 'low'), ('reached', 'a', 'really', 'low', 'point'), ('a', 'really', 'low', 'point', 'today.'), ('really', 'low', 'point', 'today.', 'I'), ('low', 'point', 'today.', 'I', 'am'), ('point', 'today.', 'I', 'am', 'struggling'), ('today.', 'I', 'am', 'struggling', 'a'), ('I', 'am', 'struggling', 'a', 'lot'), ('am', 'struggling', 'a', 'lot', 'financially'), ('struggling', 'a', 'lot', 'financially', 'trying'), ('a', 'lot', 'financially', 'trying', 'to'), ('lot', 'financially', 'trying', 'to', 'support'), ('financially', 'trying', 'to', 'support', 'my'), ('trying', 'to', 'support', 'my', 'two'), ('to', 'support', 'my', 'two', 'kids.'), ('support', 'my', 'two', 'kids.', 'I'), ('my', 'two', 'kids.', 'I', 'may'), ('two', 'kids.', 'I', 'may', 'lose'), ('kids.', 'I', 'may', 'lose', 'my')]\n",
      "Number of 5-gram from Depression JSON dataset: 3\n",
      "First 20 5-grams from Depression JSON dataset: [('Enjoying', 'a', 'beautiful', 'day', 'at'), ('a', 'beautiful', 'day', 'at', 'the'), ('beautiful', 'day', 'at', 'the', 'park!')]\n",
      "Number of 5-gram from Depression JSON dataset: 75\n",
      "First 20 5-grams from Depression JSON dataset: [('my', 'life', 'is', 'meaningless', 'i'), ('life', 'is', 'meaningless', 'i', 'just'), ('is', 'meaningless', 'i', 'just', 'want'), ('meaningless', 'i', 'just', 'want', 'to'), ('i', 'just', 'want', 'to', 'end'), ('just', 'want', 'to', 'end', 'my'), ('want', 'to', 'end', 'my', 'life'), ('to', 'end', 'my', 'life', 'so'), ('end', 'my', 'life', 'so', 'badly'), ('my', 'life', 'so', 'badly', 'my'), ('life', 'so', 'badly', 'my', 'life'), ('so', 'badly', 'my', 'life', 'is'), ('badly', 'my', 'life', 'is', 'completely'), ('my', 'life', 'is', 'completely', 'empty'), ('life', 'is', 'completely', 'empty', 'and'), ('is', 'completely', 'empty', 'and', 'i'), ('completely', 'empty', 'and', 'i', 'dont'), ('empty', 'and', 'i', 'dont', 'want'), ('and', 'i', 'dont', 'want', 'to'), ('i', 'dont', 'want', 'to', 'have')]\n"
     ]
    }
   ],
   "source": [
    "N = 5\n",
    "# Depression\n",
    "ngrams_depression = get_n_gram(\n",
    "    n=N,\n",
    "    corpus=depression['content'][0].split(),\n",
    ")\n",
    "print(f\"Number of {N}-gram from Depression JSON dataset: {len(ngrams_depression)}\")\n",
    "print(f\"First 20 {N}-grams from Depression JSON dataset: {ngrams_depression[:20]}\")\n",
    "\n",
    "# Reddit\n",
    "reddit['combined_text'] = reddit['title'] + \" \" + reddit['selftext']\n",
    "ngrams_reddit = get_n_gram(\n",
    "    n=N,\n",
    "    corpus=reddit['combined_text'][0].split(),\n",
    ")\n",
    "print(f\"Number of {N}-gram from Reddit SuicideWatch dataset: {len(ngrams_reddit)}\")\n",
    "print(f\"First 20 {N}-grams from Reddit SuicideWatch dataset: {ngrams_reddit[:20]}\")\n",
    "\n",
    "# Social Media Sentiment Analysis\n",
    "social_media_sentiment_analysis['combined_text'] = social_media_sentiment_analysis['Text'] + \" \" + social_media_sentiment_analysis['Hashtags']\n",
    "ngrams_social_media_sentiment_analysis = get_n_gram(\n",
    "    n=N,\n",
    "    corpus=social_media_sentiment_analysis['combined_text'][0].split(),\n",
    ")\n",
    "print(f\"Number of {N}-gram from Social Media Sentiment Analysis dataset: {len(ngrams_social_media_sentiment_analysis)}\")\n",
    "print(f\"First 20 {N}-grams from Social Media Sentiment Analysis dataset: {ngrams_social_media_sentiment_analysis[:20]}\")\n",
    "\n",
    "# Twitter Suicidal Data\n",
    "ngrams_twitter_suicidal_data = get_n_gram(\n",
    "    n=N,\n",
    "    corpus=twitter_suicidal_data['tweet'][0].split(),\n",
    ")\n",
    "print(f\"Number of {N}-gram from Twitter Suicidal dataset: {len(ngrams_twitter_suicidal_data)}\")\n",
    "print(f\"First 20 {N}-grams from Twitter Suicidal dataset: {ngrams_twitter_suicidal_data[:20]}\")"
   ]
  },
  {
   "cell_type": "markdown",
   "id": "581c5db6",
   "metadata": {},
   "source": [
    "## Sentiment Analysis with TextBlob"
   ]
  }
 ],
 "metadata": {
  "kernelspec": {
   "display_name": "project-venv",
   "language": "python",
   "name": "python3"
  },
  "language_info": {
   "codemirror_mode": {
    "name": "ipython",
    "version": 3
   },
   "file_extension": ".py",
   "mimetype": "text/x-python",
   "name": "python",
   "nbconvert_exporter": "python",
   "pygments_lexer": "ipython3",
   "version": "3.10.7"
  }
 },
 "nbformat": 4,
 "nbformat_minor": 5
}

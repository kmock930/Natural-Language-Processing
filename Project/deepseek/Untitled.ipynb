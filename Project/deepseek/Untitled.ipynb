{
 "cells": [
  {
   "cell_type": "code",
   "execution_count": 1,
   "id": "0b66d7c6-7ca6-4923-95be-4886c7f070e3",
   "metadata": {},
   "outputs": [
    {
     "name": "stdout",
     "output_type": "stream",
     "text": [
      "C:\\Users\\CW\\Natural-Language-Processing-new\\Project\\deepseek\\deepseek\n"
     ]
    }
   ],
   "source": [
    "import os\n",
    "print(os.path.abspath(\"deepseek\"))\n"
   ]
  },
  {
   "cell_type": "code",
   "execution_count": null,
   "id": "23460cf3-bd6c-4eb8-955f-f59f5538dc31",
   "metadata": {},
   "outputs": [],
   "source": []
  },
  {
   "cell_type": "code",
   "execution_count": null,
   "id": "52ef46e2-70db-49ce-9821-934e67f02872",
   "metadata": {},
   "outputs": [],
   "source": []
  },
  {
   "cell_type": "code",
   "execution_count": null,
   "id": "48a91f23-11a6-4929-b3ea-030f4f41847f",
   "metadata": {},
   "outputs": [],
   "source": []
  }
 ],
 "metadata": {
  "kernelspec": {
   "display_name": "Python 3 (ipykernel)",
   "language": "python",
   "name": "python3"
  },
  "language_info": {
   "codemirror_mode": {
    "name": "ipython",
    "version": 3
   },
   "file_extension": ".py",
   "mimetype": "text/x-python",
   "name": "python",
   "nbconvert_exporter": "python",
   "pygments_lexer": "ipython3",
   "version": "3.12.4"
  }
 },
 "nbformat": 4,
 "nbformat_minor": 5
}

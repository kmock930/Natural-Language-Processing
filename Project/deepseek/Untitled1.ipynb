{
 "cells": [
  {
   "cell_type": "code",
   "execution_count": 1,
   "id": "c6099811-e473-4531-95b2-543180df0035",
   "metadata": {},
   "outputs": [
    {
     "name": "stdout",
     "output_type": "stream",
     "text": [
      "C:\\Users\\CW\\Natural-Language-Processing-new\\Project\\deepseek\\deepseek\n"
     ]
    }
   ],
   "source": [
    "import os\n",
    "print(os.path.abspath(\"deepseek\"))\n"
   ]
  },
  {
   "cell_type": "code",
   "execution_count": null,
   "id": "f264d162-7a76-4a9f-a096-1fdf0c1b52ab",
   "metadata": {},
   "outputs": [],
   "source": []
  }
 ],
 "metadata": {
  "kernelspec": {
   "display_name": "Python 3 (ipykernel)",
   "language": "python",
   "name": "python3"
  },
  "language_info": {
   "codemirror_mode": {
    "name": "ipython",
    "version": 3
   },
   "file_extension": ".py",
   "mimetype": "text/x-python",
   "name": "python",
   "nbconvert_exporter": "python",
   "pygments_lexer": "ipython3",
   "version": "3.12.4"
  }
 },
 "nbformat": 4,
 "nbformat_minor": 5
}
